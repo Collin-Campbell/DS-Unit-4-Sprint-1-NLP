{
  "nbformat": 4,
  "nbformat_minor": 0,
  "metadata": {
    "kernelspec": {
      "display_name": "U4-S1-NLP-DS17",
      "language": "python",
      "name": "u4-s1-nlp-ds17"
    },
    "language_info": {
      "codemirror_mode": {
        "name": "ipython",
        "version": 3
      },
      "file_extension": ".py",
      "mimetype": "text/x-python",
      "name": "python",
      "nbconvert_exporter": "python",
      "pygments_lexer": "ipython3",
      "version": "3.7.0"
    },
    "toc-autonumbering": false,
    "toc-showcode": false,
    "toc-showmarkdowntxt": false,
    "colab": {
      "name": "COLAB VERSION LS_DS_411_Text Data_Lecture.ipynb",
      "provenance": [],
      "collapsed_sections": []
    }
  },
  "cells": [
    {
      "cell_type": "markdown",
      "metadata": {
        "toc-hr-collapsed": false,
        "id": "BlwQRqffGEqb"
      },
      "source": [
        "Lambda School Data Science\n",
        "\n",
        "*Unit 4, Sprint 1, Module 1*\n",
        "\n",
        "---\n",
        "<h1 id=\"moduleTitle\"> Natural Language Processing Introduction (Prepare)</h1>\n",
        "\n",
        "\"Natural\" meaning - not computer languages but spoken/written human languages. The hard thing about NLP is that human languages are far less structured or consistent than computer languages. This is perhaps the largest source of difficulty when trying to get computers to \"understand\" human languages. How do you get a machine to understand sarcasm, and irony, and synonyms, connotation, denotation, nuance, and tone of voice --all without it having lived a lifetime of experience for context? If you think about it, our human brains have been exposed to quite a lot of training data to help us interpret languages, and even then we misunderstand each other pretty frequently. \n",
        "    \n",
        "\n",
        "<h2 id='moduleObjectives'>Learning Objectives</h2>\n",
        "\n",
        "By the end of end of this module, a student should be able to:\n",
        "* <a href=\"#p1\">Objective 1</a>: Tokenize text\n",
        "* <a href=\"#p1\">Objective 2</a>: Remove stop words from text\n",
        "* <a href=\"#p3\">Objective 3</a>: Perform stemming and lemmatization on tokens\n",
        "\n",
        "## Conda Environments\n",
        "\n",
        "You will be completing each module this sprint on your machine. We will be using conda environments to manage the packages and their dependencies for this sprint's content. In a classroom setting, instructors typically abstract away environment for you. However, environment management is an important professional data science skill. We showed you how to manage environments using pipvirtual env during Unit 3, but in this sprint, we will introduce an environment management tool common in the data science community: \n",
        "\n",
        "> __conda__: Package, dependency and environment management for any language—Python, R, Ruby, Lua, Scala, Java, JavaScript, C/ C++, FORTRAN, and more.\n",
        "\n",
        "The easiest way to install conda on your machine is via the [Anaconda Distribution](https://www.anaconda.com/distribution/) of Python & R. Once you have conda installed, read [\"A Guide to Conda Environments\"](https://towardsdatascience.com/a-guide-to-conda-environments-bc6180fc533). This article will provide an introduce into some of the conda basics. If you need some additional help getting started, the official [\"Setting started with conda\"](https://conda.io/projects/conda/en/latest/user-guide/getting-started.html) guide will point you in the right direction. \n",
        "\n",
        ":snake: \n",
        "\n",
        "To get the sprint environment setup: \n",
        "\n",
        "1. Open your command line tool (Terminal for MacOS, Anaconda Prompt for Windows)\n",
        "2. Navigate to the folder with this sprint's content. There should be a `requirements.txt`\n",
        "3. Run `conda create -n U4-S1-NLP python==3.7` => You can also rename the environment if you would like. Once the command completes, your conda environment should be ready.\n",
        "4. Now, we are going to add in the require python packages for this sprint. You will need to 'activate' the conda environment: `source activate U4-S1-NLP` on Terminal or `conda activate U4-S1-NLP` on Anaconda Prompt. Once your environment is activate, run `pip install -r requirements.txt` which will install the required packages into your environment.\n",
        "5. We are going to also add an Ipython Kernel reference to your conda environment, so we can use it from JupyterLab. \n",
        "6. Next run `python -m ipykernel install --user --name U4-S1-NLP --display-name \"U4-S1-NLP (Python3)\"` => This will add a json object to an ipython file, so JupterLab will know that it can use this isolated instance of Python. :) \n",
        "7. Last step, we need to install the models for Spacy. Run these commands `python -m spacy download en_core_web_md` and `python -m spacy download en_core_web_lg`\n",
        "8. Deactivate your conda environment and launch JupyterLab. You should know see \"U4-S1-NLP (Python3)\" in the list of available kernels on launch screen. "
      ]
    },
    {
      "cell_type": "markdown",
      "metadata": {
        "toc-hr-collapsed": false,
        "id": "I0ssyXeiGEqc"
      },
      "source": [
        "# Tokenze Text (Learn)\n",
        "<a id=\"p1\"></a>"
      ]
    },
    {
      "cell_type": "markdown",
      "metadata": {
        "toc-hr-collapsed": true,
        "id": "sd6cxaNTGEqc"
      },
      "source": [
        "## Overview\n",
        "\n",
        "> **token**: an instance of a sequence of characters in some particular document that are grouped together as a useful semantic unit for processing\n",
        "\n",
        "> [_*Introduction to Information Retrival*_](https://nlp.stanford.edu/IR-book/)\n",
        "\n",
        "\n",
        "### The attributes of good tokens\n",
        "\n",
        "* Should be stored in an iterable data structure\n",
        "  - Allows analysis of the \"semantic unit\"\n",
        "* Should be all the same case\n",
        "  - Reduces the complexity of our data\n",
        "* Should be free of non-alphanumeric characters (ie punctuation, whitespace)\n",
        "  - Removes information that is probably not relevant to the analysis"
      ]
    },
    {
      "cell_type": "markdown",
      "metadata": {
        "id": "dK-EKGVNGEqd"
      },
      "source": [
        "Let's pretend we are trying analyze the random sequence here. Question: what is the most common character in this sequence?"
      ]
    },
    {
      "cell_type": "code",
      "metadata": {
        "id": "CcGP3pnqAs9p"
      },
      "source": [
        "# FOR COLAB ONLY -- Dependencies for the week (instead of conda)\n",
        "!wget https://raw.githubusercontent.com/LambdaSchool/DS-Unit-4-Sprint-1-NLP/main/requirements.txt\n",
        "!pip install -r requirements.txt"
      ],
      "execution_count": null,
      "outputs": []
    },
    {
      "cell_type": "code",
      "metadata": {
        "id": "dpyDamCGCOZe"
      },
      "source": [
        "!python -m spacy download en_core_web_lg  # Can do lg, takes awhile\n",
        "# Also on Colab, you need to restart runtime after this step!"
      ],
      "execution_count": null,
      "outputs": []
    },
    {
      "cell_type": "code",
      "metadata": {
        "id": "NODbGehhGEqe"
      },
      "source": [
        "random_seq = \"AABAAFBBBBCGCDDEEEFCFFDFFAFFZFGGGGHEAFJAAZBBFCZ\""
      ],
      "execution_count": 2,
      "outputs": []
    },
    {
      "cell_type": "markdown",
      "metadata": {
        "id": "Uj0FHiJEGEqh"
      },
      "source": [
        "A useful unit of analysis for us is going to be a letter or character"
      ]
    },
    {
      "cell_type": "code",
      "metadata": {
        "id": "OFWePC6XGEqh",
        "colab": {
          "base_uri": "https://localhost:8080/"
        },
        "outputId": "1f335d83-8b48-4368-ffe7-37ede4aae138"
      },
      "source": [
        "tokens = list(random_seq)\n",
        "print(tokens)"
      ],
      "execution_count": 3,
      "outputs": [
        {
          "output_type": "stream",
          "text": [
            "['A', 'A', 'B', 'A', 'A', 'F', 'B', 'B', 'B', 'B', 'C', 'G', 'C', 'D', 'D', 'E', 'E', 'E', 'F', 'C', 'F', 'F', 'D', 'F', 'F', 'A', 'F', 'F', 'Z', 'F', 'G', 'G', 'G', 'G', 'H', 'E', 'A', 'F', 'J', 'A', 'A', 'Z', 'B', 'B', 'F', 'C', 'Z']\n"
          ],
          "name": "stdout"
        }
      ]
    },
    {
      "cell_type": "markdown",
      "metadata": {
        "id": "8tbp-hyDGEql"
      },
      "source": [
        "Our tokens are already \"good\": in an iterable datastructure, all the same case, and free of noise characters (punctuation, whitespace), so we can jump straight into analysis."
      ]
    },
    {
      "cell_type": "code",
      "metadata": {
        "id": "mFQcACruGEql",
        "colab": {
          "base_uri": "https://localhost:8080/",
          "height": 299
        },
        "outputId": "dc7f904d-d4cb-477b-a20c-0135bb86a3f5"
      },
      "source": [
        "import seaborn as sns\n",
        "\n",
        "sns.countplot(tokens);"
      ],
      "execution_count": 4,
      "outputs": [
        {
          "output_type": "stream",
          "text": [
            "/usr/local/lib/python3.6/dist-packages/statsmodels/tools/_testing.py:19: FutureWarning: pandas.util.testing is deprecated. Use the functions in the public API at pandas.testing instead.\n",
            "  import pandas.util.testing as tm\n"
          ],
          "name": "stderr"
        },
        {
          "output_type": "display_data",
          "data": {
            "image/png": "[encoded data removed]",
            "text/plain": [
              "<Figure size 432x288 with 1 Axes>"
            ]
          },
          "metadata": {
            "tags": [],
            "needs_background": "light"
          }
        }
      ]
    },
    {
      "cell_type": "markdown",
      "metadata": {
        "id": "o3TbbxfHGEqo"
      },
      "source": [
        "The most common character in our sequence is  \"F\". We can't just glance at the the sequence to know which character is the most common. We (humans) struggle to subitize complex data (like random text sequences).\n",
        "\n",
        "> __Subitize__ is the ability to tell the number of objects in a set, quickly, without counting.  \n",
        "\n",
        "We need to chunk the data into countable pieces \"tokens\" for us to analyze them. This inability subitize text data is the motivation for our discussion today."
      ]
    },
    {
      "cell_type": "markdown",
      "metadata": {
        "toc-hr-collapsed": true,
        "id": "UMa8NJjlGEqo"
      },
      "source": [
        "### Tokenizing with Pure Python"
      ]
    },
    {
      "cell_type": "code",
      "metadata": {
        "id": "im96HX4XGEqp"
      },
      "source": [
        "sample = \"Friends, Romans, countrymen, lend me your ears;\""
      ],
      "execution_count": 5,
      "outputs": []
    },
    {
      "cell_type": "code",
      "metadata": {
        "id": "p_ShzEFlOf2x",
        "outputId": "02723db2-3e55-423d-dd6c-8bd5f33a060c",
        "colab": {
          "base_uri": "https://localhost:8080/",
          "height": 35
        }
      },
      "source": [
        "sample"
      ],
      "execution_count": 6,
      "outputs": [
        {
          "output_type": "execute_result",
          "data": {
            "application/vnd.google.colaboratory.intrinsic+json": {
              "type": "string"
            },
            "text/plain": [
              "'Friends, Romans, countrymen, lend me your ears;'"
            ]
          },
          "metadata": {
            "tags": []
          },
          "execution_count": 6
        }
      ]
    },
    {
      "cell_type": "markdown",
      "metadata": {
        "id": "Q8ACUekrGEqr"
      },
      "source": [
        "##### Iterable Tokens\n",
        "\n",
        "A string object in Python is already iterable. However, the item you iterate over is a character not a token:\n",
        "\n",
        "```\n",
        "from time import sleep\n",
        "for num, character in enumerate(sample):\n",
        "    sleep(.5)\n",
        "    print(f\"Char {num} - {character}\", end=\"\\r\")\n",
        "```\n",
        "\n",
        "If we instead care about the words in our sample (our semantic unit), we can use the string method `.split()` to separate the whitespace and create iterable units. :)"
      ]
    },
    {
      "cell_type": "code",
      "metadata": {
        "id": "Q5Vh69V5GEqr",
        "colab": {
          "base_uri": "https://localhost:8080/"
        },
        "outputId": "e56b500a-02fc-4f1c-d92d-9d40f85f8b37"
      },
      "source": [
        "sample.split(\" \")"
      ],
      "execution_count": 8,
      "outputs": [
        {
          "output_type": "execute_result",
          "data": {
            "text/plain": [
              "['Friends,', 'Romans,', 'countrymen,', 'lend', 'me', 'your', 'ears;']"
            ]
          },
          "metadata": {
            "tags": []
          },
          "execution_count": 8
        }
      ]
    },
    {
      "cell_type": "markdown",
      "metadata": {
        "id": "3h3fMFY0GEqu"
      },
      "source": [
        "##### Case Normalization\n",
        "A common data cleaning data cleaning task with token is to standardize or normalize the case. Normalizing case reduces the chance that you have duplicate records for things which have practically the same semantic meaning. You can use either the `.lower()` or `.upper()` string methods to normalize case.\n",
        "\n",
        "Consider the following example: "
      ]
    },
    {
      "cell_type": "code",
      "metadata": {
        "id": "dm-USIIlBX8a",
        "colab": {
          "base_uri": "https://localhost:8080/"
        },
        "outputId": "154abe28-af5b-41a9-8689-eda845ccab89"
      },
      "source": [
        "# COLAB ONLY -- download and unzip dataset \n",
        "# If you're working locally, you should already have a copy of this dataset\n",
        "!wget https://github.com/LambdaSchool/DS-Unit-4-Sprint-1-NLP/blob/main/module1-text-data/data/Datafiniti_Amazon_Consumer_Reviews_of_Amazon_Products_May19.csv.zip?raw=true -O datafiniti.zip\n",
        "!unzip datafiniti.zip"
      ],
      "execution_count": 9,
      "outputs": [
        {
          "output_type": "stream",
          "text": [
            "--2020-11-30 17:37:51--  https://github.com/LambdaSchool/DS-Unit-4-Sprint-1-NLP/blob/main/module1-text-data/data/Datafiniti_Amazon_Consumer_Reviews_of_Amazon_Products_May19.csv.zip?raw=true\n",
            "Resolving github.com (github.com)... 140.82.114.4\n",
            "Connecting to github.com (github.com)|140.82.114.4|:443... connected.\n",
            "HTTP request sent, awaiting response... 302 Found\n",
            "Location: https://github.com/LambdaSchool/DS-Unit-4-Sprint-1-NLP/raw/main/module1-text-data/data/Datafiniti_Amazon_Consumer_Reviews_of_Amazon_Products_May19.csv.zip [following]\n",
            "--2020-11-30 17:37:52--  https://github.com/LambdaSchool/DS-Unit-4-Sprint-1-NLP/raw/main/module1-text-data/data/Datafiniti_Amazon_Consumer_Reviews_of_Amazon_Products_May19.csv.zip\n",
            "Reusing existing connection to github.com:443.\n",
            "HTTP request sent, awaiting response... 302 Found\n",
            "Location: https://raw.githubusercontent.com/LambdaSchool/DS-Unit-4-Sprint-1-NLP/main/module1-text-data/data/Datafiniti_Amazon_Consumer_Reviews_of_Amazon_Products_May19.csv.zip [following]\n",
            "--2020-11-30 17:37:52--  https://raw.githubusercontent.com/LambdaSchool/DS-Unit-4-Sprint-1-NLP/main/module1-text-data/data/Datafiniti_Amazon_Consumer_Reviews_of_Amazon_Products_May19.csv.zip\n",
            "Resolving raw.githubusercontent.com (raw.githubusercontent.com)... 151.101.0.133, 151.101.64.133, 151.101.128.133, ...\n",
            "Connecting to raw.githubusercontent.com (raw.githubusercontent.com)|151.101.0.133|:443... connected.\n",
            "HTTP request sent, awaiting response... 200 OK\n",
            "Length: 8600979 (8.2M) [application/zip]\n",
            "Saving to: ‘datafiniti.zip’\n",
            "\n",
            "datafiniti.zip      100%[===================>]   8.20M  26.5MB/s    in 0.3s    \n",
            "\n",
            "2020-11-30 17:37:53 (26.5 MB/s) - ‘datafiniti.zip’ saved [8600979/8600979]\n",
            "\n",
            "Archive:  datafiniti.zip\n",
            "  inflating: Datafiniti_Amazon_Consumer_Reviews_of_Amazon_Products_May19.csv  \n",
            "   creating: __MACOSX/\n",
            "  inflating: __MACOSX/._Datafiniti_Amazon_Consumer_Reviews_of_Amazon_Products_May19.csv  \n"
          ],
          "name": "stdout"
        }
      ]
    },
    {
      "cell_type": "code",
      "metadata": {
        "id": "i2K43cyJGEqu"
      },
      "source": [
        "import pandas as pd\n",
        "df = pd.read_csv('Datafiniti_Amazon_Consumer_Reviews_of_Amazon_Products_May19.csv')"
      ],
      "execution_count": 1,
      "outputs": []
    },
    {
      "cell_type": "code",
      "metadata": {
        "id": "zr3zZp47O832",
        "outputId": "7b862255-6896-4d14-c7eb-db8a932c1ea0",
        "colab": {
          "base_uri": "https://localhost:8080/",
          "height": 365
        }
      },
      "source": [
        "df.head(3)"
      ],
      "execution_count": 2,
      "outputs": [
        {
          "output_type": "execute_result",
          "data": {
            "text/html": [
              "<div>\n",
              "<style scoped>\n",
              "    .dataframe tbody tr th:only-of-type {\n",
              "        vertical-align: middle;\n",
              "    }\n",
              "\n",
              "    .dataframe tbody tr th {\n",
              "        vertical-align: top;\n",
              "    }\n",
              "\n",
              "    .dataframe thead th {\n",
              "        text-align: right;\n",
              "    }\n",
              "</style>\n",
              "<table border=\"1\" class=\"dataframe\">\n",
              "  <thead>\n",
              "    <tr style=\"text-align: right;\">\n",
              "      <th></th>\n",
              "      <th>id</th>\n",
              "      <th>dateAdded</th>\n",
              "      <th>dateUpdated</th>\n",
              "      <th>name</th>\n",
              "      <th>asins</th>\n",
              "      <th>brand</th>\n",
              "      <th>categories</th>\n",
              "      <th>primaryCategories</th>\n",
              "      <th>imageURLs</th>\n",
              "      <th>keys</th>\n",
              "      <th>manufacturer</th>\n",
              "      <th>manufacturerNumber</th>\n",
              "      <th>reviews.date</th>\n",
              "      <th>reviews.dateSeen</th>\n",
              "      <th>reviews.didPurchase</th>\n",
              "      <th>reviews.doRecommend</th>\n",
              "      <th>reviews.id</th>\n",
              "      <th>reviews.numHelpful</th>\n",
              "      <th>reviews.rating</th>\n",
              "      <th>reviews.sourceURLs</th>\n",
              "      <th>reviews.text</th>\n",
              "      <th>reviews.title</th>\n",
              "      <th>reviews.username</th>\n",
              "      <th>sourceURLs</th>\n",
              "    </tr>\n",
              "  </thead>\n",
              "  <tbody>\n",
              "    <tr>\n",
              "      <th>0</th>\n",
              "      <td>AVpgNzjwLJeJML43Kpxn</td>\n",
              "      <td>2015-10-30T08:59:32Z</td>\n",
              "      <td>2019-04-25T09:08:16Z</td>\n",
              "      <td>AmazonBasics AAA Performance Alkaline Batterie...</td>\n",
              "      <td>B00QWO9P0O,B00LH3DMUO</td>\n",
              "      <td>Amazonbasics</td>\n",
              "      <td>AA,AAA,Health,Electronics,Health &amp; Household,C...</td>\n",
              "      <td>Health &amp; Beauty</td>\n",
              "      <td>https://images-na.ssl-images-amazon.com/images...</td>\n",
              "      <td>amazonbasics/hl002619,amazonbasicsaaaperforman...</td>\n",
              "      <td>AmazonBasics</td>\n",
              "      <td>HL-002619</td>\n",
              "      <td>2017-03-02T00:00:00.000Z</td>\n",
              "      <td>2017-08-28T00:00:00Z</td>\n",
              "      <td>NaN</td>\n",
              "      <td>NaN</td>\n",
              "      <td>NaN</td>\n",
              "      <td>NaN</td>\n",
              "      <td>3</td>\n",
              "      <td>https://www.amazon.com/product-reviews/B00QWO9...</td>\n",
              "      <td>I order 3 of them and one of the item is bad q...</td>\n",
              "      <td>... 3 of them and one of the item is bad quali...</td>\n",
              "      <td>Byger yang</td>\n",
              "      <td>https://www.barcodable.com/upc/841710106442,ht...</td>\n",
              "    </tr>\n",
              "    <tr>\n",
              "      <th>1</th>\n",
              "      <td>AVpgNzjwLJeJML43Kpxn</td>\n",
              "      <td>2015-10-30T08:59:32Z</td>\n",
              "      <td>2019-04-25T09:08:16Z</td>\n",
              "      <td>AmazonBasics AAA Performance Alkaline Batterie...</td>\n",
              "      <td>B00QWO9P0O,B00LH3DMUO</td>\n",
              "      <td>Amazonbasics</td>\n",
              "      <td>AA,AAA,Health,Electronics,Health &amp; Household,C...</td>\n",
              "      <td>Health &amp; Beauty</td>\n",
              "      <td>https://images-na.ssl-images-amazon.com/images...</td>\n",
              "      <td>amazonbasics/hl002619,amazonbasicsaaaperforman...</td>\n",
              "      <td>AmazonBasics</td>\n",
              "      <td>HL-002619</td>\n",
              "      <td>2016-08-31T00:00:00.000Z</td>\n",
              "      <td>2017-08-28T00:00:00Z</td>\n",
              "      <td>NaN</td>\n",
              "      <td>NaN</td>\n",
              "      <td>NaN</td>\n",
              "      <td>NaN</td>\n",
              "      <td>4</td>\n",
              "      <td>https://www.amazon.com/product-reviews/B00QWO9...</td>\n",
              "      <td>Bulk is always the less expensive way to go fo...</td>\n",
              "      <td>... always the less expensive way to go for pr...</td>\n",
              "      <td>ByMG</td>\n",
              "      <td>https://www.barcodable.com/upc/841710106442,ht...</td>\n",
              "    </tr>\n",
              "    <tr>\n",
              "      <th>2</th>\n",
              "      <td>AVpgNzjwLJeJML43Kpxn</td>\n",
              "      <td>2015-10-30T08:59:32Z</td>\n",
              "      <td>2019-04-25T09:08:16Z</td>\n",
              "      <td>AmazonBasics AAA Performance Alkaline Batterie...</td>\n",
              "      <td>B00QWO9P0O,B00LH3DMUO</td>\n",
              "      <td>Amazonbasics</td>\n",
              "      <td>AA,AAA,Health,Electronics,Health &amp; Household,C...</td>\n",
              "      <td>Health &amp; Beauty</td>\n",
              "      <td>https://images-na.ssl-images-amazon.com/images...</td>\n",
              "      <td>amazonbasics/hl002619,amazonbasicsaaaperforman...</td>\n",
              "      <td>AmazonBasics</td>\n",
              "      <td>HL-002619</td>\n",
              "      <td>2016-12-06T00:00:00.000Z</td>\n",
              "      <td>2017-08-28T00:00:00Z</td>\n",
              "      <td>NaN</td>\n",
              "      <td>NaN</td>\n",
              "      <td>NaN</td>\n",
              "      <td>NaN</td>\n",
              "      <td>5</td>\n",
              "      <td>https://www.amazon.com/product-reviews/B00QWO9...</td>\n",
              "      <td>Well they are not Duracell but for the price i...</td>\n",
              "      <td>... are not Duracell but for the price i am ha...</td>\n",
              "      <td>BySharon Lambert</td>\n",
              "      <td>https://www.barcodable.com/upc/841710106442,ht...</td>\n",
              "    </tr>\n",
              "  </tbody>\n",
              "</table>\n",
              "</div>"
            ],
            "text/plain": [
              "                     id  ...                                         sourceURLs\n",
              "0  AVpgNzjwLJeJML43Kpxn  ...  https://www.barcodable.com/upc/841710106442,ht...\n",
              "1  AVpgNzjwLJeJML43Kpxn  ...  https://www.barcodable.com/upc/841710106442,ht...\n",
              "2  AVpgNzjwLJeJML43Kpxn  ...  https://www.barcodable.com/upc/841710106442,ht...\n",
              "\n",
              "[3 rows x 24 columns]"
            ]
          },
          "metadata": {
            "tags": []
          },
          "execution_count": 2
        }
      ]
    },
    {
      "cell_type": "code",
      "metadata": {
        "id": "icdSyZ4WPFlA",
        "outputId": "0dfa192a-4848-44e7-ba81-fc5e2f2efe63",
        "colab": {
          "base_uri": "https://localhost:8080/",
          "height": 35
        }
      },
      "source": [
        "df[\"reviews.text\"][0]"
      ],
      "execution_count": 14,
      "outputs": [
        {
          "output_type": "execute_result",
          "data": {
            "application/vnd.google.colaboratory.intrinsic+json": {
              "type": "string"
            },
            "text/plain": [
              "'I order 3 of them and one of the item is bad quality. Is missing backup spring so I have to put a pcs of aluminum to make the battery work.'"
            ]
          },
          "metadata": {
            "tags": []
          },
          "execution_count": 14
        }
      ]
    },
    {
      "cell_type": "code",
      "metadata": {
        "id": "vbsvd0VvGEqx",
        "colab": {
          "base_uri": "https://localhost:8080/"
        },
        "outputId": "accea9d3-a7c1-49ac-d4ab-eda6b18e3b1c"
      },
      "source": [
        "# Notice anything odd here? \n",
        "# without case standardization, we can have unnecessary distinctions like this \n",
        "df['brand'].value_counts()"
      ],
      "execution_count": 15,
      "outputs": [
        {
          "output_type": "execute_result",
          "data": {
            "text/plain": [
              "Amazon          16153\n",
              "Amazonbasics    12169\n",
              "AmazonBasics       10\n",
              "Name: brand, dtype: int64"
            ]
          },
          "metadata": {
            "tags": []
          },
          "execution_count": 15
        }
      ]
    },
    {
      "cell_type": "code",
      "metadata": {
        "id": "1xcFspj0GEqz",
        "colab": {
          "base_uri": "https://localhost:8080/"
        },
        "outputId": "31db9a5d-bea7-48c9-9445-4cdebf0d9270"
      },
      "source": [
        "# Much cleaner!\n",
        "df['brand'] = df['brand'].apply(lambda text: text.lower())\n",
        "df['brand'].value_counts()"
      ],
      "execution_count": 16,
      "outputs": [
        {
          "output_type": "execute_result",
          "data": {
            "text/plain": [
              "amazon          16153\n",
              "amazonbasics    12179\n",
              "Name: brand, dtype: int64"
            ]
          },
          "metadata": {
            "tags": []
          },
          "execution_count": 16
        }
      ]
    },
    {
      "cell_type": "markdown",
      "metadata": {
        "id": "YkhFYsNXGEq1"
      },
      "source": [
        "##### Keep Only Alphanumeric Characters\n",
        "Yes, we only want letters and numbers. Everything else is probably noise: punctuation, whitespace, and other notation. This one is little bit more complicated than our previous example. Here we will have to import the base package `re` (regular expressions). \n",
        "\n",
        "The only regex expression pattern you need for this is `'[^a-zA-Z 0-9]'` which keeps lower case letters, upper case letters, spaces, and numbers."
      ]
    },
    {
      "cell_type": "code",
      "metadata": {
        "id": "9tlDT6B0GEq2",
        "colab": {
          "base_uri": "https://localhost:8080/"
        },
        "outputId": "e0803ebe-1b52-4dcd-cc62-a6fbda170857"
      },
      "source": [
        "sample = sample+\" 911\"\n",
        "print(sample)"
      ],
      "execution_count": 17,
      "outputs": [
        {
          "output_type": "stream",
          "text": [
            "Friends, Romans, countrymen, lend me your ears; 911\n"
          ],
          "name": "stdout"
        }
      ]
    },
    {
      "cell_type": "code",
      "metadata": {
        "id": "YRY7kKSAGEq4",
        "colab": {
          "base_uri": "https://localhost:8080/",
          "height": 35
        },
        "outputId": "76eb4ec6-9141-4838-8ee4-1d3104665f68"
      },
      "source": [
        "# You can google for any number of Regex IDE\n",
        "# but here is the one that I shared in lecture: https://regexr.com/\n",
        "# remember that regex has its own syntax but the link I shared provides a nice cheat sheet \n",
        "# also, some tasks are so common that you could google search, for example, how to capture emails, take that solution, and tweak it for your specific needs \n",
        "import re\n",
        "\n",
        "re.sub('[^a-zA-Za-g0-9]', ' ', sample)"
      ],
      "execution_count": 20,
      "outputs": [
        {
          "output_type": "execute_result",
          "data": {
            "application/vnd.google.colaboratory.intrinsic+json": {
              "type": "string"
            },
            "text/plain": [
              "'Friends  Romans  countrymen  lend me your ears  911'"
            ]
          },
          "metadata": {
            "tags": []
          },
          "execution_count": 20
        }
      ]
    },
    {
      "cell_type": "markdown",
      "metadata": {
        "id": "obloLh7rGEq7"
      },
      "source": [
        "#### Two Minute Challenge \n",
        "- Complete the function `tokenize` below\n",
        "- Combine the methods which we discussed above to clean text before we analyze it\n",
        "- You can put the methods in any order you want"
      ]
    },
    {
      "cell_type": "code",
      "metadata": {
        "id": "0zgbOnoIGEq7"
      },
      "source": [
        "def tokenize(text):\n",
        "    \"\"\"Parses a string into a list of semantic units (words)\n",
        "\n",
        "    Args:\n",
        "        text (str): The string that the function will tokenize.\n",
        "\n",
        "    Returns:\n",
        "        list: tokens parsed out by the mechanics of your choice\n",
        "    \"\"\"\n",
        "    \n",
        "    # remove non-alphaunmeric\n",
        "    text = re.sub('[^a-zA-Z 0-9]', '', text)\n",
        "    # make all text lower case\n",
        "    text = text.lower()\n",
        "    # split into tokens using whitespaces \n",
        "    tokens = text.split(\" \")\n",
        "    \n",
        "    return tokens"
      ],
      "execution_count": 3,
      "outputs": []
    },
    {
      "cell_type": "code",
      "metadata": {
        "id": "e2jk0qMBRlG8",
        "outputId": "1fc10051-d480-451d-ff1e-85274c19222c",
        "colab": {
          "base_uri": "https://localhost:8080/",
          "height": 35
        }
      },
      "source": [
        "sample"
      ],
      "execution_count": 25,
      "outputs": [
        {
          "output_type": "execute_result",
          "data": {
            "application/vnd.google.colaboratory.intrinsic+json": {
              "type": "string"
            },
            "text/plain": [
              "'Friends, Romans, countrymen, lend me your ears; 911'"
            ]
          },
          "metadata": {
            "tags": []
          },
          "execution_count": 25
        }
      ]
    },
    {
      "cell_type": "code",
      "metadata": {
        "id": "qWsYy-LqGEq9",
        "colab": {
          "base_uri": "https://localhost:8080/"
        },
        "outputId": "ee3cf4c0-ea9b-447e-ebcc-034b5f3c886a"
      },
      "source": [
        "tokenize(sample)"
      ],
      "execution_count": 26,
      "outputs": [
        {
          "output_type": "execute_result",
          "data": {
            "text/plain": [
              "['friends', 'romans', 'countrymen', 'lend', 'me', 'your', 'ears', '911']"
            ]
          },
          "metadata": {
            "tags": []
          },
          "execution_count": 26
        }
      ]
    },
    {
      "cell_type": "markdown",
      "metadata": {
        "toc-hr-collapsed": true,
        "id": "erSMd4diGEq_"
      },
      "source": [
        "## Follow Along\n",
        "\n",
        "Our inability to analyze text data becomes quickly amplified in a business context. Consider the following: \n",
        "\n",
        "A business which sells widgets also collects customer reviews of those widgets. When the business first started out, they had a human read the reviews to look for patterns. Now, the business sells thousands of widgets a month. The human readers can't keep up with the pace of reviews to synthesize an accurate analysis. They need some science to help them analyze their data.\n",
        "\n",
        "Now, let's pretend that business is Amazon, and the widgets are Amazon products such as the Alexa, Echo, or other AmazonBasics products. Let's analyze their reviews with some counts. This dataset is available on [Kaggle](https://www.kaggle.com/datafiniti/consumer-reviews-of-amazon-products/)."
      ]
    },
    {
      "cell_type": "code",
      "metadata": {
        "id": "8Ap1zL81GErA",
        "outputId": "1527eeca-636f-4bb0-a442-27a31af9fd34",
        "colab": {
          "base_uri": "https://localhost:8080/"
        }
      },
      "source": [
        "\"\"\"\n",
        "Import Statements\n",
        "\"\"\"\n",
        "\n",
        "# Base\n",
        "from collections import Counter\n",
        "import re\n",
        " \n",
        "import pandas as pd\n",
        "\n",
        "# Plotting\n",
        "import squarify\n",
        "import matplotlib.pyplot as plt\n",
        "import seaborn as sns\n",
        "\n",
        "# NLP Libraries\n",
        "import spacy\n",
        "from spacy.tokenizer import Tokenizer\n",
        "from nltk.stem import PorterStemmer\n",
        "\n",
        "nlp = spacy.load('en_core_web_lg')"
      ],
      "execution_count": 4,
      "outputs": [
        {
          "output_type": "stream",
          "text": [
            "/usr/local/lib/python3.6/dist-packages/statsmodels/tools/_testing.py:19: FutureWarning: pandas.util.testing is deprecated. Use the functions in the public API at pandas.testing instead.\n",
            "  import pandas.util.testing as tm\n"
          ],
          "name": "stderr"
        }
      ]
    },
    {
      "cell_type": "code",
      "metadata": {
        "id": "ydhFysF-GErC",
        "colab": {
          "base_uri": "https://localhost:8080/",
          "height": 266
        },
        "outputId": "de672576-d06c-4f50-a317-c80a88470072"
      },
      "source": [
        "df.head(2)"
      ],
      "execution_count": 5,
      "outputs": [
        {
          "output_type": "execute_result",
          "data": {
            "text/html": [
              "<div>\n",
              "<style scoped>\n",
              "    .dataframe tbody tr th:only-of-type {\n",
              "        vertical-align: middle;\n",
              "    }\n",
              "\n",
              "    .dataframe tbody tr th {\n",
              "        vertical-align: top;\n",
              "    }\n",
              "\n",
              "    .dataframe thead th {\n",
              "        text-align: right;\n",
              "    }\n",
              "</style>\n",
              "<table border=\"1\" class=\"dataframe\">\n",
              "  <thead>\n",
              "    <tr style=\"text-align: right;\">\n",
              "      <th></th>\n",
              "      <th>id</th>\n",
              "      <th>dateAdded</th>\n",
              "      <th>dateUpdated</th>\n",
              "      <th>name</th>\n",
              "      <th>asins</th>\n",
              "      <th>brand</th>\n",
              "      <th>categories</th>\n",
              "      <th>primaryCategories</th>\n",
              "      <th>imageURLs</th>\n",
              "      <th>keys</th>\n",
              "      <th>manufacturer</th>\n",
              "      <th>manufacturerNumber</th>\n",
              "      <th>reviews.date</th>\n",
              "      <th>reviews.dateSeen</th>\n",
              "      <th>reviews.didPurchase</th>\n",
              "      <th>reviews.doRecommend</th>\n",
              "      <th>reviews.id</th>\n",
              "      <th>reviews.numHelpful</th>\n",
              "      <th>reviews.rating</th>\n",
              "      <th>reviews.sourceURLs</th>\n",
              "      <th>reviews.text</th>\n",
              "      <th>reviews.title</th>\n",
              "      <th>reviews.username</th>\n",
              "      <th>sourceURLs</th>\n",
              "    </tr>\n",
              "  </thead>\n",
              "  <tbody>\n",
              "    <tr>\n",
              "      <th>0</th>\n",
              "      <td>AVpgNzjwLJeJML43Kpxn</td>\n",
              "      <td>2015-10-30T08:59:32Z</td>\n",
              "      <td>2019-04-25T09:08:16Z</td>\n",
              "      <td>AmazonBasics AAA Performance Alkaline Batterie...</td>\n",
              "      <td>B00QWO9P0O,B00LH3DMUO</td>\n",
              "      <td>Amazonbasics</td>\n",
              "      <td>AA,AAA,Health,Electronics,Health &amp; Household,C...</td>\n",
              "      <td>Health &amp; Beauty</td>\n",
              "      <td>https://images-na.ssl-images-amazon.com/images...</td>\n",
              "      <td>amazonbasics/hl002619,amazonbasicsaaaperforman...</td>\n",
              "      <td>AmazonBasics</td>\n",
              "      <td>HL-002619</td>\n",
              "      <td>2017-03-02T00:00:00.000Z</td>\n",
              "      <td>2017-08-28T00:00:00Z</td>\n",
              "      <td>NaN</td>\n",
              "      <td>NaN</td>\n",
              "      <td>NaN</td>\n",
              "      <td>NaN</td>\n",
              "      <td>3</td>\n",
              "      <td>https://www.amazon.com/product-reviews/B00QWO9...</td>\n",
              "      <td>I order 3 of them and one of the item is bad q...</td>\n",
              "      <td>... 3 of them and one of the item is bad quali...</td>\n",
              "      <td>Byger yang</td>\n",
              "      <td>https://www.barcodable.com/upc/841710106442,ht...</td>\n",
              "    </tr>\n",
              "    <tr>\n",
              "      <th>1</th>\n",
              "      <td>AVpgNzjwLJeJML43Kpxn</td>\n",
              "      <td>2015-10-30T08:59:32Z</td>\n",
              "      <td>2019-04-25T09:08:16Z</td>\n",
              "      <td>AmazonBasics AAA Performance Alkaline Batterie...</td>\n",
              "      <td>B00QWO9P0O,B00LH3DMUO</td>\n",
              "      <td>Amazonbasics</td>\n",
              "      <td>AA,AAA,Health,Electronics,Health &amp; Household,C...</td>\n",
              "      <td>Health &amp; Beauty</td>\n",
              "      <td>https://images-na.ssl-images-amazon.com/images...</td>\n",
              "      <td>amazonbasics/hl002619,amazonbasicsaaaperforman...</td>\n",
              "      <td>AmazonBasics</td>\n",
              "      <td>HL-002619</td>\n",
              "      <td>2016-08-31T00:00:00.000Z</td>\n",
              "      <td>2017-08-28T00:00:00Z</td>\n",
              "      <td>NaN</td>\n",
              "      <td>NaN</td>\n",
              "      <td>NaN</td>\n",
              "      <td>NaN</td>\n",
              "      <td>4</td>\n",
              "      <td>https://www.amazon.com/product-reviews/B00QWO9...</td>\n",
              "      <td>Bulk is always the less expensive way to go fo...</td>\n",
              "      <td>... always the less expensive way to go for pr...</td>\n",
              "      <td>ByMG</td>\n",
              "      <td>https://www.barcodable.com/upc/841710106442,ht...</td>\n",
              "    </tr>\n",
              "  </tbody>\n",
              "</table>\n",
              "</div>"
            ],
            "text/plain": [
              "                     id  ...                                         sourceURLs\n",
              "0  AVpgNzjwLJeJML43Kpxn  ...  https://www.barcodable.com/upc/841710106442,ht...\n",
              "1  AVpgNzjwLJeJML43Kpxn  ...  https://www.barcodable.com/upc/841710106442,ht...\n",
              "\n",
              "[2 rows x 24 columns]"
            ]
          },
          "metadata": {
            "tags": []
          },
          "execution_count": 5
        }
      ]
    },
    {
      "cell_type": "code",
      "metadata": {
        "id": "rRIKkuoQGErE",
        "colab": {
          "base_uri": "https://localhost:8080/"
        },
        "outputId": "35f0a95f-bc77-4fba-b21b-5a89da6d8d0a"
      },
      "source": [
        "df.shape"
      ],
      "execution_count": 6,
      "outputs": [
        {
          "output_type": "execute_result",
          "data": {
            "text/plain": [
              "(28332, 24)"
            ]
          },
          "metadata": {
            "tags": []
          },
          "execution_count": 6
        }
      ]
    },
    {
      "cell_type": "code",
      "metadata": {
        "id": "Lkl_l_3KGErH",
        "colab": {
          "base_uri": "https://localhost:8080/"
        },
        "outputId": "f43583d3-9103-4a17-8de5-eedc46b01c7f"
      },
      "source": [
        "# How can we count the raw text?\n",
        "df['reviews.text'].value_counts(normalize=True)[:50] * 100"
      ],
      "execution_count": 9,
      "outputs": [
        {
          "output_type": "execute_result",
          "data": {
            "text/plain": [
              "good                0.211775\n",
              "great               0.172949\n",
              "Good                0.148242\n",
              "Great               0.134124\n",
              "ok                  0.116476\n",
              "Great price         0.105887\n",
              "great price         0.098828\n",
              "Excellent           0.098828\n",
              "Great value         0.095299\n",
              "good price          0.081180\n",
              "great value         0.077651\n",
              "Great price!        0.063532\n",
              "good value          0.060003\n",
              "good deal           0.056473\n",
              "Great value.        0.056473\n",
              "Great deal          0.052944\n",
              "As expected         0.052944\n",
              "Good deal           0.052944\n",
              "OK                  0.052944\n",
              "Great product       0.052944\n",
              "Good batteries      0.049414\n",
              "Good value          0.049414\n",
              "Great batteries.    0.045885\n",
              "Great value!        0.045885\n",
              "Good price          0.045885\n",
              "So far so good      0.045885\n",
              "great deal          0.045885\n",
              "Good buy            0.042355\n",
              "Work great          0.042355\n",
              "Great batteries     0.038825\n",
              "Great!              0.038825\n",
              "very good           0.038825\n",
              "Great buy           0.038825\n",
              "good batteries      0.038825\n",
              "as expected         0.038825\n",
              "Great deal!         0.038825\n",
              "As described        0.038825\n",
              "Good value.         0.038825\n",
              "Great price.        0.038825\n",
              "excellent           0.038825\n",
              "Ok                  0.035296\n",
              "good product        0.035296\n",
              "great batteries     0.035296\n",
              "Nice                0.035296\n",
              "Perfect!            0.035296\n",
              "Work great.         0.035296\n",
              "Long lasting        0.031766\n",
              "works great         0.031766\n",
              "Great product.      0.031766\n",
              "Good price.         0.031766\n",
              "Name: reviews.text, dtype: float64"
            ]
          },
          "metadata": {
            "tags": []
          },
          "execution_count": 9
        }
      ]
    },
    {
      "cell_type": "code",
      "metadata": {
        "id": "8ASpwn6tGErJ"
      },
      "source": [
        "df['tokens'] = df['reviews.text'].apply(tokenize)"
      ],
      "execution_count": 10,
      "outputs": []
    },
    {
      "cell_type": "code",
      "metadata": {
        "id": "52nCewwXGErL",
        "colab": {
          "base_uri": "https://localhost:8080/",
          "height": 198
        },
        "outputId": "79247746-6a65-4f48-c059-22abe9236f1a"
      },
      "source": [
        "# side-by-side comparision between raw text and tokens \n",
        "df[['tokens', \"reviews.text\"]].head()"
      ],
      "execution_count": 12,
      "outputs": [
        {
          "output_type": "execute_result",
          "data": {
            "text/html": [
              "<div>\n",
              "<style scoped>\n",
              "    .dataframe tbody tr th:only-of-type {\n",
              "        vertical-align: middle;\n",
              "    }\n",
              "\n",
              "    .dataframe tbody tr th {\n",
              "        vertical-align: top;\n",
              "    }\n",
              "\n",
              "    .dataframe thead th {\n",
              "        text-align: right;\n",
              "    }\n",
              "</style>\n",
              "<table border=\"1\" class=\"dataframe\">\n",
              "  <thead>\n",
              "    <tr style=\"text-align: right;\">\n",
              "      <th></th>\n",
              "      <th>tokens</th>\n",
              "      <th>reviews.text</th>\n",
              "    </tr>\n",
              "  </thead>\n",
              "  <tbody>\n",
              "    <tr>\n",
              "      <th>0</th>\n",
              "      <td>[i, order, 3, of, them, and, one, of, the, ite...</td>\n",
              "      <td>I order 3 of them and one of the item is bad q...</td>\n",
              "    </tr>\n",
              "    <tr>\n",
              "      <th>1</th>\n",
              "      <td>[bulk, is, always, the, less, expensive, way, ...</td>\n",
              "      <td>Bulk is always the less expensive way to go fo...</td>\n",
              "    </tr>\n",
              "    <tr>\n",
              "      <th>2</th>\n",
              "      <td>[well, they, are, not, duracell, but, for, the...</td>\n",
              "      <td>Well they are not Duracell but for the price i...</td>\n",
              "    </tr>\n",
              "    <tr>\n",
              "      <th>3</th>\n",
              "      <td>[seem, to, work, as, well, as, name, brand, ba...</td>\n",
              "      <td>Seem to work as well as name brand batteries a...</td>\n",
              "    </tr>\n",
              "    <tr>\n",
              "      <th>4</th>\n",
              "      <td>[these, batteries, are, very, long, lasting, t...</td>\n",
              "      <td>These batteries are very long lasting the pric...</td>\n",
              "    </tr>\n",
              "  </tbody>\n",
              "</table>\n",
              "</div>"
            ],
            "text/plain": [
              "                                              tokens                                       reviews.text\n",
              "0  [i, order, 3, of, them, and, one, of, the, ite...  I order 3 of them and one of the item is bad q...\n",
              "1  [bulk, is, always, the, less, expensive, way, ...  Bulk is always the less expensive way to go fo...\n",
              "2  [well, they, are, not, duracell, but, for, the...  Well they are not Duracell but for the price i...\n",
              "3  [seem, to, work, as, well, as, name, brand, ba...  Seem to work as well as name brand batteries a...\n",
              "4  [these, batteries, are, very, long, lasting, t...  These batteries are very long lasting the pric..."
            ]
          },
          "metadata": {
            "tags": []
          },
          "execution_count": 12
        }
      ]
    },
    {
      "cell_type": "code",
      "metadata": {
        "id": "mkkTygmxGErO",
        "colab": {
          "base_uri": "https://localhost:8080/"
        },
        "outputId": "98cddc1c-8b78-4427-8062-1920a79cd8eb"
      },
      "source": [
        "df['primaryCategories'].value_counts()"
      ],
      "execution_count": 14,
      "outputs": [
        {
          "output_type": "execute_result",
          "data": {
            "text/plain": [
              "Electronics                    13995\n",
              "Health & Beauty                12071\n",
              "Toys & Games,Electronics        1676\n",
              "Office Supplies,Electronics      386\n",
              "Electronics,Media                185\n",
              "Office Supplies                    9\n",
              "Animals & Pet Supplies             6\n",
              "Home & Garden                      2\n",
              "Electronics,Furniture              2\n",
              "Name: primaryCategories, dtype: int64"
            ]
          },
          "metadata": {
            "tags": []
          },
          "execution_count": 14
        }
      ]
    },
    {
      "cell_type": "code",
      "metadata": {
        "id": "OenHwSkoGErQ"
      },
      "source": [
        "# can mask for articels in a specific category \n",
        "# let's simply focus on articles in the electronics section for simplicity \n",
        "cate_mask = df['primaryCategories'] == 'Electronics'\n",
        "\n",
        "df = df[cate_mask].copy()"
      ],
      "execution_count": 15,
      "outputs": []
    },
    {
      "cell_type": "code",
      "metadata": {
        "id": "rvsqPnIcGErS",
        "colab": {
          "base_uri": "https://localhost:8080/",
          "height": 564
        },
        "outputId": "e704ebb7-7bc7-4ac5-ce50-c22f278c9941"
      },
      "source": [
        "df.head()"
      ],
      "execution_count": 16,
      "outputs": [
        {
          "output_type": "execute_result",
          "data": {
            "text/html": [
              "<div>\n",
              "<style scoped>\n",
              "    .dataframe tbody tr th:only-of-type {\n",
              "        vertical-align: middle;\n",
              "    }\n",
              "\n",
              "    .dataframe tbody tr th {\n",
              "        vertical-align: top;\n",
              "    }\n",
              "\n",
              "    .dataframe thead th {\n",
              "        text-align: right;\n",
              "    }\n",
              "</style>\n",
              "<table border=\"1\" class=\"dataframe\">\n",
              "  <thead>\n",
              "    <tr style=\"text-align: right;\">\n",
              "      <th></th>\n",
              "      <th>id</th>\n",
              "      <th>dateAdded</th>\n",
              "      <th>dateUpdated</th>\n",
              "      <th>name</th>\n",
              "      <th>asins</th>\n",
              "      <th>brand</th>\n",
              "      <th>categories</th>\n",
              "      <th>primaryCategories</th>\n",
              "      <th>imageURLs</th>\n",
              "      <th>keys</th>\n",
              "      <th>manufacturer</th>\n",
              "      <th>manufacturerNumber</th>\n",
              "      <th>reviews.date</th>\n",
              "      <th>reviews.dateSeen</th>\n",
              "      <th>reviews.didPurchase</th>\n",
              "      <th>reviews.doRecommend</th>\n",
              "      <th>reviews.id</th>\n",
              "      <th>reviews.numHelpful</th>\n",
              "      <th>reviews.rating</th>\n",
              "      <th>reviews.sourceURLs</th>\n",
              "      <th>reviews.text</th>\n",
              "      <th>reviews.title</th>\n",
              "      <th>reviews.username</th>\n",
              "      <th>sourceURLs</th>\n",
              "      <th>tokens</th>\n",
              "    </tr>\n",
              "  </thead>\n",
              "  <tbody>\n",
              "    <tr>\n",
              "      <th>8343</th>\n",
              "      <td>AVpe7nGV1cnluZ0-aG2o</td>\n",
              "      <td>2014-10-28T11:14:38Z</td>\n",
              "      <td>2019-04-25T09:05:28Z</td>\n",
              "      <td>AmazonBasics Nylon CD/DVD Binder (400 Capacity)</td>\n",
              "      <td>B00DIHVMEA,B00EZ1ZTV0</td>\n",
              "      <td>Amazonbasics</td>\n",
              "      <td>Audio &amp; Video Accessories,TV, Video &amp; Home Aud...</td>\n",
              "      <td>Electronics</td>\n",
              "      <td>http://ecx.images-amazon.com/images/I/41jQha7Z...</td>\n",
              "      <td>amazonbasicsnyloncddvdbinder400capacity/b00ez1...</td>\n",
              "      <td>AmazonBasics</td>\n",
              "      <td>YBB12400R2</td>\n",
              "      <td>2017-11-12T00:00:00.000Z</td>\n",
              "      <td>2019-03-25T00:00:00Z</td>\n",
              "      <td>NaN</td>\n",
              "      <td>NaN</td>\n",
              "      <td>NaN</td>\n",
              "      <td>NaN</td>\n",
              "      <td>5</td>\n",
              "      <td>https://www.ebay.com/itm/Amazonbasics-Nylon-Cd...</td>\n",
              "      <td>Great case to keep everything in its place! My...</td>\n",
              "      <td>Excellent product</td>\n",
              "      <td>qs341_5</td>\n",
              "      <td>https://www.ebay.com/itm/AmazonBasics-Nylon-CD...</td>\n",
              "      <td>[great, case, to, keep, everything, in, its, p...</td>\n",
              "    </tr>\n",
              "    <tr>\n",
              "      <th>8344</th>\n",
              "      <td>AVpe7nGV1cnluZ0-aG2o</td>\n",
              "      <td>2014-10-28T11:14:38Z</td>\n",
              "      <td>2019-04-25T09:05:28Z</td>\n",
              "      <td>AmazonBasics Nylon CD/DVD Binder (400 Capacity)</td>\n",
              "      <td>B00DIHVMEA,B00EZ1ZTV0</td>\n",
              "      <td>Amazonbasics</td>\n",
              "      <td>Audio &amp; Video Accessories,TV, Video &amp; Home Aud...</td>\n",
              "      <td>Electronics</td>\n",
              "      <td>http://ecx.images-amazon.com/images/I/41jQha7Z...</td>\n",
              "      <td>amazonbasicsnyloncddvdbinder400capacity/b00ez1...</td>\n",
              "      <td>AmazonBasics</td>\n",
              "      <td>YBB12400R2</td>\n",
              "      <td>2014-06-14T05:00:00Z</td>\n",
              "      <td>2014-08-28T00:00:00Z</td>\n",
              "      <td>NaN</td>\n",
              "      <td>NaN</td>\n",
              "      <td>NaN</td>\n",
              "      <td>NaN</td>\n",
              "      <td>5</td>\n",
              "      <td>http://www.amazon.co.uk/gp/product-reviews/B00...</td>\n",
              "      <td>After discarding and getting rid of broken cd ...</td>\n",
              "      <td>It was a much needed storage</td>\n",
              "      <td>Diablita</td>\n",
              "      <td>https://www.ebay.com/itm/AmazonBasics-Nylon-CD...</td>\n",
              "      <td>[after, discarding, and, getting, rid, of, bro...</td>\n",
              "    </tr>\n",
              "    <tr>\n",
              "      <th>8345</th>\n",
              "      <td>AVpe7nGV1cnluZ0-aG2o</td>\n",
              "      <td>2014-10-28T11:14:38Z</td>\n",
              "      <td>2019-04-25T09:05:28Z</td>\n",
              "      <td>AmazonBasics Nylon CD/DVD Binder (400 Capacity)</td>\n",
              "      <td>B00DIHVMEA,B00EZ1ZTV0</td>\n",
              "      <td>Amazonbasics</td>\n",
              "      <td>Audio &amp; Video Accessories,TV, Video &amp; Home Aud...</td>\n",
              "      <td>Electronics</td>\n",
              "      <td>http://ecx.images-amazon.com/images/I/41jQha7Z...</td>\n",
              "      <td>amazonbasicsnyloncddvdbinder400capacity/b00ez1...</td>\n",
              "      <td>AmazonBasics</td>\n",
              "      <td>YBB12400R2</td>\n",
              "      <td>2019-02-15T00:00:00.000Z</td>\n",
              "      <td>2019-03-25T00:00:00Z</td>\n",
              "      <td>NaN</td>\n",
              "      <td>NaN</td>\n",
              "      <td>NaN</td>\n",
              "      <td>NaN</td>\n",
              "      <td>5</td>\n",
              "      <td>https://www.ebay.com/itm/Amazonbasics-Nylon-Cd...</td>\n",
              "      <td>A few dollars more, but I am boycotting amazon</td>\n",
              "      <td>it was worth it</td>\n",
              "      <td>coldbloodblazing</td>\n",
              "      <td>https://www.ebay.com/itm/AmazonBasics-Nylon-CD...</td>\n",
              "      <td>[a, few, dollars, more, but, i, am, boycotting...</td>\n",
              "    </tr>\n",
              "    <tr>\n",
              "      <th>8346</th>\n",
              "      <td>AVpe7nGV1cnluZ0-aG2o</td>\n",
              "      <td>2014-10-28T11:14:38Z</td>\n",
              "      <td>2019-04-25T09:05:28Z</td>\n",
              "      <td>AmazonBasics Nylon CD/DVD Binder (400 Capacity)</td>\n",
              "      <td>B00DIHVMEA,B00EZ1ZTV0</td>\n",
              "      <td>Amazonbasics</td>\n",
              "      <td>Audio &amp; Video Accessories,TV, Video &amp; Home Aud...</td>\n",
              "      <td>Electronics</td>\n",
              "      <td>http://ecx.images-amazon.com/images/I/41jQha7Z...</td>\n",
              "      <td>amazonbasicsnyloncddvdbinder400capacity/b00ez1...</td>\n",
              "      <td>AmazonBasics</td>\n",
              "      <td>YBB12400R2</td>\n",
              "      <td>2014-06-19T05:00:00Z</td>\n",
              "      <td>2014-08-28T00:00:00Z</td>\n",
              "      <td>NaN</td>\n",
              "      <td>NaN</td>\n",
              "      <td>NaN</td>\n",
              "      <td>NaN</td>\n",
              "      <td>2</td>\n",
              "      <td>http://www.amazon.co.uk/gp/product-reviews/B00...</td>\n",
              "      <td>My initial impression of this was very good. T...</td>\n",
              "      <td>Not well designed, very tight when full. Becom...</td>\n",
              "      <td>Snrub</td>\n",
              "      <td>https://www.ebay.com/itm/AmazonBasics-Nylon-CD...</td>\n",
              "      <td>[my, initial, impression, of, this, was, very,...</td>\n",
              "    </tr>\n",
              "    <tr>\n",
              "      <th>8347</th>\n",
              "      <td>AVpfl8cLLJeJML43AE3S</td>\n",
              "      <td>2016-04-08T18:16:28Z</td>\n",
              "      <td>2019-04-25T08:51:22Z</td>\n",
              "      <td>Amazon Echo ‚Äì White</td>\n",
              "      <td>B01E6AO69U,B00L9EPT8O</td>\n",
              "      <td>Amazon</td>\n",
              "      <td>Stereos,Remote Controls,Audio Docks &amp; Mini Spe...</td>\n",
              "      <td>Electronics</td>\n",
              "      <td>https://i.ebayimg.com/images/g/NWEAAOSwDehbdx6...</td>\n",
              "      <td>amazonechowhite/b00l9ept8o,amazonechowhite/b01...</td>\n",
              "      <td>Amazon</td>\n",
              "      <td>B01E6AO69U</td>\n",
              "      <td>2018-10-15T00:00:00.000Z</td>\n",
              "      <td>2019-04-24T00:00:00Z,2019-04-25T00:00:00Z</td>\n",
              "      <td>True</td>\n",
              "      <td>NaN</td>\n",
              "      <td>NaN</td>\n",
              "      <td>NaN</td>\n",
              "      <td>5</td>\n",
              "      <td>https://www.newegg.com/Product/Product.aspx?It...</td>\n",
              "      <td>Pros: Standard Echo. Cons: Older generation Ec...</td>\n",
              "      <td>Arrived as described.</td>\n",
              "      <td>Anonymous</td>\n",
              "      <td>https://www.newegg.com/Product/Product.aspx?It...</td>\n",
              "      <td>[pros, standard, echo, cons, older, generation...</td>\n",
              "    </tr>\n",
              "  </tbody>\n",
              "</table>\n",
              "</div>"
            ],
            "text/plain": [
              "                        id  ...                                             tokens\n",
              "8343  AVpe7nGV1cnluZ0-aG2o  ...  [great, case, to, keep, everything, in, its, p...\n",
              "8344  AVpe7nGV1cnluZ0-aG2o  ...  [after, discarding, and, getting, rid, of, bro...\n",
              "8345  AVpe7nGV1cnluZ0-aG2o  ...  [a, few, dollars, more, but, i, am, boycotting...\n",
              "8346  AVpe7nGV1cnluZ0-aG2o  ...  [my, initial, impression, of, this, was, very,...\n",
              "8347  AVpfl8cLLJeJML43AE3S  ...  [pros, standard, echo, cons, older, generation...\n",
              "\n",
              "[5 rows x 25 columns]"
            ]
          },
          "metadata": {
            "tags": []
          },
          "execution_count": 16
        }
      ]
    },
    {
      "cell_type": "markdown",
      "metadata": {
        "id": "8hOBAw2yGErU"
      },
      "source": [
        "#### Analyzing Tokens"
      ]
    },
    {
      "cell_type": "code",
      "metadata": {
        "id": "iQgShY9dXqQa",
        "outputId": "a3d1dda5-628e-45cc-8748-4400cd27ca05",
        "colab": {
          "base_uri": "https://localhost:8080/"
        }
      },
      "source": [
        "df[\"tokens\"].head()"
      ],
      "execution_count": 18,
      "outputs": [
        {
          "output_type": "execute_result",
          "data": {
            "text/plain": [
              "8343    [great, case, to, keep, everything, in, its, p...\n",
              "8344    [after, discarding, and, getting, rid, of, bro...\n",
              "8345    [a, few, dollars, more, but, i, am, boycotting...\n",
              "8346    [my, initial, impression, of, this, was, very,...\n",
              "8347    [pros, standard, echo, cons, older, generation...\n",
              "Name: tokens, dtype: object"
            ]
          },
          "metadata": {
            "tags": []
          },
          "execution_count": 18
        }
      ]
    },
    {
      "cell_type": "code",
      "metadata": {
        "id": "6jVvZAvJGErU",
        "colab": {
          "base_uri": "https://localhost:8080/"
        },
        "outputId": "21ef3fb9-c231-43e5-9ae6-b091ae547c0b"
      },
      "source": [
        "# Object from Base Python\n",
        "from collections import Counter\n",
        "\n",
        "# The object `Counter` takes an iterable, but you can instaniate an empty one and update it. \n",
        "word_counts = Counter()\n",
        "\n",
        "# Update it based on a split of each of our documents\n",
        "df[\"word_count\"] = df['tokens'].apply(lambda tokens: word_counts.update(tokens))\n",
        "\n",
        "# Print out the 10 most common words\n",
        "word_counts.most_common(10)"
      ],
      "execution_count": 20,
      "outputs": [
        {
          "output_type": "execute_result",
          "data": {
            "text/plain": [
              "[('the', 17723),\n",
              " ('and', 14005),\n",
              " ('it', 13113),\n",
              " ('to', 12750),\n",
              " ('for', 12224),\n",
              " ('i', 12037),\n",
              " ('a', 10494),\n",
              " ('is', 8508),\n",
              " ('this', 8109),\n",
              " ('my', 7914)]"
            ]
          },
          "metadata": {
            "tags": []
          },
          "execution_count": 20
        }
      ]
    },
    {
      "cell_type": "markdown",
      "metadata": {
        "id": "TiVHbw6xGErW"
      },
      "source": [
        "Let's create a fuction which takes a corpus of document and returns and dataframe of word counts for us to analyze."
      ]
    },
    {
      "cell_type": "code",
      "metadata": {
        "id": "ypyH-_x1GErX"
      },
      "source": [
        "def count(docs):\n",
        "    \"\"\"\n",
        "    Calculates some basic statistics about tokens in our corpus (i.e. corpus means collections text data)\n",
        "    \"\"\"\n",
        "\n",
        "        word_counts = Counter()\n",
        "        appears_in = Counter()\n",
        "        \n",
        "        total_docs = len(docs)\n",
        "\n",
        "        for doc in docs:\n",
        "            word_counts.update(doc)\n",
        "            appears_in.update(set(doc))\n",
        "\n",
        "        temp = zip(word_counts.keys(), word_counts.values())\n",
        "        \n",
        "        wc = pd.DataFrame(temp, columns = ['word', 'count'])\n",
        "\n",
        "        wc['rank'] = wc['count'].rank(method='first', ascending=False)\n",
        "        total = wc['count'].sum()\n",
        "\n",
        "        wc['pct_total'] = wc['count'].apply(lambda x: x / total)\n",
        "        \n",
        "        wc = wc.sort_values(by='rank')\n",
        "        wc['cul_pct_total'] = wc['pct_total'].cumsum()\n",
        "\n",
        "        t2 = zip(appears_in.keys(), appears_in.values())\n",
        "        ac = pd.DataFrame(t2, columns=['word', 'appears_in'])\n",
        "        wc = ac.merge(wc, on='word')\n",
        "\n",
        "        wc['appears_in_pct'] = wc['appears_in'].apply(lambda x: x / total_docs)\n",
        "        \n",
        "        return wc.sort_values(by='rank')"
      ],
      "execution_count": 22,
      "outputs": []
    },
    {
      "cell_type": "code",
      "metadata": {
        "id": "76KrmBKeZEqq",
        "outputId": "97df6b29-4bb3-4cfa-aa3d-47db23cdf459",
        "colab": {
          "base_uri": "https://localhost:8080/"
        }
      },
      "source": [
        "df['tokens'].head()"
      ],
      "execution_count": 24,
      "outputs": [
        {
          "output_type": "execute_result",
          "data": {
            "text/plain": [
              "8343    [great, case, to, keep, everything, in, its, p...\n",
              "8344    [after, discarding, and, getting, rid, of, bro...\n",
              "8345    [a, few, dollars, more, but, i, am, boycotting...\n",
              "8346    [my, initial, impression, of, this, was, very,...\n",
              "8347    [pros, standard, echo, cons, older, generation...\n",
              "Name: tokens, dtype: object"
            ]
          },
          "metadata": {
            "tags": []
          },
          "execution_count": 24
        }
      ]
    },
    {
      "cell_type": "code",
      "metadata": {
        "id": "GqqwygrUGErZ"
      },
      "source": [
        "# Use the Function\n",
        "wc = count(df['tokens'])"
      ],
      "execution_count": 23,
      "outputs": []
    },
    {
      "cell_type": "code",
      "metadata": {
        "id": "_0EkCpReGEra",
        "colab": {
          "base_uri": "https://localhost:8080/",
          "height": 408
        },
        "outputId": "e9387b2e-c63e-4e58-cc67-9808b801e9b3"
      },
      "source": [
        "# this is the first apperance of stop words\n",
        "# I pointed out how the most common words are useless words that eventrally get filtered out \n",
        "# notice that \"the\" appears 55.7% of documents and appears for a over 17K times through the entire corpus\n",
        "# so useless words dominate a huge portion of the total number of tokens present\n",
        "# we will want to remove these stop words \n",
        "wc.head(12)"
      ],
      "execution_count": 26,
      "outputs": [
        {
          "output_type": "execute_result",
          "data": {
            "text/html": [
              "<div>\n",
              "<style scoped>\n",
              "    .dataframe tbody tr th:only-of-type {\n",
              "        vertical-align: middle;\n",
              "    }\n",
              "\n",
              "    .dataframe tbody tr th {\n",
              "        vertical-align: top;\n",
              "    }\n",
              "\n",
              "    .dataframe thead th {\n",
              "        text-align: right;\n",
              "    }\n",
              "</style>\n",
              "<table border=\"1\" class=\"dataframe\">\n",
              "  <thead>\n",
              "    <tr style=\"text-align: right;\">\n",
              "      <th></th>\n",
              "      <th>word</th>\n",
              "      <th>appears_in</th>\n",
              "      <th>count</th>\n",
              "      <th>rank</th>\n",
              "      <th>pct_total</th>\n",
              "      <th>cul_pct_total</th>\n",
              "      <th>appears_in_pct</th>\n",
              "    </tr>\n",
              "  </thead>\n",
              "  <tbody>\n",
              "    <tr>\n",
              "      <th>40</th>\n",
              "      <td>the</td>\n",
              "      <td>7809</td>\n",
              "      <td>17723</td>\n",
              "      <td>1.0</td>\n",
              "      <td>0.041078</td>\n",
              "      <td>0.041078</td>\n",
              "      <td>0.557985</td>\n",
              "    </tr>\n",
              "    <tr>\n",
              "      <th>86</th>\n",
              "      <td>and</td>\n",
              "      <td>8543</td>\n",
              "      <td>14005</td>\n",
              "      <td>2.0</td>\n",
              "      <td>0.032461</td>\n",
              "      <td>0.073539</td>\n",
              "      <td>0.610432</td>\n",
              "    </tr>\n",
              "    <tr>\n",
              "      <th>8</th>\n",
              "      <td>it</td>\n",
              "      <td>7490</td>\n",
              "      <td>13113</td>\n",
              "      <td>3.0</td>\n",
              "      <td>0.030393</td>\n",
              "      <td>0.103932</td>\n",
              "      <td>0.535191</td>\n",
              "    </tr>\n",
              "    <tr>\n",
              "      <th>10</th>\n",
              "      <td>to</td>\n",
              "      <td>7137</td>\n",
              "      <td>12750</td>\n",
              "      <td>4.0</td>\n",
              "      <td>0.029552</td>\n",
              "      <td>0.133484</td>\n",
              "      <td>0.509968</td>\n",
              "    </tr>\n",
              "    <tr>\n",
              "      <th>60</th>\n",
              "      <td>for</td>\n",
              "      <td>7990</td>\n",
              "      <td>12224</td>\n",
              "      <td>5.0</td>\n",
              "      <td>0.028333</td>\n",
              "      <td>0.161816</td>\n",
              "      <td>0.570918</td>\n",
              "    </tr>\n",
              "    <tr>\n",
              "      <th>99</th>\n",
              "      <td>i</td>\n",
              "      <td>6072</td>\n",
              "      <td>12037</td>\n",
              "      <td>6.0</td>\n",
              "      <td>0.027899</td>\n",
              "      <td>0.189716</td>\n",
              "      <td>0.433869</td>\n",
              "    </tr>\n",
              "    <tr>\n",
              "      <th>3</th>\n",
              "      <td>a</td>\n",
              "      <td>6292</td>\n",
              "      <td>10494</td>\n",
              "      <td>7.0</td>\n",
              "      <td>0.024323</td>\n",
              "      <td>0.214038</td>\n",
              "      <td>0.449589</td>\n",
              "    </tr>\n",
              "    <tr>\n",
              "      <th>20</th>\n",
              "      <td>is</td>\n",
              "      <td>5538</td>\n",
              "      <td>8508</td>\n",
              "      <td>8.0</td>\n",
              "      <td>0.019720</td>\n",
              "      <td>0.233758</td>\n",
              "      <td>0.395713</td>\n",
              "    </tr>\n",
              "    <tr>\n",
              "      <th>81</th>\n",
              "      <td>this</td>\n",
              "      <td>6236</td>\n",
              "      <td>8109</td>\n",
              "      <td>9.0</td>\n",
              "      <td>0.018795</td>\n",
              "      <td>0.252553</td>\n",
              "      <td>0.445588</td>\n",
              "    </tr>\n",
              "    <tr>\n",
              "      <th>6</th>\n",
              "      <td>my</td>\n",
              "      <td>6210</td>\n",
              "      <td>7914</td>\n",
              "      <td>10.0</td>\n",
              "      <td>0.018343</td>\n",
              "      <td>0.270896</td>\n",
              "      <td>0.443730</td>\n",
              "    </tr>\n",
              "    <tr>\n",
              "      <th>993</th>\n",
              "      <td>tablet</td>\n",
              "      <td>4565</td>\n",
              "      <td>5814</td>\n",
              "      <td>11.0</td>\n",
              "      <td>0.013476</td>\n",
              "      <td>0.284372</td>\n",
              "      <td>0.326188</td>\n",
              "    </tr>\n",
              "    <tr>\n",
              "      <th>2</th>\n",
              "      <td>great</td>\n",
              "      <td>4113</td>\n",
              "      <td>4827</td>\n",
              "      <td>12.0</td>\n",
              "      <td>0.011188</td>\n",
              "      <td>0.295560</td>\n",
              "      <td>0.293891</td>\n",
              "    </tr>\n",
              "  </tbody>\n",
              "</table>\n",
              "</div>"
            ],
            "text/plain": [
              "       word  appears_in  count  rank  pct_total  cul_pct_total  appears_in_pct\n",
              "40      the        7809  17723   1.0   0.041078       0.041078        0.557985\n",
              "86      and        8543  14005   2.0   0.032461       0.073539        0.610432\n",
              "8        it        7490  13113   3.0   0.030393       0.103932        0.535191\n",
              "10       to        7137  12750   4.0   0.029552       0.133484        0.509968\n",
              "60      for        7990  12224   5.0   0.028333       0.161816        0.570918\n",
              "99        i        6072  12037   6.0   0.027899       0.189716        0.433869\n",
              "3         a        6292  10494   7.0   0.024323       0.214038        0.449589\n",
              "20       is        5538   8508   8.0   0.019720       0.233758        0.395713\n",
              "81     this        6236   8109   9.0   0.018795       0.252553        0.445588\n",
              "6        my        6210   7914  10.0   0.018343       0.270896        0.443730\n",
              "993  tablet        4565   5814  11.0   0.013476       0.284372        0.326188\n",
              "2     great        4113   4827  12.0   0.011188       0.295560        0.293891"
            ]
          },
          "metadata": {
            "tags": []
          },
          "execution_count": 26
        }
      ]
    },
    {
      "cell_type": "code",
      "metadata": {
        "id": "u9kI5BjnGErc",
        "colab": {
          "base_uri": "https://localhost:8080/",
          "height": 279
        },
        "outputId": "1af7da2a-f8f3-48c3-89cc-ab4a6285421b"
      },
      "source": [
        "import seaborn as sns\n",
        "\n",
        "# Cumulative Distribution Plot\n",
        "sns.lineplot(x='rank', y='cul_pct_total', data=wc);"
      ],
      "execution_count": 27,
      "outputs": [
        {
          "output_type": "display_data",
          "data": {
            "image/png": "[encoded data removed]",
            "text/plain": [
              "<Figure size 432x288 with 1 Axes>"
            ]
          },
          "metadata": {
            "tags": [],
            "needs_background": "light"
          }
        }
      ]
    },
    {
      "cell_type": "code",
      "metadata": {
        "id": "GKpixh5DGEre",
        "colab": {
          "base_uri": "https://localhost:8080/"
        },
        "outputId": "c899bea8-95bf-4bf0-ac41-ef2ea4eec3ec"
      },
      "source": [
        "wc[wc['rank'] <= 100]['cul_pct_total'].max()"
      ],
      "execution_count": 28,
      "outputs": [
        {
          "output_type": "execute_result",
          "data": {
            "text/plain": [
              "0.6126792228923197"
            ]
          },
          "metadata": {
            "tags": []
          },
          "execution_count": 28
        }
      ]
    },
    {
      "cell_type": "code",
      "metadata": {
        "id": "-yuCq8nuGErg",
        "colab": {
          "base_uri": "https://localhost:8080/",
          "height": 248
        },
        "outputId": "3fa16a89-f2b0-42cd-f81d-7a40903e2bbb"
      },
      "source": [
        "# this is an example of a words cloud\n",
        "# you can google for more examples, often more artistic examples \n",
        "\n",
        "import squarify\n",
        "import matplotlib.pyplot as plt\n",
        "\n",
        "wc_top20 = wc[wc['rank'] <= 20]\n",
        "\n",
        "squarify.plot(sizes=wc_top20['pct_total'], label=wc_top20['word'], alpha=.8 )\n",
        "plt.axis('off')\n",
        "plt.show()"
      ],
      "execution_count": 29,
      "outputs": [
        {
          "output_type": "display_data",
          "data": {
            "image/png": "[encoded data removed]",
            "text/plain": [
              "<Figure size 432x288 with 1 Axes>"
            ]
          },
          "metadata": {
            "tags": [],
            "needs_background": "light"
          }
        }
      ]
    },
    {
      "cell_type": "markdown",
      "metadata": {
        "id": "XIXSsYI_GEri"
      },
      "source": [
        "### Processing Raw Text with Spacy\n",
        "\n",
        "Spacy's datamodel for documents is unique among NLP libraries. Instead of storing the documents components in various data structures, Spacy indexes components and simply stores the lookup information. \n",
        "\n",
        "This is often why Spacy is considered to be more production grade than library like NLTK."
      ]
    },
    {
      "cell_type": "code",
      "metadata": {
        "id": "Y0l_8Q_-GEri"
      },
      "source": [
        "import spacy\n",
        "\n",
        "# treat nlp as a blackbox for today (we will talk about it tomorrow)\n",
        "# what we are doing here is loading in a pre-trained neural network model with a bunch of useful functionality! \n",
        "nlp = spacy.load('en_core_web_lg')"
      ],
      "execution_count": 30,
      "outputs": []
    },
    {
      "cell_type": "code",
      "metadata": {
        "id": "4qlRt5SIGErk"
      },
      "source": [
        "sample = \"\"\"\n",
        "Natural Language Processing Summary\n",
        "The field of study that focuses on the interactions between human language and computers is called Natural Language Processing, or NLP for short. It sits at the intersection of computer science, artificial intelligence, and computational linguistics (Wikipedia).\n",
        "\n",
        "“Nat­ur­al Lan­guage Pro­cessing is a field that cov­ers com­puter un­der­stand­ing and ma­nip­u­la­tion of hu­man lan­guage, and it’s ripe with pos­sib­il­it­ies for news­gath­er­ing,” Anthony Pesce said in Natural Language Processing in the kitchen. “You usu­ally hear about it in the con­text of ana­lyz­ing large pools of legis­la­tion or other doc­u­ment sets, at­tempt­ing to dis­cov­er pat­terns or root out cor­rup­tion.”\n",
        "\"\"\""
      ],
      "execution_count": 31,
      "outputs": []
    },
    {
      "cell_type": "code",
      "metadata": {
        "id": "PKAKzaAcarLx",
        "outputId": "f9d9c149-9a15-4195-d3bb-4397a7f8eaea",
        "colab": {
          "base_uri": "https://localhost:8080/",
          "height": 105
        }
      },
      "source": [
        "# here's our toy example article \n",
        "sample\n"
      ],
      "execution_count": 33,
      "outputs": [
        {
          "output_type": "execute_result",
          "data": {
            "application/vnd.google.colaboratory.intrinsic+json": {
              "type": "string"
            },
            "text/plain": [
              "'\\nNatural Language Processing Summary\\nThe field of study that focuses on the interactions between human language and computers is called Natural Language Processing, or NLP for short. It sits at the intersection of computer science, artificial intelligence, and computational linguistics (Wikipedia).\\n\\n“Nat\\xadur\\xadal Lan\\xadguage Pro\\xadcessing is a field that cov\\xaders com\\xadputer un\\xadder\\xadstand\\xading and ma\\xadnip\\xadu\\xadla\\xadtion of hu\\xadman lan\\xadguage, and it’s ripe with pos\\xadsib\\xadil\\xadit\\xadies for news\\xadgath\\xader\\xading,” Anthony Pesce said in Natural Language Processing in the kitchen. “You usu\\xadally hear about it in the con\\xadtext of ana\\xadlyz\\xading large pools of legis\\xadla\\xadtion or other doc\\xadu\\xadment sets, at\\xadtempt\\xading to dis\\xadcov\\xader pat\\xadterns or root out cor\\xadrup\\xadtion.”\\n'"
            ]
          },
          "metadata": {
            "tags": []
          },
          "execution_count": 33
        }
      ]
    },
    {
      "cell_type": "code",
      "metadata": {
        "id": "FjA1TF9vGErl"
      },
      "source": [
        "# by passying in a doc/article into nlp, the doc inherits a bunch of useful functionality \n",
        "doc = nlp(sample)"
      ],
      "execution_count": 41,
      "outputs": []
    },
    {
      "cell_type": "code",
      "metadata": {
        "id": "ZBa99HsYGErn"
      },
      "source": [
        "# save lists of article tokens \n",
        "tokens = []\n",
        "\n",
        "# iter through each doc in our dataset\n",
        "for doc in nlp.pipe(df['reviews.text']):\n",
        "    \n",
        "    # save tokens in article\n",
        "    doc_tokens = []\n",
        "    \n",
        "    # iter through the tokens in each doc/article\n",
        "    for token in doc: \n",
        "        \n",
        "        # store tokens for each article/doc\n",
        "        doc_tokens.append(token.text)\n",
        "    \n",
        "\n",
        "    tokens.append(doc_tokens)"
      ],
      "execution_count": 36,
      "outputs": []
    },
    {
      "cell_type": "code",
      "metadata": {
        "id": "_o-zEpiJcGch",
        "outputId": "7396f561-65d4-4064-9e76-a9fcdd7584ca",
        "colab": {
          "base_uri": "https://localhost:8080/"
        }
      },
      "source": [
        "# number of docs in electronics category \n",
        "len(tokens)"
      ],
      "execution_count": 37,
      "outputs": [
        {
          "output_type": "execute_result",
          "data": {
            "text/plain": [
              "13995"
            ]
          },
          "metadata": {
            "tags": []
          },
          "execution_count": 37
        }
      ]
    },
    {
      "cell_type": "code",
      "metadata": {
        "id": "1yjNYQNncM0H",
        "outputId": "94e7cb9d-24bf-40f3-e51f-346e3f2a76f5",
        "colab": {
          "base_uri": "https://localhost:8080/",
          "height": 35
        }
      },
      "source": [
        "# raw string\n",
        "df['reviews.text'].iloc[0]"
      ],
      "execution_count": 40,
      "outputs": [
        {
          "output_type": "execute_result",
          "data": {
            "application/vnd.google.colaboratory.intrinsic+json": {
              "type": "string"
            },
            "text/plain": [
              "'Great case to keep everything in its place! My husband love it!!!! Holds a lot of cds!'"
            ]
          },
          "metadata": {
            "tags": []
          },
          "execution_count": 40
        }
      ]
    },
    {
      "cell_type": "code",
      "metadata": {
        "id": "-mSzKydwGErp",
        "colab": {
          "base_uri": "https://localhost:8080/"
        },
        "outputId": "52b5fc5f-01c0-4e35-e40b-e1f6f5e7b6c0"
      },
      "source": [
        "# tokenized string\n",
        "tokens[0]"
      ],
      "execution_count": 38,
      "outputs": [
        {
          "output_type": "execute_result",
          "data": {
            "text/plain": [
              "['Great',\n",
              " 'case',\n",
              " 'to',\n",
              " 'keep',\n",
              " 'everything',\n",
              " 'in',\n",
              " 'its',\n",
              " 'place',\n",
              " '!',\n",
              " 'My',\n",
              " 'husband',\n",
              " 'love',\n",
              " 'it',\n",
              " '!',\n",
              " '!',\n",
              " '!',\n",
              " '!',\n",
              " 'Holds',\n",
              " 'a',\n",
              " 'lot',\n",
              " 'of',\n",
              " 'cds',\n",
              " '!']"
            ]
          },
          "metadata": {
            "tags": []
          },
          "execution_count": 38
        }
      ]
    },
    {
      "cell_type": "code",
      "metadata": {
        "id": "b_TgIkqfGErt"
      },
      "source": [
        "df['tokens'] = tokens"
      ],
      "execution_count": 43,
      "outputs": []
    },
    {
      "cell_type": "code",
      "metadata": {
        "id": "mZXXBDRxGErv",
        "colab": {
          "base_uri": "https://localhost:8080/"
        },
        "outputId": "ce541265-437d-4fc7-98ff-c302f51fe414"
      },
      "source": [
        "df['tokens'].head()"
      ],
      "execution_count": 44,
      "outputs": [
        {
          "output_type": "execute_result",
          "data": {
            "text/plain": [
              "8343    [Great, case, to, keep, everything, in, its, p...\n",
              "8344    [After, discarding, and, getting, rid, of, bro...\n",
              "8345    [A, few, dollars, more, ,, but, I, am, boycott...\n",
              "8346    [My, initial, impression, of, this, was, very,...\n",
              "8347    [Pros, :, Standard, Echo, ., Cons, :, Older, g...\n",
              "Name: tokens, dtype: object"
            ]
          },
          "metadata": {
            "tags": []
          },
          "execution_count": 44
        }
      ]
    },
    {
      "cell_type": "code",
      "metadata": {
        "id": "6Jd_iYC-GErw"
      },
      "source": [
        "wc = count(df['tokens'])"
      ],
      "execution_count": 45,
      "outputs": []
    },
    {
      "cell_type": "code",
      "metadata": {
        "id": "RbTs9ut-GEry",
        "colab": {
          "base_uri": "https://localhost:8080/",
          "height": 348
        },
        "outputId": "b55b7301-ca23-4b7c-9cd9-e0ef57eae2cf"
      },
      "source": [
        "# this is what happens if we don't filtered out non-alphanumeric tokens \n",
        "# we punctuation dominating the appears of tokens in our corpus \n",
        "# punctuation is not something that conveys any useful meaning\n",
        "wc.head(10)"
      ],
      "execution_count": 47,
      "outputs": [
        {
          "output_type": "execute_result",
          "data": {
            "text/html": [
              "<div>\n",
              "<style scoped>\n",
              "    .dataframe tbody tr th:only-of-type {\n",
              "        vertical-align: middle;\n",
              "    }\n",
              "\n",
              "    .dataframe tbody tr th {\n",
              "        vertical-align: top;\n",
              "    }\n",
              "\n",
              "    .dataframe thead th {\n",
              "        text-align: right;\n",
              "    }\n",
              "</style>\n",
              "<table border=\"1\" class=\"dataframe\">\n",
              "  <thead>\n",
              "    <tr style=\"text-align: right;\">\n",
              "      <th></th>\n",
              "      <th>word</th>\n",
              "      <th>appears_in</th>\n",
              "      <th>count</th>\n",
              "      <th>rank</th>\n",
              "      <th>pct_total</th>\n",
              "      <th>cul_pct_total</th>\n",
              "      <th>appears_in_pct</th>\n",
              "    </tr>\n",
              "  </thead>\n",
              "  <tbody>\n",
              "    <tr>\n",
              "      <th>51</th>\n",
              "      <td>.</td>\n",
              "      <td>11468</td>\n",
              "      <td>30480</td>\n",
              "      <td>1.0</td>\n",
              "      <td>0.062103</td>\n",
              "      <td>0.062103</td>\n",
              "      <td>0.819436</td>\n",
              "    </tr>\n",
              "    <tr>\n",
              "      <th>41</th>\n",
              "      <td>the</td>\n",
              "      <td>7234</td>\n",
              "      <td>15183</td>\n",
              "      <td>2.0</td>\n",
              "      <td>0.030935</td>\n",
              "      <td>0.093038</td>\n",
              "      <td>0.516899</td>\n",
              "    </tr>\n",
              "    <tr>\n",
              "      <th>91</th>\n",
              "      <td>and</td>\n",
              "      <td>8454</td>\n",
              "      <td>13790</td>\n",
              "      <td>3.0</td>\n",
              "      <td>0.028097</td>\n",
              "      <td>0.121135</td>\n",
              "      <td>0.604073</td>\n",
              "    </tr>\n",
              "    <tr>\n",
              "      <th>9</th>\n",
              "      <td>to</td>\n",
              "      <td>7126</td>\n",
              "      <td>12732</td>\n",
              "      <td>4.0</td>\n",
              "      <td>0.025941</td>\n",
              "      <td>0.147076</td>\n",
              "      <td>0.509182</td>\n",
              "    </tr>\n",
              "    <tr>\n",
              "      <th>111</th>\n",
              "      <td>I</td>\n",
              "      <td>6081</td>\n",
              "      <td>12615</td>\n",
              "      <td>5.0</td>\n",
              "      <td>0.025703</td>\n",
              "      <td>0.172779</td>\n",
              "      <td>0.434512</td>\n",
              "    </tr>\n",
              "    <tr>\n",
              "      <th>7</th>\n",
              "      <td>it</td>\n",
              "      <td>7167</td>\n",
              "      <td>12195</td>\n",
              "      <td>6.0</td>\n",
              "      <td>0.024847</td>\n",
              "      <td>0.197626</td>\n",
              "      <td>0.512111</td>\n",
              "    </tr>\n",
              "    <tr>\n",
              "      <th>65</th>\n",
              "      <td>for</td>\n",
              "      <td>7863</td>\n",
              "      <td>11920</td>\n",
              "      <td>7.0</td>\n",
              "      <td>0.024287</td>\n",
              "      <td>0.221913</td>\n",
              "      <td>0.561844</td>\n",
              "    </tr>\n",
              "    <tr>\n",
              "      <th>56</th>\n",
              "      <td>,</td>\n",
              "      <td>4827</td>\n",
              "      <td>10466</td>\n",
              "      <td>8.0</td>\n",
              "      <td>0.021324</td>\n",
              "      <td>0.243237</td>\n",
              "      <td>0.344909</td>\n",
              "    </tr>\n",
              "    <tr>\n",
              "      <th>2</th>\n",
              "      <td>a</td>\n",
              "      <td>6187</td>\n",
              "      <td>10256</td>\n",
              "      <td>9.0</td>\n",
              "      <td>0.020896</td>\n",
              "      <td>0.264134</td>\n",
              "      <td>0.442086</td>\n",
              "    </tr>\n",
              "    <tr>\n",
              "      <th>21</th>\n",
              "      <td>is</td>\n",
              "      <td>5549</td>\n",
              "      <td>8575</td>\n",
              "      <td>10.0</td>\n",
              "      <td>0.017471</td>\n",
              "      <td>0.281605</td>\n",
              "      <td>0.396499</td>\n",
              "    </tr>\n",
              "  </tbody>\n",
              "</table>\n",
              "</div>"
            ],
            "text/plain": [
              "    word  appears_in  count  rank  pct_total  cul_pct_total  appears_in_pct\n",
              "51     .       11468  30480   1.0   0.062103       0.062103        0.819436\n",
              "41   the        7234  15183   2.0   0.030935       0.093038        0.516899\n",
              "91   and        8454  13790   3.0   0.028097       0.121135        0.604073\n",
              "9     to        7126  12732   4.0   0.025941       0.147076        0.509182\n",
              "111    I        6081  12615   5.0   0.025703       0.172779        0.434512\n",
              "7     it        7167  12195   6.0   0.024847       0.197626        0.512111\n",
              "65   for        7863  11920   7.0   0.024287       0.221913        0.561844\n",
              "56     ,        4827  10466   8.0   0.021324       0.243237        0.344909\n",
              "2      a        6187  10256   9.0   0.020896       0.264134        0.442086\n",
              "21    is        5549   8575  10.0   0.017471       0.281605        0.396499"
            ]
          },
          "metadata": {
            "tags": []
          },
          "execution_count": 47
        }
      ]
    },
    {
      "cell_type": "code",
      "metadata": {
        "id": "Ey5fwyaHGEr1",
        "colab": {
          "base_uri": "https://localhost:8080/",
          "height": 248
        },
        "outputId": "c0f7b5ce-d605-4ca0-b622-dab9e3b1f5e2"
      },
      "source": [
        "wc_top20 = wc[wc['rank'] <= 20]\n",
        "\n",
        "squarify.plot(sizes=wc_top20['pct_total'], label=wc_top20['word'], alpha=.8 )\n",
        "plt.axis('off')\n",
        "plt.show()"
      ],
      "execution_count": 48,
      "outputs": [
        {
          "output_type": "display_data",
          "data": {
            "image/png": "[encoded data removed]",
            "text/plain": [
              "<Figure size 432x288 with 1 Axes>"
            ]
          },
          "metadata": {
            "tags": [],
            "needs_background": "light"
          }
        }
      ]
    },
    {
      "cell_type": "markdown",
      "metadata": {
        "toc-hr-collapsed": true,
        "id": "FS-IuYRdGEr3"
      },
      "source": [
        "## Challenge\n",
        "\n",
        "In the module project, you will apply tokenization to another set of review data and produce visualizations of those tokens. "
      ]
    },
    {
      "cell_type": "code",
      "metadata": {
        "id": "hFS2OwfcGEr3",
        "colab": {
          "base_uri": "https://localhost:8080/",
          "height": 442
        },
        "outputId": "4823c1bb-3e3d-4db4-b748-9c8976fa8884"
      },
      "source": [
        "list(df)"
      ],
      "execution_count": null,
      "outputs": [
        {
          "output_type": "execute_result",
          "data": {
            "text/plain": [
              "['id',\n",
              " 'dateAdded',\n",
              " 'dateUpdated',\n",
              " 'name',\n",
              " 'asins',\n",
              " 'brand',\n",
              " 'categories',\n",
              " 'primaryCategories',\n",
              " 'imageURLs',\n",
              " 'keys',\n",
              " 'manufacturer',\n",
              " 'manufacturerNumber',\n",
              " 'reviews.date',\n",
              " 'reviews.dateSeen',\n",
              " 'reviews.didPurchase',\n",
              " 'reviews.doRecommend',\n",
              " 'reviews.id',\n",
              " 'reviews.numHelpful',\n",
              " 'reviews.rating',\n",
              " 'reviews.sourceURLs',\n",
              " 'reviews.text',\n",
              " 'reviews.title',\n",
              " 'reviews.username',\n",
              " 'sourceURLs',\n",
              " 'tokens']"
            ]
          },
          "metadata": {
            "tags": []
          },
          "execution_count": 43
        }
      ]
    },
    {
      "cell_type": "markdown",
      "metadata": {
        "toc-hr-collapsed": true,
        "id": "qy-JQ3VUGEr6"
      },
      "source": [
        "# Stop Words (Learn)\n",
        "<a id=\"p2\"></a>"
      ]
    },
    {
      "cell_type": "markdown",
      "metadata": {
        "id": "APfLF769GEr6"
      },
      "source": [
        "## Overview\n",
        "Section Agenda\n",
        "- What are they?\n",
        "- How do we get rid of them using Spacy?\n",
        "- Visualization\n",
        "- Libraries of Stop Words\n",
        "- Extending Stop Words\n",
        "- Statistical trimming\n",
        "\n",
        "If the visualizations above, you began to notice a pattern. Most of the words don't really add much to our understanding of product reviews. Words such as \"I\", \"and\", \"of\", etc. have almost no semantic meaning to us. We call these useless words \"stop words,\" because we should 'stop' ourselves from including them in the analysis. \n",
        "\n",
        "Most NLP libraries have built in lists of stop words that common english words: conjunctions, articles, adverbs, pronouns, and common verbs. The best practice, however, is to extend/customize these standard english stopwords for your problem's domain. If I am studying political science, I may want to exclude the word \"politics\" from my analysis; it's so common it does not add to my understanding. "
      ]
    },
    {
      "cell_type": "markdown",
      "metadata": {
        "toc-hr-collapsed": true,
        "id": "7b5yWU9hGEr7"
      },
      "source": [
        "## Follow Along \n",
        "\n",
        "### Default Stop Words\n",
        "Let's take a look at the standard stop words that came with our Spacy model:"
      ]
    },
    {
      "cell_type": "code",
      "metadata": {
        "id": "zeOqLNAhGEr7"
      },
      "source": [
        "# Spacy's Default Stop Words\n",
        "nlp.Defaults.stop_words"
      ],
      "execution_count": null,
      "outputs": []
    },
    {
      "cell_type": "code",
      "metadata": {
        "id": "gYnQfN9TGEr9"
      },
      "source": [
        "# let's use spacy to improve upon our previous tokenizer by filtering out stop words and punctuation \n",
        "\n",
        "tokens = []\n",
        "\n",
        "\"\"\" Update those tokens w/o stopwords\"\"\"\n",
        "for doc in nlp.pipe(df['reviews.text'], batch_size=500):\n",
        "    \n",
        "    doc_tokens = []\n",
        "    \n",
        "    for token in doc:\n",
        "        if (token.is_stop == False) & (token.is_punct == False):\n",
        "            doc_tokens.append(token.text.lower())\n",
        "\n",
        "    tokens.append(doc_tokens)\n",
        "\n",
        "df['tokens'] = tokens"
      ],
      "execution_count": null,
      "outputs": []
    },
    {
      "cell_type": "code",
      "metadata": {
        "id": "YE7KeQmdGEsA",
        "colab": {
          "base_uri": "https://localhost:8080/",
          "height": 119
        },
        "outputId": "b839957e-d3ca-4511-9c31-1f9c846cafba"
      },
      "source": [
        "df.tokens.head()"
      ],
      "execution_count": null,
      "outputs": [
        {
          "output_type": "execute_result",
          "data": {
            "text/plain": [
              "8343    [great, case, place, husband, love, holds, lot...\n",
              "8344    [discarding, getting, rid, broken, cd, cases, ...\n",
              "8345                        [dollars, boycotting, amazon]\n",
              "8346    [initial, impression, good, material, nicer, s...\n",
              "8347    [pros, standard, echo, cons, older, generation...\n",
              "Name: tokens, dtype: object"
            ]
          },
          "metadata": {
            "tags": []
          },
          "execution_count": 46
        }
      ]
    },
    {
      "cell_type": "code",
      "metadata": {
        "id": "l4utPZ8mGEsB",
        "colab": {
          "base_uri": "https://localhost:8080/",
          "height": 248
        },
        "outputId": "8de58ebe-cbbd-4195-b2fe-e218debff843"
      },
      "source": [
        "wc = count(df['tokens'])\n",
        "\n",
        "wc_top20 = wc[wc['rank'] <= 20]\n",
        "\n",
        "squarify.plot(sizes=wc_top20['pct_total'], label=wc_top20['word'], alpha=.8 )\n",
        "plt.axis('off')\n",
        "plt.show()"
      ],
      "execution_count": null,
      "outputs": [
        {
          "output_type": "display_data",
          "data": {
            "image/png": "[encoded data removed]",
            "text/plain": [
              "<Figure size 432x288 with 1 Axes>"
            ]
          },
          "metadata": {
            "tags": [],
            "needs_background": "light"
          }
        }
      ]
    },
    {
      "cell_type": "markdown",
      "metadata": {
        "id": "wW7qoSu_GEsD"
      },
      "source": [
        "### Extending Stop Words"
      ]
    },
    {
      "cell_type": "code",
      "metadata": {
        "id": "MxLUxpRvGEsD",
        "colab": {
          "base_uri": "https://localhost:8080/"
        },
        "outputId": "7e77b68b-1179-48c3-93b4-aec76d6e9cb4"
      },
      "source": [
        "print(type(nlp.Defaults.stop_words))"
      ],
      "execution_count": 50,
      "outputs": [
        {
          "output_type": "stream",
          "text": [
            "<class 'set'>\n"
          ],
          "name": "stdout"
        }
      ]
    },
    {
      "cell_type": "code",
      "metadata": {
        "id": "7D6R_35SGEsF"
      },
      "source": [
        "# although spacy provides a large set of stop words, we can extend it to include stop words that are particular to our dataset \n",
        "STOP_WORDS = nlp.Defaults.stop_words.union(['batteries','I', 'amazon', 'i', 'Amazon', 'it', \"it's\", 'it.', 'the', 'this',])"
      ],
      "execution_count": 51,
      "outputs": []
    },
    {
      "cell_type": "code",
      "metadata": {
        "id": "ZJVOl3FvGEsH"
      },
      "source": [
        "STOP_WORDS"
      ],
      "execution_count": null,
      "outputs": []
    },
    {
      "cell_type": "code",
      "metadata": {
        "id": "0JOoLRyUGEsJ"
      },
      "source": [
        "# yet again -- we are creating an even more sophisticated tokenizer by adding more filters \n",
        "tokens = []\n",
        "\n",
        "for doc in nlp.pipe(df['reviews.text']):\n",
        "    \n",
        "    doc_tokens = []\n",
        "    \n",
        "    for token in doc: \n",
        "      # conditional logic to filter out bad tokens\n",
        "      # filtering pucnt AND filtering out stopwords from our tokens\n",
        "        if (token.is_punct == False) & (token.text.lower() not in STOP_WORDS):\n",
        "          # lower tokens in order to standardize case (i.e. all lower case)\n",
        "            doc_tokens.append(token.text.lower())\n",
        "   \n",
        "    tokens.append(doc_tokens)\n",
        "    \n",
        "df['tokens'] = tokens"
      ],
      "execution_count": 53,
      "outputs": []
    },
    {
      "cell_type": "code",
      "metadata": {
        "id": "iBrDAAeuGEsL",
        "colab": {
          "base_uri": "https://localhost:8080/",
          "height": 198
        },
        "outputId": "5a64d5fd-f106-44fc-9acb-0b6c9bf7cc84"
      },
      "source": [
        "wc = count(df['tokens'])\n",
        "wc.head()"
      ],
      "execution_count": 54,
      "outputs": [
        {
          "output_type": "execute_result",
          "data": {
            "text/html": [
              "<div>\n",
              "<style scoped>\n",
              "    .dataframe tbody tr th:only-of-type {\n",
              "        vertical-align: middle;\n",
              "    }\n",
              "\n",
              "    .dataframe tbody tr th {\n",
              "        vertical-align: top;\n",
              "    }\n",
              "\n",
              "    .dataframe thead th {\n",
              "        text-align: right;\n",
              "    }\n",
              "</style>\n",
              "<table border=\"1\" class=\"dataframe\">\n",
              "  <thead>\n",
              "    <tr style=\"text-align: right;\">\n",
              "      <th></th>\n",
              "      <th>word</th>\n",
              "      <th>appears_in</th>\n",
              "      <th>count</th>\n",
              "      <th>rank</th>\n",
              "      <th>pct_total</th>\n",
              "      <th>cul_pct_total</th>\n",
              "      <th>appears_in_pct</th>\n",
              "    </tr>\n",
              "  </thead>\n",
              "  <tbody>\n",
              "    <tr>\n",
              "      <th>792</th>\n",
              "      <td>tablet</td>\n",
              "      <td>4617</td>\n",
              "      <td>5896</td>\n",
              "      <td>1.0</td>\n",
              "      <td>0.030740</td>\n",
              "      <td>0.030740</td>\n",
              "      <td>0.329904</td>\n",
              "    </tr>\n",
              "    <tr>\n",
              "      <th>2</th>\n",
              "      <td>great</td>\n",
              "      <td>4136</td>\n",
              "      <td>4871</td>\n",
              "      <td>2.0</td>\n",
              "      <td>0.025396</td>\n",
              "      <td>0.056137</td>\n",
              "      <td>0.295534</td>\n",
              "    </tr>\n",
              "    <tr>\n",
              "      <th>274</th>\n",
              "      <td>use</td>\n",
              "      <td>2758</td>\n",
              "      <td>3108</td>\n",
              "      <td>3.0</td>\n",
              "      <td>0.016204</td>\n",
              "      <td>0.072341</td>\n",
              "      <td>0.197070</td>\n",
              "    </tr>\n",
              "    <tr>\n",
              "      <th>0</th>\n",
              "      <td>love</td>\n",
              "      <td>2272</td>\n",
              "      <td>2530</td>\n",
              "      <td>4.0</td>\n",
              "      <td>0.013191</td>\n",
              "      <td>0.085532</td>\n",
              "      <td>0.162344</td>\n",
              "    </tr>\n",
              "    <tr>\n",
              "      <th>1170</th>\n",
              "      <td>kindle</td>\n",
              "      <td>1861</td>\n",
              "      <td>2378</td>\n",
              "      <td>5.0</td>\n",
              "      <td>0.012398</td>\n",
              "      <td>0.097930</td>\n",
              "      <td>0.132976</td>\n",
              "    </tr>\n",
              "  </tbody>\n",
              "</table>\n",
              "</div>"
            ],
            "text/plain": [
              "        word  appears_in  count  rank  pct_total  cul_pct_total  appears_in_pct\n",
              "792   tablet        4617   5896   1.0   0.030740       0.030740        0.329904\n",
              "2      great        4136   4871   2.0   0.025396       0.056137        0.295534\n",
              "274      use        2758   3108   3.0   0.016204       0.072341        0.197070\n",
              "0       love        2272   2530   4.0   0.013191       0.085532        0.162344\n",
              "1170  kindle        1861   2378   5.0   0.012398       0.097930        0.132976"
            ]
          },
          "metadata": {
            "tags": []
          },
          "execution_count": 54
        }
      ]
    },
    {
      "cell_type": "code",
      "metadata": {
        "id": "_EaivXXaGEsN",
        "colab": {
          "base_uri": "https://localhost:8080/",
          "height": 248
        },
        "outputId": "7d9debf5-cf57-44f8-c261-102d6a8a7674"
      },
      "source": [
        "wc_top20 = wc[wc['rank'] <= 20]\n",
        "\n",
        "squarify.plot(sizes=wc_top20['pct_total'], label=wc_top20['word'], alpha=.8 )\n",
        "plt.axis('off')\n",
        "plt.show()"
      ],
      "execution_count": 55,
      "outputs": [
        {
          "output_type": "display_data",
          "data": {
            "image/png": "[encoded data removed]",
            "text/plain": [
              "<Figure size 432x288 with 1 Axes>"
            ]
          },
          "metadata": {
            "tags": [],
            "needs_background": "light"
          }
        }
      ]
    },
    {
      "cell_type": "code",
      "metadata": {
        "id": "0RFf3_HoGEsP",
        "colab": {
          "base_uri": "https://localhost:8080/",
          "height": 119
        },
        "outputId": "12a2c946-20c4-4147-805c-12dc0208a7bc"
      },
      "source": [
        "df['reviews.rating'].value_counts()"
      ],
      "execution_count": null,
      "outputs": [
        {
          "output_type": "execute_result",
          "data": {
            "text/plain": [
              "5    9371\n",
              "4    3703\n",
              "3     551\n",
              "1     187\n",
              "2     183\n",
              "Name: reviews.rating, dtype: int64"
            ]
          },
          "metadata": {
            "tags": []
          },
          "execution_count": 54
        }
      ]
    },
    {
      "cell_type": "markdown",
      "metadata": {
        "id": "55BKEXW6GEsQ"
      },
      "source": [
        "### Statistical Trimming\n",
        "\n",
        "So far, we have talked about stop word in relation to either broad english words or domain specific stop words. Another common approach to stop word removal is via statistical trimming. The basic idea: preserve the words that give the most about of variation in your data. \n",
        "\n",
        "Do you remember this graph?"
      ]
    },
    {
      "cell_type": "code",
      "metadata": {
        "id": "m7M5bXwUGEsQ",
        "colab": {
          "base_uri": "https://localhost:8080/",
          "height": 279
        },
        "outputId": "5aeb3d1e-ae54-44fd-b0fa-ce9003093341"
      },
      "source": [
        "sns.lineplot(x='rank', y='cul_pct_total', data=wc);"
      ],
      "execution_count": 56,
      "outputs": [
        {
          "output_type": "display_data",
          "data": {
            "image/png": "[encoded data removed]",
            "text/plain": [
              "<Figure size 432x288 with 1 Axes>"
            ]
          },
          "metadata": {
            "tags": [],
            "needs_background": "light"
          }
        }
      ]
    },
    {
      "cell_type": "markdown",
      "metadata": {
        "id": "NSY5DHLKGEsS"
      },
      "source": [
        "This graph tells us that only a *handful* of words represented 80% of words in the overall corpus. We can interpret this in two ways: \n",
        "1. The words that appear most frequently may not provide any insight into the mean on the documents since they are so prevalent. \n",
        "2. Words that appear infrequency (at the end of the graph) also probably do not add much value, because the are mentioned so rarely. \n",
        "\n",
        "Let's take a look at the words at the bottom and the top and make a decision for ourselves:"
      ]
    },
    {
      "cell_type": "code",
      "metadata": {
        "id": "_SGH_qndGEsT",
        "colab": {
          "base_uri": "https://localhost:8080/",
          "height": 648
        },
        "outputId": "3876a81f-edeb-411a-e2cd-6a5775f56653"
      },
      "source": [
        "wc.tail(20)"
      ],
      "execution_count": 57,
      "outputs": [
        {
          "output_type": "execute_result",
          "data": {
            "text/html": [
              "<div>\n",
              "<style scoped>\n",
              "    .dataframe tbody tr th:only-of-type {\n",
              "        vertical-align: middle;\n",
              "    }\n",
              "\n",
              "    .dataframe tbody tr th {\n",
              "        vertical-align: top;\n",
              "    }\n",
              "\n",
              "    .dataframe thead th {\n",
              "        text-align: right;\n",
              "    }\n",
              "</style>\n",
              "<table border=\"1\" class=\"dataframe\">\n",
              "  <thead>\n",
              "    <tr style=\"text-align: right;\">\n",
              "      <th></th>\n",
              "      <th>word</th>\n",
              "      <th>appears_in</th>\n",
              "      <th>count</th>\n",
              "      <th>rank</th>\n",
              "      <th>pct_total</th>\n",
              "      <th>cul_pct_total</th>\n",
              "      <th>appears_in_pct</th>\n",
              "    </tr>\n",
              "  </thead>\n",
              "  <tbody>\n",
              "    <tr>\n",
              "      <th>7728</th>\n",
              "      <td>open!1</td>\n",
              "      <td>1</td>\n",
              "      <td>1</td>\n",
              "      <td>7729.0</td>\n",
              "      <td>0.000005</td>\n",
              "      <td>0.999901</td>\n",
              "      <td>0.000071</td>\n",
              "    </tr>\n",
              "    <tr>\n",
              "      <th>7729</th>\n",
              "      <td>shades</td>\n",
              "      <td>1</td>\n",
              "      <td>1</td>\n",
              "      <td>7730.0</td>\n",
              "      <td>0.000005</td>\n",
              "      <td>0.999906</td>\n",
              "      <td>0.000071</td>\n",
              "    </tr>\n",
              "    <tr>\n",
              "      <th>7730</th>\n",
              "      <td>diabetic</td>\n",
              "      <td>1</td>\n",
              "      <td>1</td>\n",
              "      <td>7731.0</td>\n",
              "      <td>0.000005</td>\n",
              "      <td>0.999911</td>\n",
              "      <td>0.000071</td>\n",
              "    </tr>\n",
              "    <tr>\n",
              "      <th>7731</th>\n",
              "      <td>scheduling</td>\n",
              "      <td>1</td>\n",
              "      <td>1</td>\n",
              "      <td>7732.0</td>\n",
              "      <td>0.000005</td>\n",
              "      <td>0.999917</td>\n",
              "      <td>0.000071</td>\n",
              "    </tr>\n",
              "    <tr>\n",
              "      <th>7732</th>\n",
              "      <td>alertanative</td>\n",
              "      <td>1</td>\n",
              "      <td>1</td>\n",
              "      <td>7733.0</td>\n",
              "      <td>0.000005</td>\n",
              "      <td>0.999922</td>\n",
              "      <td>0.000071</td>\n",
              "    </tr>\n",
              "    <tr>\n",
              "      <th>7735</th>\n",
              "      <td>pearl</td>\n",
              "      <td>1</td>\n",
              "      <td>1</td>\n",
              "      <td>7734.0</td>\n",
              "      <td>0.000005</td>\n",
              "      <td>0.999927</td>\n",
              "      <td>0.000071</td>\n",
              "    </tr>\n",
              "    <tr>\n",
              "      <th>7733</th>\n",
              "      <td>rearvision</td>\n",
              "      <td>1</td>\n",
              "      <td>1</td>\n",
              "      <td>7735.0</td>\n",
              "      <td>0.000005</td>\n",
              "      <td>0.999932</td>\n",
              "      <td>0.000071</td>\n",
              "    </tr>\n",
              "    <tr>\n",
              "      <th>7737</th>\n",
              "      <td>fyi</td>\n",
              "      <td>1</td>\n",
              "      <td>1</td>\n",
              "      <td>7736.0</td>\n",
              "      <td>0.000005</td>\n",
              "      <td>0.999937</td>\n",
              "      <td>0.000071</td>\n",
              "    </tr>\n",
              "    <tr>\n",
              "      <th>7736</th>\n",
              "      <td>mounts</td>\n",
              "      <td>1</td>\n",
              "      <td>1</td>\n",
              "      <td>7737.0</td>\n",
              "      <td>0.000005</td>\n",
              "      <td>0.999943</td>\n",
              "      <td>0.000071</td>\n",
              "    </tr>\n",
              "    <tr>\n",
              "      <th>7738</th>\n",
              "      <td>magnetically</td>\n",
              "      <td>1</td>\n",
              "      <td>1</td>\n",
              "      <td>7738.0</td>\n",
              "      <td>0.000005</td>\n",
              "      <td>0.999948</td>\n",
              "      <td>0.000071</td>\n",
              "    </tr>\n",
              "    <tr>\n",
              "      <th>7734</th>\n",
              "      <td>vent</td>\n",
              "      <td>1</td>\n",
              "      <td>1</td>\n",
              "      <td>7739.0</td>\n",
              "      <td>0.000005</td>\n",
              "      <td>0.999953</td>\n",
              "      <td>0.000071</td>\n",
              "    </tr>\n",
              "    <tr>\n",
              "      <th>7739</th>\n",
              "      <td>cares</td>\n",
              "      <td>1</td>\n",
              "      <td>1</td>\n",
              "      <td>7740.0</td>\n",
              "      <td>0.000005</td>\n",
              "      <td>0.999958</td>\n",
              "      <td>0.000071</td>\n",
              "    </tr>\n",
              "    <tr>\n",
              "      <th>7740</th>\n",
              "      <td>kindlelishous</td>\n",
              "      <td>1</td>\n",
              "      <td>1</td>\n",
              "      <td>7741.0</td>\n",
              "      <td>0.000005</td>\n",
              "      <td>0.999964</td>\n",
              "      <td>0.000071</td>\n",
              "    </tr>\n",
              "    <tr>\n",
              "      <th>7741</th>\n",
              "      <td>competent</td>\n",
              "      <td>1</td>\n",
              "      <td>1</td>\n",
              "      <td>7742.0</td>\n",
              "      <td>0.000005</td>\n",
              "      <td>0.999969</td>\n",
              "      <td>0.000071</td>\n",
              "    </tr>\n",
              "    <tr>\n",
              "      <th>7742</th>\n",
              "      <td>objective</td>\n",
              "      <td>1</td>\n",
              "      <td>1</td>\n",
              "      <td>7743.0</td>\n",
              "      <td>0.000005</td>\n",
              "      <td>0.999974</td>\n",
              "      <td>0.000071</td>\n",
              "    </tr>\n",
              "    <tr>\n",
              "      <th>7743</th>\n",
              "      <td>relies</td>\n",
              "      <td>1</td>\n",
              "      <td>1</td>\n",
              "      <td>7744.0</td>\n",
              "      <td>0.000005</td>\n",
              "      <td>0.999979</td>\n",
              "      <td>0.000071</td>\n",
              "    </tr>\n",
              "    <tr>\n",
              "      <th>7744</th>\n",
              "      <td>readi</td>\n",
              "      <td>1</td>\n",
              "      <td>1</td>\n",
              "      <td>7745.0</td>\n",
              "      <td>0.000005</td>\n",
              "      <td>0.999984</td>\n",
              "      <td>0.000071</td>\n",
              "    </tr>\n",
              "    <tr>\n",
              "      <th>7745</th>\n",
              "      <td>blanking</td>\n",
              "      <td>1</td>\n",
              "      <td>1</td>\n",
              "      <td>7746.0</td>\n",
              "      <td>0.000005</td>\n",
              "      <td>0.999990</td>\n",
              "      <td>0.000071</td>\n",
              "    </tr>\n",
              "    <tr>\n",
              "      <th>7746</th>\n",
              "      <td>moztly</td>\n",
              "      <td>1</td>\n",
              "      <td>1</td>\n",
              "      <td>7747.0</td>\n",
              "      <td>0.000005</td>\n",
              "      <td>0.999995</td>\n",
              "      <td>0.000071</td>\n",
              "    </tr>\n",
              "    <tr>\n",
              "      <th>7747</th>\n",
              "      <td>bookreader</td>\n",
              "      <td>1</td>\n",
              "      <td>1</td>\n",
              "      <td>7748.0</td>\n",
              "      <td>0.000005</td>\n",
              "      <td>1.000000</td>\n",
              "      <td>0.000071</td>\n",
              "    </tr>\n",
              "  </tbody>\n",
              "</table>\n",
              "</div>"
            ],
            "text/plain": [
              "               word  appears_in  ...  cul_pct_total  appears_in_pct\n",
              "7728         open!1           1  ...       0.999901        0.000071\n",
              "7729         shades           1  ...       0.999906        0.000071\n",
              "7730       diabetic           1  ...       0.999911        0.000071\n",
              "7731     scheduling           1  ...       0.999917        0.000071\n",
              "7732   alertanative           1  ...       0.999922        0.000071\n",
              "7735          pearl           1  ...       0.999927        0.000071\n",
              "7733     rearvision           1  ...       0.999932        0.000071\n",
              "7737            fyi           1  ...       0.999937        0.000071\n",
              "7736         mounts           1  ...       0.999943        0.000071\n",
              "7738   magnetically           1  ...       0.999948        0.000071\n",
              "7734           vent           1  ...       0.999953        0.000071\n",
              "7739          cares           1  ...       0.999958        0.000071\n",
              "7740  kindlelishous           1  ...       0.999964        0.000071\n",
              "7741      competent           1  ...       0.999969        0.000071\n",
              "7742      objective           1  ...       0.999974        0.000071\n",
              "7743         relies           1  ...       0.999979        0.000071\n",
              "7744          readi           1  ...       0.999984        0.000071\n",
              "7745       blanking           1  ...       0.999990        0.000071\n",
              "7746         moztly           1  ...       0.999995        0.000071\n",
              "7747     bookreader           1  ...       1.000000        0.000071\n",
              "\n",
              "[20 rows x 7 columns]"
            ]
          },
          "metadata": {
            "tags": []
          },
          "execution_count": 57
        }
      ]
    },
    {
      "cell_type": "code",
      "metadata": {
        "id": "5Fz3oXJOGEsU",
        "colab": {
          "base_uri": "https://localhost:8080/",
          "height": 170
        },
        "outputId": "d19c5025-ca64-4ef7-b2af-b5f6ad0f5eb9"
      },
      "source": [
        "wc['appears_in_pct'].describe()"
      ],
      "execution_count": null,
      "outputs": [
        {
          "output_type": "execute_result",
          "data": {
            "text/plain": [
              "count    7748.000000\n",
              "mean        0.001632\n",
              "std         0.008878\n",
              "min         0.000071\n",
              "25%         0.000071\n",
              "50%         0.000214\n",
              "75%         0.000572\n",
              "max         0.329904\n",
              "Name: appears_in_pct, dtype: float64"
            ]
          },
          "metadata": {
            "tags": []
          },
          "execution_count": 57
        }
      ]
    },
    {
      "cell_type": "code",
      "metadata": {
        "id": "evsmVP2VGEsV",
        "colab": {
          "base_uri": "https://localhost:8080/",
          "height": 280
        },
        "outputId": "e83b1d0c-1ddf-4310-b820-e82647c0fcef"
      },
      "source": [
        "# Frequency of appears in documents\n",
        "sns.distplot(wc['appears_in_pct']);"
      ],
      "execution_count": null,
      "outputs": [
        {
          "output_type": "display_data",
          "data": {
            "image/png": "[encoded data removed]",
            "text/plain": [
              "<Figure size 432x288 with 1 Axes>"
            ]
          },
          "metadata": {
            "tags": [],
            "needs_background": "light"
          }
        }
      ]
    },
    {
      "cell_type": "code",
      "metadata": {
        "id": "dJkyvXn0GEsX",
        "colab": {
          "base_uri": "https://localhost:8080/",
          "height": 280
        },
        "outputId": "dbfefb88-13d1-4152-f804-ea063f73f631"
      },
      "source": [
        "# Tree-Map w/ Words that appear in a least 2.5% of documents. \n",
        "\n",
        "wc = wc[wc['appears_in_pct'] >= 0.025]\n",
        "\n",
        "sns.distplot(wc['appears_in_pct']);"
      ],
      "execution_count": null,
      "outputs": [
        {
          "output_type": "display_data",
          "data": {
            "image/png": "[encoded data removed]",
            "text/plain": [
              "<Figure size 432x288 with 1 Axes>"
            ]
          },
          "metadata": {
            "tags": [],
            "needs_background": "light"
          }
        }
      ]
    },
    {
      "cell_type": "code",
      "metadata": {
        "id": "Rd1C4RO0GEsY",
        "colab": {
          "base_uri": "https://localhost:8080/",
          "height": 34
        },
        "outputId": "482e16c1-f12e-4b0f-e3fb-d06e8ab833c0"
      },
      "source": [
        "wc.shape"
      ],
      "execution_count": null,
      "outputs": [
        {
          "output_type": "execute_result",
          "data": {
            "text/plain": [
              "(80, 7)"
            ]
          },
          "metadata": {
            "tags": []
          },
          "execution_count": 60
        }
      ]
    },
    {
      "cell_type": "markdown",
      "metadata": {
        "id": "riFOSWTuGEsa"
      },
      "source": [
        "## Challenge\n",
        "\n",
        "In the module project, you will apply stop word removal to a new corpus. You will focus on applying dictionary based stop word removal, but as a stretch goal, you should consider applying statistical stopword trimming. "
      ]
    },
    {
      "cell_type": "markdown",
      "metadata": {
        "toc-hr-collapsed": true,
        "id": "xh6NpgGhGEsa"
      },
      "source": [
        "# Stemming & Lemmatization (Learn)\n",
        "<a id=\"p3\"></a>"
      ]
    },
    {
      "cell_type": "markdown",
      "metadata": {
        "toc-hr-collapsed": false,
        "id": "82BICah4GEsa"
      },
      "source": [
        "## Overview\n",
        "\n",
        "You can see from our example above there is still some normalization to do to get a clean analysis. You notice that there many words (*i.e.* 'batteries', 'battery') which share the same root word. We can use either the process of stemming or lemmatization to trim our words down to the 'root' word. \n",
        "\n",
        "__Section Agenda__:\n",
        "\n",
        "- Which is which\n",
        "- why use one v. other\n",
        "- show side by side visualizations \n",
        "- how to do it in spacy & nltk\n",
        "- introduce PoS in here as well"
      ]
    },
    {
      "cell_type": "markdown",
      "metadata": {
        "toc-hr-collapsed": true,
        "id": "Unc5QrF4GEsb"
      },
      "source": [
        "## Follow Along"
      ]
    },
    {
      "cell_type": "markdown",
      "metadata": {
        "toc-hr-collapsed": true,
        "id": "-2qObh4HGEsb"
      },
      "source": [
        "#### Stemming\n",
        "\n",
        "> *a process for removing the commoner morphological and inflexional endings from words in English. Its main use is as part of a term normalisation process that is usually done when setting up Information Retrieval systems.* - [Martin Porter](https://tartarus.org/martin/PorterStemmer/)\n",
        "\n",
        "Some examples include:\n",
        "- 'ing'\n",
        "- 'ed'\n",
        "- 's'\n",
        "\n",
        "These rules are by no means comprehensive, but they are somewhere to start. Most stemming is done by well documented algorithms such as Porter, Snowball, and Dawson. Porter and its newer version Snowball are the most popular stemming algorithms today. For more information on various stemming algorithms check out [*\"A Comparative Study of Stemming Algorithms\"*](https://pdfs.semanticscholar.org/1c0c/0fa35d4ff8a2f925eb955e48d655494bd167.pdf) \n",
        "\n",
        "\n",
        "Spacy does not do stemming out of the box, but instead uses a different technique called *lemmatization* which we will discuss in the next section. Let's turn to an antique python package `nltk` for stemming. "
      ]
    },
    {
      "cell_type": "code",
      "metadata": {
        "id": "o7z49DWNGEsb",
        "colab": {
          "base_uri": "https://localhost:8080/"
        },
        "outputId": "6e60b523-494e-451d-8427-a71961f43b69"
      },
      "source": [
        "# SIDE NOTE: in practice, you'll need to choose to use EITHER stemming or lematization -- but not both! \n",
        "\n",
        "from nltk.stem import PorterStemmer\n",
        "\n",
        "ps = PorterStemmer()\n",
        "\n",
        "words = [\"is\", \"was\", \"be\", \"are\", \"swim\", \"swimming\",\"swims\" , \"swim\"]\n",
        "\n",
        "for word in words:\n",
        "    print(ps.stem(word))"
      ],
      "execution_count": 59,
      "outputs": [
        {
          "output_type": "stream",
          "text": [
            "is\n",
            "wa\n",
            "be\n",
            "are\n",
            "swim\n",
            "swim\n",
            "swim\n",
            "swam\n",
            "swam\n"
          ],
          "name": "stdout"
        }
      ]
    },
    {
      "cell_type": "markdown",
      "metadata": {
        "id": "xkPTDh-dGEsd"
      },
      "source": [
        "### Two Minute Challenge\n",
        "\n",
        "Apply the Porter stemming algorithm to the tokens in the `df` dataframe. Visualize the results in the tree graph we have been using for this session."
      ]
    },
    {
      "cell_type": "code",
      "metadata": {
        "id": "sCrtEa_uGEsd"
      },
      "source": [
        "# Put in a new column `stems`\n",
        "def get_stems(text):\n",
        "  return [ps.stem(word) for word in text.split() if word not in STOP_WORDS]\n",
        "\n",
        "df['stems'] = df['reviews.text'].apply(get_stems)"
      ],
      "execution_count": 60,
      "outputs": []
    },
    {
      "cell_type": "code",
      "metadata": {
        "id": "kmUVO9G4GEse",
        "colab": {
          "base_uri": "https://localhost:8080/",
          "height": 248
        },
        "outputId": "679cc771-0eca-4f4f-fb08-07ba7d7ece2d"
      },
      "source": [
        "wc = count(df['stems'])\n",
        "\n",
        "wc_top20 = wc[wc['rank'] <= 20]\n",
        "\n",
        "squarify.plot(sizes=wc_top20['pct_total'], label=wc_top20['word'], alpha=.8 )\n",
        "plt.axis('off')\n",
        "plt.show()"
      ],
      "execution_count": 61,
      "outputs": [
        {
          "output_type": "display_data",
          "data": {
            "image/png": "[encoded data removed]",
            "text/plain": [
              "<Figure size 432x288 with 1 Axes>"
            ]
          },
          "metadata": {
            "tags": [],
            "needs_background": "light"
          }
        }
      ]
    },
    {
      "cell_type": "markdown",
      "metadata": {
        "toc-hr-collapsed": false,
        "id": "HU96W_PnGEsg"
      },
      "source": [
        "### Lemmatization\n",
        "\n",
        "You notice immediately that results are kinda funky - words just oddly chopped off. The Porter algorithm did exactly what it knows to do: chop off endings. Stemming works well in applications where humans don't have to worry about reading the results. Search engines and more broadly information retrieval algorithms use stemming. Why? Because it's fast. \n",
        "\n",
        "Lemmatization on the other hand is more methodical. The goal is to transform a word into its base form called a lemma. Plural nouns with funky spellings get transformed to singular tense. Verbs are all transformed to the transitive. Nice tidy data for a visualization. :) However, this tidy data can come at computational cost. Spacy does a pretty freaking good job of it though. Let's take a look:"
      ]
    },
    {
      "cell_type": "code",
      "metadata": {
        "id": "c1uvFqG9GEsg",
        "colab": {
          "base_uri": "https://localhost:8080/"
        },
        "outputId": "77878323-b609-49b8-8a99-9f794094cd63"
      },
      "source": [
        "sent = \"wolves, wolf\"\n",
        "doc = nlp(sent)\n",
        "\n",
        "# Lemma Attributes\n",
        "for token in doc:\n",
        "    print(token.text, \"  \", token.lemma_)"
      ],
      "execution_count": 63,
      "outputs": [
        {
          "output_type": "stream",
          "text": [
            "wolves    wolf\n",
            ",    ,\n",
            "wolf    wolf\n"
          ],
          "name": "stdout"
        }
      ]
    },
    {
      "cell_type": "code",
      "metadata": {
        "id": "sjt7J4RsGEsh"
      },
      "source": [
        "# Wrap it all in a function\n",
        "def get_lemmas(text):\n",
        "\n",
        "    lemmas = []\n",
        "    \n",
        "    doc = nlp(text)\n",
        "    \n",
        "    # Something goes here :P\n",
        "    for token in doc: \n",
        "        if ((token.is_stop == False) and (token.is_punct == False) and (token.pos_ != 'PRON')):\n",
        "            lemmas.append(token.lemma_.lower())\n",
        "    \n",
        "    return lemmas"
      ],
      "execution_count": 64,
      "outputs": []
    },
    {
      "cell_type": "code",
      "metadata": {
        "id": "P0RL6T5OGEsi"
      },
      "source": [
        "df['lemmas'] = df['reviews.text'].apply(get_lemmas)  # Takes a few minutes!"
      ],
      "execution_count": 65,
      "outputs": []
    },
    {
      "cell_type": "code",
      "metadata": {
        "id": "V50IDI9_GEsj",
        "colab": {
          "base_uri": "https://localhost:8080/",
          "height": 119
        },
        "outputId": "91cd8059-235e-4e4c-ec87-c67c962d3548"
      },
      "source": [
        "df['lemmas'].head()"
      ],
      "execution_count": null,
      "outputs": [
        {
          "output_type": "execute_result",
          "data": {
            "text/plain": [
              "8343    [great, case, place, husband, love, hold, lot,...\n",
              "8344    [discard, get, rid, broken, cd, case, broken, ...\n",
              "8345                            [dollar, boycott, amazon]\n",
              "8346    [initial, impression, good, material, nice, sh...\n",
              "8347    [pro, Standard, Echo, con, old, generation, Ec...\n",
              "Name: lemmas, dtype: object"
            ]
          },
          "metadata": {
            "tags": []
          },
          "execution_count": 76
        }
      ]
    },
    {
      "cell_type": "code",
      "metadata": {
        "id": "D4FNmpcNGEsl",
        "colab": {
          "base_uri": "https://localhost:8080/",
          "height": 248
        },
        "outputId": "5236c048-395c-408b-bf46-e6dbec91f2bc"
      },
      "source": [
        "wc = count(df['lemmas'])\n",
        "wc_top20 = wc[wc['rank'] <= 20]\n",
        "\n",
        "squarify.plot(sizes=wc_top20['pct_total'], label=wc_top20['word'], alpha=.8 )\n",
        "plt.axis('off')\n",
        "plt.show()"
      ],
      "execution_count": null,
      "outputs": [
        {
          "output_type": "display_data",
          "data": {
            "image/png": "[encoded data removed]",
            "text/plain": [
              "<Figure size 432x288 with 1 Axes>"
            ]
          },
          "metadata": {
            "tags": [],
            "needs_background": "light"
          }
        }
      ]
    },
    {
      "cell_type": "markdown",
      "metadata": {
        "id": "G_0hfUbGGEsn"
      },
      "source": [
        "## Challenge\n",
        "\n",
        "You should know how to apply lemmatization with Spacy to a corpus of text. "
      ]
    },
    {
      "cell_type": "markdown",
      "metadata": {
        "id": "TV0MV3qqGEso"
      },
      "source": [
        "# Review\n",
        "\n",
        "In this module project, you've seen us apply Natural Language Processing techniques (tokenization, stopword removal, and lemmatization) to a corpus of Amazon text reviews. We analyzed those reviews using these techniques and discovered that Amazon customers are generally satisfied with the battery life of Amazon products and generally appear satisfied. \n",
        "\n",
        "You will apply similar techniques to today's [module project assignment](LS_DS_411_Text_Data_Assignment.ipynb) to analyze coffee shop reviews from yelp. Remember that the techniques of processing the text are just the beginning. There are many ways to slice and dice the data. "
      ]
    },
    {
      "cell_type": "markdown",
      "metadata": {
        "id": "sf2wyGutGEso"
      },
      "source": [
        "# Sources\n",
        "\n",
        "* Spacy 101 - https://course.spacy.io\n",
        "* NLTK Book - https://www.nltk.org/book/\n",
        "* An Introduction to Information Retrieval - https://nlp.stanford.edu/IR-book/pdf/irbookonlinereading.pdf"
      ]
    },
    {
      "cell_type": "markdown",
      "metadata": {
        "toc-hr-collapsed": true,
        "id": "TIXFuZCEGEso"
      },
      "source": [
        "## Advanced Resources & Techniques\n",
        "- Named Entity Recognition (NER)\n",
        "- Dependcy Trees \n",
        "- Generators\n",
        "- the major libraries (NLTK, Spacy, Gensim)"
      ]
    }
  ]
}