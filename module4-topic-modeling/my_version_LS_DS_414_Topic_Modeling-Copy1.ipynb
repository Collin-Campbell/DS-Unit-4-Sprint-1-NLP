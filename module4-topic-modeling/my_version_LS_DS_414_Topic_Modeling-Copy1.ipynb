{
 "cells": [
  {
   "cell_type": "markdown",
   "metadata": {
    "colab_type": "text",
    "id": "cOMBkFKn6uEK"
   },
   "source": [
    "# Topic Modeling (Prepare)\n",
    "\n",
    "On Monday we talked about summarizing your documents using just token counts. Today, we're going to learn about a much more sophisticated approach - learning 'topics' from documents. Topics are a latent structure. They are not directly observable in the data, but we know they're there by reading them.\n",
    "\n",
    "> **latent**: existing but not yet developed or manifest; hidden or concealed.\n",
    "\n",
    "## Use Cases\n",
    "Primary use case: what the hell are your documents about? Who might want to know that in industry - \n",
    "* Identifying common themes in customer reviews\n",
    "* Discovering the needle in a haystack \n",
    "* Monitoring communications (Email - State Department) \n",
    "\n",
    "## Learning Objectives\n",
    "*At the end of the lesson you should be able to:*\n",
    "* Part 0: Warm-Up\n",
    "* Part 1: Describe how an LDA Model works\n",
    "* Part 2: Estimate a LDA Model with Gensim\n",
    "* Part 3: Interpret LDA results & Select the appropriate number of topics"
   ]
  },
  {
   "cell_type": "markdown",
   "metadata": {
    "colab_type": "text",
    "id": "cxH0cRGX6uEL"
   },
   "source": [
    "# Part 0: Warm-Up\n",
    "How do we do a grid search? "
   ]
  },
  {
   "cell_type": "code",
   "execution_count": 1,
   "metadata": {},
   "outputs": [],
   "source": [
    "import warnings\n",
    "warnings.filterwarnings(\"ignore\")"
   ]
  },
  {
   "cell_type": "code",
   "execution_count": 2,
   "metadata": {
    "colab": {},
    "colab_type": "code",
    "id": "rnyNg8sQ6uEL"
   },
   "outputs": [],
   "source": [
    "import pandas as pd\n",
    "from sklearn.datasets import fetch_20newsgroups\n",
    "from sklearn.ensemble import RandomForestClassifier\n",
    "from sklearn.model_selection import GridSearchCV\n",
    "from sklearn.feature_extraction.text import TfidfVectorizer"
   ]
  },
  {
   "cell_type": "code",
   "execution_count": 3,
   "metadata": {
    "colab": {
     "base_uri": "https://localhost:8080/",
     "height": 52
    },
    "colab_type": "code",
    "id": "boKWVkRz6uEO",
    "outputId": "2d3f688e-8cc8-44a4-9629-7c58285e1323"
   },
   "outputs": [],
   "source": [
    "# this is the dataset that we'll be using for topic modeling as well \n",
    "# RUNTIME ISSUE ADVISE: \n",
    "# IF YOUR CODE TAKES TOO LONG TO RUN, TRY TAKING A RANDOM SUBSAMPLE OF THE DATA. GET EVERYTHING TO RUN ON A SMALL DATASET, ONCE THAT WORKS INCREASE THE SIZE OF THE DATASET\n",
    "# ALTERNATIVELY, YOU COULD WORK WITH 3 OR 4 TOPICS INSTEAD OF ALL 20 JUST AS WE DID IN YESTERDAY'S LESSON \n",
    "\n",
    "# for simplicity, I'm going to only work with 3 topics \n",
    "categories = [\"comp.sys.mac.hardware\", \n",
    "              \"comp.graphics\", \n",
    "              \"sci.space\"]\n",
    "data = fetch_20newsgroups(categories=categories)"
   ]
  },
  {
   "cell_type": "code",
   "execution_count": 4,
   "metadata": {
    "colab": {
     "base_uri": "https://localhost:8080/",
     "height": 35
    },
    "colab_type": "code",
    "id": "hPpukADi7Ofv",
    "outputId": "e7687121-ebeb-4b2b-af87-f87228e7fb59"
   },
   "outputs": [
    {
     "data": {
      "text/plain": [
       "array([1, 2, 1, 2, 0])"
      ]
     },
     "execution_count": 4,
     "metadata": {},
     "output_type": "execute_result"
    }
   ],
   "source": [
    "data.target[:5]"
   ]
  },
  {
   "cell_type": "code",
   "execution_count": 5,
   "metadata": {},
   "outputs": [
    {
     "data": {
      "text/plain": [
       "['comp.graphics', 'comp.sys.mac.hardware', 'sci.space']"
      ]
     },
     "execution_count": 5,
     "metadata": {},
     "output_type": "execute_result"
    }
   ],
   "source": [
    "data.target_names"
   ]
  },
  {
   "cell_type": "code",
   "execution_count": 6,
   "metadata": {
    "colab": {
     "base_uri": "https://localhost:8080/",
     "height": 103
    },
    "colab_type": "code",
    "id": "JbVoIoMm8HbR",
    "outputId": "c8d0bd77-f656-4cc1-d65f-54020ee5587b"
   },
   "outputs": [
    {
     "data": {
      "text/plain": [
       "\"From: ayr1@cunixa.cc.columbia.edu (Amir Y Rosenblatt)\\nSubject: Power Supplies for Mac 512's\\nSummary: I need them\\nNntp-Posting-Host: cunixa.cc.columbia.edu\\nReply-To: ayr1@cunixa.cc.columbia.edu (Amir Y Rosenblatt)\\nOrganization: Columbia University\\nLines: 13\\n\\n\\nI thnik i'll be able to pick up  a piar of Mac 512K's for nothing, but\\ntheir power supplies are dead.  Anyone know where I can pick up a pair\\nof refurbished PS's for cheap (preferably mail order).\\nYes, I do have uses planned fior them.  One will be sold to a friend who\\njust needs a terminal to connect via modem to his e-mail account.\\nThe other will be used by me as a net client to run my downloads and/or\\nprinting.\\n  \\nAlso, what is the latest system software usable with these suckers?\\n\\n\\n\\n\""
      ]
     },
     "execution_count": 6,
     "metadata": {},
     "output_type": "execute_result"
    }
   ],
   "source": [
    "data['data'][1000]"
   ]
  },
  {
   "cell_type": "markdown",
   "metadata": {
    "colab_type": "text",
    "id": "w-39zg9a6uEQ"
   },
   "source": [
    "### GridSearch on Just Classifier\n",
    "* Fit the vectorizer and prepare BEFORE it goes into the gridsearch"
   ]
  },
  {
   "cell_type": "code",
   "execution_count": 7,
   "metadata": {
    "colab": {},
    "colab_type": "code",
    "id": "2q3NmHEo6uEQ"
   },
   "outputs": [],
   "source": [
    "v1 = TfidfVectorizer(stop_words=\"english\")\n",
    "X = data['data'] # raw text data\n",
    "X_train = v1.fit_transform(X)"
   ]
  },
  {
   "cell_type": "code",
   "execution_count": 8,
   "metadata": {},
   "outputs": [
    {
     "data": {
      "text/plain": [
       "<1755x28321 sparse matrix of type '<class 'numpy.float64'>'\n",
       "\twith 174095 stored elements in Compressed Sparse Row format>"
      ]
     },
     "execution_count": 8,
     "metadata": {},
     "output_type": "execute_result"
    }
   ],
   "source": [
    "X_train # doc-term matrix"
   ]
  },
  {
   "cell_type": "code",
   "execution_count": 11,
   "metadata": {
    "colab": {},
    "colab_type": "code",
    "id": "LX3a4nUI6uES"
   },
   "outputs": [],
   "source": [
    "# parameter dict\n",
    "p1 = {\n",
    "    'n_estimators':[10,20],\n",
    "    'max_depth': [None, 7]\n",
    "}"
   ]
  },
  {
   "cell_type": "code",
   "execution_count": null,
   "metadata": {},
   "outputs": [],
   "source": []
  },
  {
   "cell_type": "code",
   "execution_count": 13,
   "metadata": {
    "colab": {
     "base_uri": "https://localhost:8080/",
     "height": 422
    },
    "colab_type": "code",
    "id": "7OfA7KNQ6uEU",
    "outputId": "a00f5e73-6373-4bf0-bb79-11fb2de865af"
   },
   "outputs": [
    {
     "name": "stdout",
     "output_type": "stream",
     "text": [
      "Fitting 5 folds for each of 4 candidates, totalling 20 fits\n"
     ]
    },
    {
     "name": "stderr",
     "output_type": "stream",
     "text": [
      "[Parallel(n_jobs=-1)]: Using backend LokyBackend with 12 concurrent workers.\n",
      "[Parallel(n_jobs=-1)]: Done  18 out of  20 | elapsed:    1.5s remaining:    0.2s\n",
      "[Parallel(n_jobs=-1)]: Done  20 out of  20 | elapsed:    1.6s finished\n"
     ]
    },
    {
     "data": {
      "text/plain": [
       "GridSearchCV(cv=5, error_score=nan,\n",
       "             estimator=RandomForestClassifier(bootstrap=True, ccp_alpha=0.0,\n",
       "                                              class_weight=None,\n",
       "                                              criterion='gini', max_depth=None,\n",
       "                                              max_features='auto',\n",
       "                                              max_leaf_nodes=None,\n",
       "                                              max_samples=None,\n",
       "                                              min_impurity_decrease=0.0,\n",
       "                                              min_impurity_split=None,\n",
       "                                              min_samples_leaf=1,\n",
       "                                              min_samples_split=2,\n",
       "                                              min_weight_fraction_leaf=0.0,\n",
       "                                              n_estimators=100, n_jobs=None,\n",
       "                                              oob_score=False,\n",
       "                                              random_state=None, verbose=0,\n",
       "                                              warm_start=False),\n",
       "             iid='deprecated', n_jobs=-1,\n",
       "             param_grid={'max_depth': [None, 7], 'n_estimators': [10, 20]},\n",
       "             pre_dispatch='2*n_jobs', refit=True, return_train_score=False,\n",
       "             scoring=None, verbose=1)"
      ]
     },
     "execution_count": 13,
     "metadata": {},
     "output_type": "execute_result"
    }
   ],
   "source": [
    "clf = RandomForestClassifier()\n",
    "gs1 = GridSearchCV(clf, p1, cv=5,n_jobs=-1, verbose=1)\n",
    "gs1.fit(X_train, data['target'])"
   ]
  },
  {
   "cell_type": "code",
   "execution_count": null,
   "metadata": {
    "colab": {},
    "colab_type": "code",
    "id": "cMq_hw5W6uEX"
   },
   "outputs": [],
   "source": [
    "#gs1.predict([\"Sample text\"])"
   ]
  },
  {
   "cell_type": "code",
   "execution_count": 14,
   "metadata": {
    "colab": {
     "base_uri": "https://localhost:8080/",
     "height": 35
    },
    "colab_type": "code",
    "id": "gDkMaXvG83Zt",
    "outputId": "f3a55d86-209d-47b2-dd44-c23532ffcf2a"
   },
   "outputs": [
    {
     "data": {
      "text/plain": [
       "(1, 28321)"
      ]
     },
     "execution_count": 14,
     "metadata": {},
     "output_type": "execute_result"
    }
   ],
   "source": [
    "user_data_from_website = [\"I like medical science and doctors and good health.\"]\n",
    "test_sample = v1.transform(user_data_from_website)\n",
    "test_sample.shape"
   ]
  },
  {
   "cell_type": "code",
   "execution_count": 16,
   "metadata": {},
   "outputs": [
    {
     "data": {
      "text/plain": [
       "matrix([[0., 0., 0., ..., 0., 0., 0.]])"
      ]
     },
     "execution_count": 16,
     "metadata": {},
     "output_type": "execute_result"
    }
   ],
   "source": [
    "test_sample.todense()"
   ]
  },
  {
   "cell_type": "code",
   "execution_count": 17,
   "metadata": {
    "colab": {
     "base_uri": "https://localhost:8080/",
     "height": 35
    },
    "colab_type": "code",
    "id": "BLgsZtKJ8o01",
    "outputId": "f0cb136d-b00a-44af-a0f9-7eb5f8586bf8"
   },
   "outputs": [
    {
     "data": {
      "text/plain": [
       "array([0])"
      ]
     },
     "execution_count": 17,
     "metadata": {},
     "output_type": "execute_result"
    }
   ],
   "source": [
    "pred = gs1.predict(test_sample)\n",
    "pred"
   ]
  },
  {
   "cell_type": "code",
   "execution_count": 19,
   "metadata": {
    "colab": {
     "base_uri": "https://localhost:8080/",
     "height": 35
    },
    "colab_type": "code",
    "id": "vLGkB8Vz9Otq",
    "outputId": "b0f83ac4-2a4d-4d84-b94d-73328a86a7f7"
   },
   "outputs": [
    {
     "data": {
      "text/plain": [
       "'comp.graphics'"
      ]
     },
     "execution_count": 19,
     "metadata": {},
     "output_type": "execute_result"
    }
   ],
   "source": [
    "data['target_names'][pred[0]]"
   ]
  },
  {
   "cell_type": "markdown",
   "metadata": {
    "colab_type": "text",
    "id": "WdVTuXKl6uEZ"
   },
   "source": [
    "### GridSearch with BOTH the Vectoizer & Classifier"
   ]
  },
  {
   "cell_type": "code",
   "execution_count": 20,
   "metadata": {
    "colab": {
     "base_uri": "https://localhost:8080/",
     "height": 668
    },
    "colab_type": "code",
    "id": "97TjUtoI6uEZ",
    "outputId": "207e8cb3-5e82-4077-ac25-2406d21c3607"
   },
   "outputs": [
    {
     "name": "stdout",
     "output_type": "stream",
     "text": [
      "Fitting 5 folds for each of 8 candidates, totalling 40 fits\n"
     ]
    },
    {
     "name": "stderr",
     "output_type": "stream",
     "text": [
      "[Parallel(n_jobs=-1)]: Using backend LokyBackend with 12 concurrent workers.\n",
      "[Parallel(n_jobs=-1)]: Done  40 out of  40 | elapsed:    3.5s finished\n"
     ]
    },
    {
     "data": {
      "text/plain": [
       "GridSearchCV(cv=5, error_score=nan,\n",
       "             estimator=Pipeline(memory=None,\n",
       "                                steps=[('vect',\n",
       "                                        TfidfVectorizer(analyzer='word',\n",
       "                                                        binary=False,\n",
       "                                                        decode_error='strict',\n",
       "                                                        dtype=<class 'numpy.float64'>,\n",
       "                                                        encoding='utf-8',\n",
       "                                                        input='content',\n",
       "                                                        lowercase=True,\n",
       "                                                        max_df=1.0,\n",
       "                                                        max_features=None,\n",
       "                                                        min_df=1,\n",
       "                                                        ngram_range=(1, 1),\n",
       "                                                        norm='l2',\n",
       "                                                        preprocessor=None,\n",
       "                                                        smooth_idf=True,\n",
       "                                                        stop_words=None,\n",
       "                                                        strip_acce...\n",
       "                                                               min_samples_split=2,\n",
       "                                                               min_weight_fraction_leaf=0.0,\n",
       "                                                               n_estimators=100,\n",
       "                                                               n_jobs=None,\n",
       "                                                               oob_score=False,\n",
       "                                                               random_state=None,\n",
       "                                                               verbose=0,\n",
       "                                                               warm_start=False))],\n",
       "                                verbose=False),\n",
       "             iid='deprecated', n_jobs=-1,\n",
       "             param_grid={'clf__max_depth': [None, 7],\n",
       "                         'clf__n_estimators': [10, 20],\n",
       "                         'vect__max_features': [1000, 5000]},\n",
       "             pre_dispatch='2*n_jobs', refit=True, return_train_score=False,\n",
       "             scoring=None, verbose=1)"
      ]
     },
     "execution_count": 20,
     "metadata": {},
     "output_type": "execute_result"
    }
   ],
   "source": [
    "from sklearn.pipeline import Pipeline\n",
    "\n",
    "v2 = TfidfVectorizer()\n",
    "clf = RandomForestClassifier()\n",
    "\n",
    "pipe = Pipeline([\n",
    "    ('vect', v2),\n",
    "    ('clf', clf)\n",
    "])\n",
    "\n",
    "p2 = {\n",
    "    'vect__max_features':[1000,5000],\n",
    "    'clf__n_estimators':[10,20],\n",
    "    'clf__max_depth': [None, 7]\n",
    "}\n",
    "\n",
    "gs2 = GridSearchCV(pipe, p2, cv=5,n_jobs=-1, verbose=1)\n",
    "gs2.fit(data['data'], data['target'])"
   ]
  },
  {
   "cell_type": "code",
   "execution_count": 21,
   "metadata": {
    "colab": {},
    "colab_type": "code",
    "id": "IdIE67Us6uEc"
   },
   "outputs": [],
   "source": [
    "pred = gs2.predict([\"Sample text\"])"
   ]
  },
  {
   "cell_type": "code",
   "execution_count": 22,
   "metadata": {
    "colab": {
     "base_uri": "https://localhost:8080/",
     "height": 35
    },
    "colab_type": "code",
    "id": "xhcb5G0W-Dch",
    "outputId": "ead7a46e-5c4e-401d-d9ca-89b6f42ef85d"
   },
   "outputs": [
    {
     "data": {
      "text/plain": [
       "'comp.graphics'"
      ]
     },
     "execution_count": 22,
     "metadata": {},
     "output_type": "execute_result"
    }
   ],
   "source": [
    "data['target_names'][pred[0]]"
   ]
  },
  {
   "cell_type": "markdown",
   "metadata": {
    "colab_type": "text",
    "id": "F2R2ACd36uEd"
   },
   "source": [
    "Advantages to using GS with the Pipe:\n",
    "* Allows us to make predictions on raw text increasing reproducibility. :)\n",
    "* Allows us to tune the parameters of the vectorizer along side the classifier. :D "
   ]
  },
  {
   "cell_type": "markdown",
   "metadata": {
    "colab_type": "text",
    "id": "xbZjG6U86uEe"
   },
   "source": [
    "# Part 1: Describe how an LDA Model works"
   ]
  },
  {
   "cell_type": "markdown",
   "metadata": {},
   "source": [
    "[Your Guide to Latent Dirichlet Allocation](https://medium.com/@lettier/how-does-lda-work-ill-explain-using-emoji-108abf40fa7d)\n",
    "\n",
    "[LDA Topic Modeling](https://lettier.com/projects/lda-topic-modeling/)\n",
    "\n",
    "[Topic Modeling with Gensim](https://www.machinelearningplus.com/nlp/topic-modeling-gensim-python/)"
   ]
  },
  {
   "cell_type": "code",
   "execution_count": null,
   "metadata": {
    "colab": {
     "base_uri": "https://localhost:8080/",
     "height": 51
    },
    "colab_type": "code",
    "id": "yPIlE_IeF0cX",
    "outputId": "11cab929-9e79-43fd-fee7-08f42113cf24"
   },
   "outputs": [],
   "source": [
    "# # Download spacy model\n",
    "# alternative way to download the pre-trained model\n",
    "# import spacy.cli\n",
    "# spacy.cli.download(\"en_core_web_lg\")"
   ]
  },
  {
   "cell_type": "code",
   "execution_count": 9,
   "metadata": {
    "colab": {},
    "colab_type": "code",
    "id": "qapChu_UGBFc"
   },
   "outputs": [],
   "source": [
    "import re\n",
    "import numpy as np\n",
    "import pandas as pd\n",
    "from pprint import pprint\n",
    "\n",
    "# these are all gensim imports \n",
    "# check out the gensim docs: https://radimrehurek.com/gensim/\n",
    "import gensim\n",
    "import gensim.corpora as corpora\n",
    "from gensim.utils import simple_preprocess\n",
    "from gensim.models import CoherenceModel\n",
    "\n",
    "# we use spacy to load in the word2vec model \n",
    "import spacy\n",
    "\n",
    "# all these imports are for the data viz tool that we use to look at the LDA results and manually determine the topics in our dataset \n",
    "# check out the docs: https://pyldavis.readthedocs.io/en/latest/readme.html\n",
    "# the docs also have an EXAMPLE NOTEBOOK that is more detailed about this data viz tool than our lecture notebook: https://nbviewer.jupyter.org/github/bmabey/pyLDAvis/blob/master/notebooks/pyLDAvis_overview.ipynb\n",
    "import pyLDAvis\n",
    "import pyLDAvis.gensim \n",
    "import matplotlib.pyplot as plt\n",
    "%matplotlib inline"
   ]
  },
  {
   "cell_type": "code",
   "execution_count": 10,
   "metadata": {
    "colab": {
     "base_uri": "https://localhost:8080/",
     "height": 419
    },
    "colab_type": "code",
    "id": "qaMsy1XAGLxc",
    "outputId": "0a981642-93ef-4a95-c6a2-c5ca7c5151e0"
   },
   "outputs": [
    {
     "name": "stderr",
     "output_type": "stream",
     "text": [
      "/Users/alexanderbarriga/opt/anaconda3/envs/py37/lib/python3.7/site-packages/ipykernel/ipkernel.py:287: DeprecationWarning: `should_run_async` will not call `transform_cell` automatically in the future. Please pass the result to `transformed_cell` argument and any exception that happen during thetransform in `preprocessing_exc_tuple` in IPython 7.17 and above.\n",
      "  and should_run_async(code)\n"
     ]
    }
   ],
   "source": [
    "# load text data into dataframe because pandas dataframes are our prefered way to perform data manipulations \n",
    "df = pd.DataFrame({\n",
    "    'content': data['data'],\n",
    "    'target': data['target'],\n",
    "    'target_names': [data['target_names'][i] for i in data['target']]\n",
    "})"
   ]
  },
  {
   "cell_type": "code",
   "execution_count": 11,
   "metadata": {},
   "outputs": [
    {
     "name": "stderr",
     "output_type": "stream",
     "text": [
      "/Users/alexanderbarriga/opt/anaconda3/envs/py37/lib/python3.7/site-packages/ipykernel/ipkernel.py:287: DeprecationWarning: `should_run_async` will not call `transform_cell` automatically in the future. Please pass the result to `transformed_cell` argument and any exception that happen during thetransform in `preprocessing_exc_tuple` in IPython 7.17 and above.\n",
      "  and should_run_async(code)\n"
     ]
    },
    {
     "data": {
      "text/html": [
       "<div>\n",
       "<style scoped>\n",
       "    .dataframe tbody tr th:only-of-type {\n",
       "        vertical-align: middle;\n",
       "    }\n",
       "\n",
       "    .dataframe tbody tr th {\n",
       "        vertical-align: top;\n",
       "    }\n",
       "\n",
       "    .dataframe thead th {\n",
       "        text-align: right;\n",
       "    }\n",
       "</style>\n",
       "<table border=\"1\" class=\"dataframe\">\n",
       "  <thead>\n",
       "    <tr style=\"text-align: right;\">\n",
       "      <th></th>\n",
       "      <th>content</th>\n",
       "      <th>target</th>\n",
       "      <th>target_names</th>\n",
       "    </tr>\n",
       "  </thead>\n",
       "  <tbody>\n",
       "    <tr>\n",
       "      <th>0</th>\n",
       "      <td>From: meharg@kits.sfu.ca (Gersham William Meha...</td>\n",
       "      <td>1</td>\n",
       "      <td>comp.sys.mac.hardware</td>\n",
       "    </tr>\n",
       "    <tr>\n",
       "      <th>1</th>\n",
       "      <td>From: sheaffer@netcom.com (Robert Sheaffer)\\nS...</td>\n",
       "      <td>2</td>\n",
       "      <td>sci.space</td>\n",
       "    </tr>\n",
       "    <tr>\n",
       "      <th>2</th>\n",
       "      <td>From: winstead@faraday.ece.cmu.edu (Charles Ho...</td>\n",
       "      <td>1</td>\n",
       "      <td>comp.sys.mac.hardware</td>\n",
       "    </tr>\n",
       "    <tr>\n",
       "      <th>3</th>\n",
       "      <td>From: ralph.buttigieg@f635.n713.z3.fido.zeta.o...</td>\n",
       "      <td>2</td>\n",
       "      <td>sci.space</td>\n",
       "    </tr>\n",
       "    <tr>\n",
       "      <th>4</th>\n",
       "      <td>From: ednobles@sacam.OREN.ORTN.EDU (Edward d N...</td>\n",
       "      <td>0</td>\n",
       "      <td>comp.graphics</td>\n",
       "    </tr>\n",
       "  </tbody>\n",
       "</table>\n",
       "</div>"
      ],
      "text/plain": [
       "                                             content  target  \\\n",
       "0  From: meharg@kits.sfu.ca (Gersham William Meha...       1   \n",
       "1  From: sheaffer@netcom.com (Robert Sheaffer)\\nS...       2   \n",
       "2  From: winstead@faraday.ece.cmu.edu (Charles Ho...       1   \n",
       "3  From: ralph.buttigieg@f635.n713.z3.fido.zeta.o...       2   \n",
       "4  From: ednobles@sacam.OREN.ORTN.EDU (Edward d N...       0   \n",
       "\n",
       "            target_names  \n",
       "0  comp.sys.mac.hardware  \n",
       "1              sci.space  \n",
       "2  comp.sys.mac.hardware  \n",
       "3              sci.space  \n",
       "4          comp.graphics  "
      ]
     },
     "execution_count": 11,
     "metadata": {},
     "output_type": "execute_result"
    }
   ],
   "source": [
    "df.head()"
   ]
  },
  {
   "cell_type": "markdown",
   "metadata": {},
   "source": [
    "#### Some data cleaning before modeling"
   ]
  },
  {
   "cell_type": "code",
   "execution_count": 12,
   "metadata": {
    "colab": {
     "base_uri": "https://localhost:8080/",
     "height": 289
    },
    "colab_type": "code",
    "id": "na2bkOcFGter",
    "outputId": "6c8d1a19-3719-4e28-d8c6-d3202fdd6257"
   },
   "outputs": [
    {
     "name": "stderr",
     "output_type": "stream",
     "text": [
      "/Users/alexanderbarriga/opt/anaconda3/envs/py37/lib/python3.7/site-packages/ipykernel/ipkernel.py:287: DeprecationWarning: `should_run_async` will not call `transform_cell` automatically in the future. Please pass the result to `transformed_cell` argument and any exception that happen during thetransform in `preprocessing_exc_tuple` in IPython 7.17 and above.\n",
      "  and should_run_async(code)\n",
      "<>:13: DeprecationWarning: invalid escape sequence \\S\n",
      "<>:15: DeprecationWarning: invalid escape sequence \\s\n",
      "<>:13: DeprecationWarning: invalid escape sequence \\S\n",
      "<>:15: DeprecationWarning: invalid escape sequence \\s\n",
      "<>:13: DeprecationWarning: invalid escape sequence \\S\n",
      "<>:15: DeprecationWarning: invalid escape sequence \\s\n",
      "<ipython-input-12-fb02dbe85574>:13: DeprecationWarning: invalid escape sequence \\S\n",
      "  df['content'] = df['content'].apply(lambda x: re.sub('From: \\S+@\\S+', '', x))\n",
      "<ipython-input-12-fb02dbe85574>:15: DeprecationWarning: invalid escape sequence \\s\n",
      "  df['content'] = df['content'].apply(lambda x: re.sub('\\s+', ' ', x))\n"
     ]
    }
   ],
   "source": [
    "# This step by step way is one way to perform data cleaning (which is minimal here)\n",
    "# my advise is to create a function called clean_data where all cleaning transformations happen in that function\n",
    "# and you only have to call the .apply() method once\n",
    "# i.e. def clean_data(text)\n",
    "#          # include data cleaning code here\n",
    "#          return text \n",
    "#\n",
    "# i.e. df['content'] = df['content'].apply(lambda row: clean_data(row))\n",
    "\n",
    "# Remove whitespace\n",
    "df['content'] = df['content'].apply(lambda x: x.strip())\n",
    "# Remove Emails\n",
    "df['content'] = df['content'].apply(lambda x: re.sub('From: \\S+@\\S+', '', x))\n",
    "# Remove new line characters\n",
    "df['content'] = df['content'].apply(lambda x: re.sub('\\s+', ' ', x))\n",
    "# Remove non-alphanumeric characters\n",
    "df['content'] = df['content'].apply(lambda x: re.sub('[^0-9 a-zA-Z]+', '', x))"
   ]
  },
  {
   "cell_type": "code",
   "execution_count": 13,
   "metadata": {},
   "outputs": [
    {
     "name": "stderr",
     "output_type": "stream",
     "text": [
      "/Users/alexanderbarriga/opt/anaconda3/envs/py37/lib/python3.7/site-packages/ipykernel/ipkernel.py:287: DeprecationWarning: `should_run_async` will not call `transform_cell` automatically in the future. Please pass the result to `transformed_cell` argument and any exception that happen during thetransform in `preprocessing_exc_tuple` in IPython 7.17 and above.\n",
      "  and should_run_async(code)\n"
     ]
    },
    {
     "data": {
      "text/html": [
       "<div>\n",
       "<style scoped>\n",
       "    .dataframe tbody tr th:only-of-type {\n",
       "        vertical-align: middle;\n",
       "    }\n",
       "\n",
       "    .dataframe tbody tr th {\n",
       "        vertical-align: top;\n",
       "    }\n",
       "\n",
       "    .dataframe thead th {\n",
       "        text-align: right;\n",
       "    }\n",
       "</style>\n",
       "<table border=\"1\" class=\"dataframe\">\n",
       "  <thead>\n",
       "    <tr style=\"text-align: right;\">\n",
       "      <th></th>\n",
       "      <th>content</th>\n",
       "      <th>target</th>\n",
       "      <th>target_names</th>\n",
       "    </tr>\n",
       "  </thead>\n",
       "  <tbody>\n",
       "    <tr>\n",
       "      <th>0</th>\n",
       "      <td>Gersham William Meharg Subject Re Centris 610...</td>\n",
       "      <td>1</td>\n",
       "      <td>comp.sys.mac.hardware</td>\n",
       "    </tr>\n",
       "    <tr>\n",
       "      <th>1</th>\n",
       "      <td>Robert Sheaffer Subject Re Astronomy Program ...</td>\n",
       "      <td>2</td>\n",
       "      <td>sci.space</td>\n",
       "    </tr>\n",
       "    <tr>\n",
       "      <th>2</th>\n",
       "      <td>Charles Holden Winstead Subject ftp site for ...</td>\n",
       "      <td>1</td>\n",
       "      <td>comp.sys.mac.hardware</td>\n",
       "    </tr>\n",
       "    <tr>\n",
       "      <th>3</th>\n",
       "      <td>Ralph Buttigieg Subject Why not give 1 billio...</td>\n",
       "      <td>2</td>\n",
       "      <td>sci.space</td>\n",
       "    </tr>\n",
       "    <tr>\n",
       "      <th>4</th>\n",
       "      <td>Edward d Nobles Subject windows imagine Organ...</td>\n",
       "      <td>0</td>\n",
       "      <td>comp.graphics</td>\n",
       "    </tr>\n",
       "  </tbody>\n",
       "</table>\n",
       "</div>"
      ],
      "text/plain": [
       "                                             content  target  \\\n",
       "0   Gersham William Meharg Subject Re Centris 610...       1   \n",
       "1   Robert Sheaffer Subject Re Astronomy Program ...       2   \n",
       "2   Charles Holden Winstead Subject ftp site for ...       1   \n",
       "3   Ralph Buttigieg Subject Why not give 1 billio...       2   \n",
       "4   Edward d Nobles Subject windows imagine Organ...       0   \n",
       "\n",
       "            target_names  \n",
       "0  comp.sys.mac.hardware  \n",
       "1              sci.space  \n",
       "2  comp.sys.mac.hardware  \n",
       "3              sci.space  \n",
       "4          comp.graphics  "
      ]
     },
     "execution_count": 13,
     "metadata": {},
     "output_type": "execute_result"
    }
   ],
   "source": [
    "df.head()"
   ]
  },
  {
   "cell_type": "code",
   "execution_count": 16,
   "metadata": {},
   "outputs": [
    {
     "name": "stdout",
     "output_type": "stream",
     "text": [
      "INFO: Pandarallel will run on 10 workers.\n",
      "INFO: Pandarallel will use standard multiprocessing data transfer (pipe) to transfer data between the main process and workers.\n"
     ]
    },
    {
     "name": "stderr",
     "output_type": "stream",
     "text": [
      "/Users/alexanderbarriga/opt/anaconda3/envs/py37/lib/python3.7/site-packages/ipykernel/ipkernel.py:287: DeprecationWarning: `should_run_async` will not call `transform_cell` automatically in the future. Please pass the result to `transformed_cell` argument and any exception that happen during thetransform in `preprocessing_exc_tuple` in IPython 7.17 and above.\n",
      "  and should_run_async(code)\n"
     ]
    }
   ],
   "source": [
    "# if running locally on your laptop, it would be wise to take advantage of this parallelization tool\n",
    "# if running on Colab (which only has 2 cores), this tool might not be of use \n",
    "\n",
    "# check out the docs: https://github.com/nalepae/pandarallel/tree/v1.5.1\n",
    "from pandarallel import pandarallel\n",
    "pandarallel.initialize(progress_bar=True, nb_workers=10 )"
   ]
  },
  {
   "cell_type": "code",
   "execution_count": 17,
   "metadata": {},
   "outputs": [
    {
     "name": "stderr",
     "output_type": "stream",
     "text": [
      "/Users/alexanderbarriga/opt/anaconda3/envs/py37/lib/python3.7/site-packages/ipykernel/ipkernel.py:287: DeprecationWarning: `should_run_async` will not call `transform_cell` automatically in the future. Please pass the result to `transformed_cell` argument and any exception that happen during thetransform in `preprocessing_exc_tuple` in IPython 7.17 and above.\n",
      "  and should_run_async(code)\n"
     ]
    }
   ],
   "source": [
    "# load \n",
    "nlp = spacy.load(\"en_core_web_lg\")"
   ]
  },
  {
   "cell_type": "markdown",
   "metadata": {},
   "source": [
    "### Tokenize our raw text data"
   ]
  },
  {
   "cell_type": "code",
   "execution_count": 53,
   "metadata": {
    "colab": {},
    "colab_type": "code",
    "id": "6EBPQXqEKE9P"
   },
   "outputs": [
    {
     "name": "stderr",
     "output_type": "stream",
     "text": [
      "/Users/alexanderbarriga/opt/anaconda3/envs/py37/lib/python3.7/site-packages/ipykernel/ipkernel.py:287: DeprecationWarning: `should_run_async` will not call `transform_cell` automatically in the future. Please pass the result to `transformed_cell` argument and any exception that happen during thetransform in `preprocessing_exc_tuple` in IPython 7.17 and above.\n",
      "  and should_run_async(code)\n"
     ]
    }
   ],
   "source": [
    "# we are using spacy here to tokenize the text (after having cleaned the text)\n",
    "# what we are NOT using spacy for is to get those 300 dim vectors\n",
    "# LDA needs term frequencies, which the word2vec embedings are not \n",
    "#%%time\n",
    "\n",
    "# choosing to not use pandarallel here \n",
    "df['lemmas'] = df['content'].apply(lambda doc: [token.lemma_ for token in nlp(doc) if (token.is_stop != True) and (token.is_punct != True)])"
   ]
  },
  {
   "cell_type": "code",
   "execution_count": 22,
   "metadata": {
    "colab": {},
    "colab_type": "code",
    "id": "-yvsyIpvKBlw"
   },
   "outputs": [
    {
     "name": "stderr",
     "output_type": "stream",
     "text": [
      "/Users/alexanderbarriga/opt/anaconda3/envs/py37/lib/python3.7/site-packages/ipykernel/ipkernel.py:287: DeprecationWarning: `should_run_async` will not call `transform_cell` automatically in the future. Please pass the result to `transformed_cell` argument and any exception that happen during thetransform in `preprocessing_exc_tuple` in IPython 7.17 and above.\n",
      "  and should_run_async(code)\n"
     ]
    },
    {
     "data": {
      "text/html": [
       "<div>\n",
       "<style scoped>\n",
       "    .dataframe tbody tr th:only-of-type {\n",
       "        vertical-align: middle;\n",
       "    }\n",
       "\n",
       "    .dataframe tbody tr th {\n",
       "        vertical-align: top;\n",
       "    }\n",
       "\n",
       "    .dataframe thead th {\n",
       "        text-align: right;\n",
       "    }\n",
       "</style>\n",
       "<table border=\"1\" class=\"dataframe\">\n",
       "  <thead>\n",
       "    <tr style=\"text-align: right;\">\n",
       "      <th></th>\n",
       "      <th>content</th>\n",
       "      <th>target</th>\n",
       "      <th>target_names</th>\n",
       "      <th>lemmas</th>\n",
       "    </tr>\n",
       "  </thead>\n",
       "  <tbody>\n",
       "    <tr>\n",
       "      <th>0</th>\n",
       "      <td>Gersham William Meharg Subject Re Centris 610...</td>\n",
       "      <td>1</td>\n",
       "      <td>comp.sys.mac.hardware</td>\n",
       "      <td>[ , gersham, william, meharg, subject, centris...</td>\n",
       "    </tr>\n",
       "    <tr>\n",
       "      <th>1</th>\n",
       "      <td>Robert Sheaffer Subject Re Astronomy Program ...</td>\n",
       "      <td>2</td>\n",
       "      <td>sci.space</td>\n",
       "      <td>[ , robert, sheaffer, subject, astronomy, prog...</td>\n",
       "    </tr>\n",
       "    <tr>\n",
       "      <th>2</th>\n",
       "      <td>Charles Holden Winstead Subject ftp site for ...</td>\n",
       "      <td>1</td>\n",
       "      <td>comp.sys.mac.hardware</td>\n",
       "      <td>[ , charles, holden, winstead, subject, ftp, s...</td>\n",
       "    </tr>\n",
       "    <tr>\n",
       "      <th>3</th>\n",
       "      <td>Ralph Buttigieg Subject Why not give 1 billio...</td>\n",
       "      <td>2</td>\n",
       "      <td>sci.space</td>\n",
       "      <td>[ , ralph, buttigieg, subject, 1, billion, yea...</td>\n",
       "    </tr>\n",
       "    <tr>\n",
       "      <th>4</th>\n",
       "      <td>Edward d Nobles Subject windows imagine Organ...</td>\n",
       "      <td>0</td>\n",
       "      <td>comp.graphics</td>\n",
       "      <td>[ , edward, d, nobles, subject, window, imagin...</td>\n",
       "    </tr>\n",
       "  </tbody>\n",
       "</table>\n",
       "</div>"
      ],
      "text/plain": [
       "                                             content  target  \\\n",
       "0   Gersham William Meharg Subject Re Centris 610...       1   \n",
       "1   Robert Sheaffer Subject Re Astronomy Program ...       2   \n",
       "2   Charles Holden Winstead Subject ftp site for ...       1   \n",
       "3   Ralph Buttigieg Subject Why not give 1 billio...       2   \n",
       "4   Edward d Nobles Subject windows imagine Organ...       0   \n",
       "\n",
       "            target_names                                             lemmas  \n",
       "0  comp.sys.mac.hardware  [ , gersham, william, meharg, subject, centris...  \n",
       "1              sci.space  [ , robert, sheaffer, subject, astronomy, prog...  \n",
       "2  comp.sys.mac.hardware  [ , charles, holden, winstead, subject, ftp, s...  \n",
       "3              sci.space  [ , ralph, buttigieg, subject, 1, billion, yea...  \n",
       "4          comp.graphics  [ , edward, d, nobles, subject, window, imagin...  "
      ]
     },
     "execution_count": 22,
     "metadata": {},
     "output_type": "execute_result"
    }
   ],
   "source": [
    "df.head()"
   ]
  },
  {
   "cell_type": "markdown",
   "metadata": {},
   "source": [
    "### The two main inputs to the LDA topic model are the dictionary (id2word) and the corpus."
   ]
  },
  {
   "cell_type": "code",
   "execution_count": 55,
   "metadata": {
    "colab": {},
    "colab_type": "code",
    "id": "1klqRpqtJxWc"
   },
   "outputs": [
    {
     "name": "stderr",
     "output_type": "stream",
     "text": [
      "/Users/alexanderbarriga/opt/anaconda3/envs/py37/lib/python3.7/site-packages/ipykernel/ipkernel.py:287: DeprecationWarning: `should_run_async` will not call `transform_cell` automatically in the future. Please pass the result to `transformed_cell` argument and any exception that happen during thetransform in `preprocessing_exc_tuple` in IPython 7.17 and above.\n",
      "  and should_run_async(code)\n"
     ]
    }
   ],
   "source": [
    "#### SPRINT CHALLENGE ####\n",
    "# For the SC, you will need to create these two objects \"id2word\" and \"corpus\" because the LDA model needs them as input\n",
    "\n",
    "## the LDA model wants id2word and corpus as input \n",
    "\n",
    "# Create Dictionary\n",
    "# pass in tokens \n",
    "\n",
    "# check out docs for corpora.Dictionary: https://radimrehurek.com/gensim/corpora/dictionary.html\n",
    "id2word = corpora.Dictionary(df['lemmas'] )\n",
    "\n",
    "# Term Document Frequency\n",
    "corpus = [id2word.doc2bow(text) for text in df['lemmas']]"
   ]
  },
  {
   "cell_type": "code",
   "execution_count": 44,
   "metadata": {},
   "outputs": [
    {
     "name": "stderr",
     "output_type": "stream",
     "text": [
      "/Users/alexanderbarriga/opt/anaconda3/envs/py37/lib/python3.7/site-packages/ipykernel/ipkernel.py:287: DeprecationWarning: `should_run_async` will not call `transform_cell` automatically in the future. Please pass the result to `transformed_cell` argument and any exception that happen during thetransform in `preprocessing_exc_tuple` in IPython 7.17 and above.\n",
      "  and should_run_async(code)\n"
     ]
    }
   ],
   "source": [
    "id2word.filter_tokens([0])"
   ]
  },
  {
   "cell_type": "code",
   "execution_count": 27,
   "metadata": {},
   "outputs": [
    {
     "name": "stderr",
     "output_type": "stream",
     "text": [
      "/Users/alexanderbarriga/opt/anaconda3/envs/py37/lib/python3.7/site-packages/ipykernel/ipkernel.py:287: DeprecationWarning: `should_run_async` will not call `transform_cell` automatically in the future. Please pass the result to `transformed_cell` argument and any exception that happen during thetransform in `preprocessing_exc_tuple` in IPython 7.17 and above.\n",
      "  and should_run_async(code)\n"
     ]
    },
    {
     "data": {
      "text/plain": [
       "1755"
      ]
     },
     "execution_count": 27,
     "metadata": {},
     "output_type": "execute_result"
    }
   ],
   "source": [
    "len(corpus)"
   ]
  },
  {
   "cell_type": "code",
   "execution_count": 33,
   "metadata": {
    "collapsed": true,
    "jupyter": {
     "outputs_hidden": true
    }
   },
   "outputs": [
    {
     "name": "stderr",
     "output_type": "stream",
     "text": [
      "/Users/alexanderbarriga/opt/anaconda3/envs/py37/lib/python3.7/site-packages/ipykernel/ipkernel.py:287: DeprecationWarning: `should_run_async` will not call `transform_cell` automatically in the future. Please pass the result to `transformed_cell` argument and any exception that happen during thetransform in `preprocessing_exc_tuple` in IPython 7.17 and above.\n",
      "  and should_run_async(code)\n"
     ]
    },
    {
     "data": {
      "text/plain": [
       "[(0, 9),\n",
       " (25, 1),\n",
       " (33, 1),\n",
       " (41, 1),\n",
       " (43, 1),\n",
       " (119, 1),\n",
       " (145, 1),\n",
       " (146, 1),\n",
       " (148, 1),\n",
       " (154, 1),\n",
       " (250, 1),\n",
       " (271, 1),\n",
       " (276, 1),\n",
       " (277, 1),\n",
       " (278, 1),\n",
       " (350, 2),\n",
       " (462, 1),\n",
       " (488, 1),\n",
       " (543, 1),\n",
       " (556, 2),\n",
       " (564, 1),\n",
       " (696, 1),\n",
       " (838, 1),\n",
       " (874, 1),\n",
       " (877, 1),\n",
       " (1525, 1),\n",
       " (2090, 1),\n",
       " (2128, 1),\n",
       " (3213, 1),\n",
       " (3275, 1),\n",
       " (4527, 1),\n",
       " (4539, 3),\n",
       " (5160, 1),\n",
       " (5368, 1),\n",
       " (8062, 2),\n",
       " (9629, 1),\n",
       " (9630, 1),\n",
       " (9631, 2),\n",
       " (9632, 1),\n",
       " (9793, 1),\n",
       " (11499, 1),\n",
       " (11500, 1),\n",
       " (11501, 1),\n",
       " (11502, 1),\n",
       " (11503, 1),\n",
       " (11504, 1),\n",
       " (11505, 1)]"
      ]
     },
     "execution_count": 33,
     "metadata": {},
     "output_type": "execute_result"
    }
   ],
   "source": [
    "doc_id = 400\n",
    "corpus[doc_id]"
   ]
  },
  {
   "cell_type": "markdown",
   "metadata": {},
   "source": [
    "All we're doing in the cells between `id2word[200]` and `[(id2word[word_id], word_count) for word_id, word_count in corpus[5]]` is exploring how the objects we just created `id2word` and `corpus` are storing the tokens. Take some time to simply explore these objects, you might need to look up the documenation to get familar with these objects. Like I said in lecture, these objects store our tokens and give them certain functionality that the LDA model needs in order to run. Thats' all. "
   ]
  },
  {
   "cell_type": "code",
   "execution_count": 34,
   "metadata": {
    "colab": {},
    "colab_type": "code",
    "id": "ArZPxcP5LH1J"
   },
   "outputs": [
    {
     "name": "stderr",
     "output_type": "stream",
     "text": [
      "/Users/alexanderbarriga/opt/anaconda3/envs/py37/lib/python3.7/site-packages/ipykernel/ipkernel.py:287: DeprecationWarning: `should_run_async` will not call `transform_cell` automatically in the future. Please pass the result to `transformed_cell` argument and any exception that happen during thetransform in `preprocessing_exc_tuple` in IPython 7.17 and above.\n",
      "  and should_run_async(code)\n"
     ]
    },
    {
     "data": {
      "text/plain": [
       "'hmmm'"
      ]
     },
     "execution_count": 34,
     "metadata": {},
     "output_type": "execute_result"
    }
   ],
   "source": [
    "id2word[200]"
   ]
  },
  {
   "cell_type": "code",
   "execution_count": 35,
   "metadata": {},
   "outputs": [
    {
     "name": "stderr",
     "output_type": "stream",
     "text": [
      "/Users/alexanderbarriga/opt/anaconda3/envs/py37/lib/python3.7/site-packages/ipykernel/ipkernel.py:287: DeprecationWarning: `should_run_async` will not call `transform_cell` automatically in the future. Please pass the result to `transformed_cell` argument and any exception that happen during thetransform in `preprocessing_exc_tuple` in IPython 7.17 and above.\n",
      "  and should_run_async(code)\n"
     ]
    },
    {
     "data": {
      "text/plain": [
       "' Pat Subject Re Keeping Spacecraft on after Funding Cuts Organization Express Access Online Communications USA Lines 11 Distribution world NNTPPostingHost accessdigexnet Some birds require constant management for survival Pointing a sensor at the sun even when powered down may burn it out Pointing a parabolic antenna at Sol from venus orbit may trash the foci elements Even if you let teh bird drift it may get hosed by some cosmic phenomena pat'"
      ]
     },
     "execution_count": 35,
     "metadata": {},
     "output_type": "execute_result"
    }
   ],
   "source": [
    "df['content'][5]"
   ]
  },
  {
   "cell_type": "code",
   "execution_count": 38,
   "metadata": {},
   "outputs": [
    {
     "name": "stderr",
     "output_type": "stream",
     "text": [
      "/Users/alexanderbarriga/opt/anaconda3/envs/py37/lib/python3.7/site-packages/ipykernel/ipkernel.py:287: DeprecationWarning: `should_run_async` will not call `transform_cell` automatically in the future. Please pass the result to `transformed_cell` argument and any exception that happen during thetransform in `preprocessing_exc_tuple` in IPython 7.17 and above.\n",
      "  and should_run_async(code)\n"
     ]
    },
    {
     "data": {
      "text/plain": [
       "[' ', 'pat', 'subject', 'keep', 'spacecraft']"
      ]
     },
     "execution_count": 38,
     "metadata": {},
     "output_type": "execute_result"
    }
   ],
   "source": [
    "df[\"lemmas\"][5][:5]"
   ]
  },
  {
   "cell_type": "code",
   "execution_count": 42,
   "metadata": {},
   "outputs": [
    {
     "name": "stderr",
     "output_type": "stream",
     "text": [
      "/Users/alexanderbarriga/opt/anaconda3/envs/py37/lib/python3.7/site-packages/ipykernel/ipkernel.py:287: DeprecationWarning: `should_run_async` will not call `transform_cell` automatically in the future. Please pass the result to `transformed_cell` argument and any exception that happen during thetransform in `preprocessing_exc_tuple` in IPython 7.17 and above.\n",
      "  and should_run_async(code)\n"
     ]
    },
    {
     "data": {
      "text/plain": [
       "[(0, 1), (18, 1), (25, 1), (33, 1), (41, 1)]"
      ]
     },
     "execution_count": 42,
     "metadata": {},
     "output_type": "execute_result"
    }
   ],
   "source": [
    "corpus[5][:5]"
   ]
  },
  {
   "cell_type": "code",
   "execution_count": 40,
   "metadata": {
    "colab": {},
    "colab_type": "code",
    "id": "6K2jWxHJLOzK"
   },
   "outputs": [
    {
     "name": "stderr",
     "output_type": "stream",
     "text": [
      "/Users/alexanderbarriga/opt/anaconda3/envs/py37/lib/python3.7/site-packages/ipykernel/ipkernel.py:287: DeprecationWarning: `should_run_async` will not call `transform_cell` automatically in the future. Please pass the result to `transformed_cell` argument and any exception that happen during thetransform in `preprocessing_exc_tuple` in IPython 7.17 and above.\n",
      "  and should_run_async(code)\n"
     ]
    },
    {
     "data": {
      "text/plain": [
       "[(' ', 1),\n",
       " ('distribution', 1),\n",
       " ('lines', 1),\n",
       " ('organization', 1),\n",
       " ('subject', 1),\n",
       " ('online', 1),\n",
       " ('sun', 1),\n",
       " ('let', 1),\n",
       " ('world', 1),\n",
       " ('11', 1),\n",
       " ('access', 1),\n",
       " ('accessdigexnet', 1),\n",
       " ('antenna', 1),\n",
       " ('bird', 2),\n",
       " ('burn', 1),\n",
       " ('communications', 1),\n",
       " ('constant', 1),\n",
       " ('cosmic', 1),\n",
       " ('cuts', 1),\n",
       " ('drift', 1),\n",
       " ('element', 1),\n",
       " ('express', 1),\n",
       " ('foci', 1),\n",
       " ('funding', 1),\n",
       " ('hose', 1),\n",
       " ('keep', 1),\n",
       " ('management', 1),\n",
       " ('nntppostinghost', 1),\n",
       " ('orbit', 1),\n",
       " ('parabolic', 1),\n",
       " ('pat', 2),\n",
       " ('phenomenon', 1),\n",
       " ('point', 2),\n",
       " ('power', 1),\n",
       " ('require', 1),\n",
       " ('sensor', 1),\n",
       " ('sol', 1),\n",
       " ('spacecraft', 1),\n",
       " ('survival', 1),\n",
       " ('teh', 1),\n",
       " ('trash', 1),\n",
       " ('usa', 1),\n",
       " ('venus', 1)]"
      ]
     },
     "execution_count": 40,
     "metadata": {},
     "output_type": "execute_result"
    }
   ],
   "source": [
    "# Human readable format of corpus (term-frequency)\n",
    "[(id2word[word_id], word_count) for word_id, word_count in corpus[5]]"
   ]
  },
  {
   "cell_type": "markdown",
   "metadata": {},
   "source": [
    "# Part 2: Estimate a LDA Model with Gensim"
   ]
  },
  {
   "cell_type": "markdown",
   "metadata": {},
   "source": [
    " ### Train an LDA model"
   ]
  },
  {
   "cell_type": "code",
   "execution_count": null,
   "metadata": {
    "colab": {},
    "colab_type": "code",
    "id": "Fasvjf0VLQ2a"
   },
   "outputs": [],
   "source": [
    "# %%time\n",
    "# lda_model = gensim.models.ldamodel.LdaModel(corpus=corpus,\n",
    "#                                            id2word=id2word,\n",
    "#                                            num_topics=20, \n",
    "#                                            chunksize=100,\n",
    "#                                            passes=10,\n",
    "#                                            per_word_topics=True)\n",
    "# lda_model.save('lda_model.model')\n",
    "# # https://radimrehurek.com/gensim/models/ldamodel.html"
   ]
  },
  {
   "cell_type": "code",
   "execution_count": null,
   "metadata": {},
   "outputs": [],
   "source": [
    "#### SPRINT CHALLENGE ####\n",
    "# you'll need to run one of these cells (this one or above) in the SC in order to train your LDA Model\n",
    "\n",
    "# even if you're running this notebook on CoLab (which only has 2 cores), you might still benefit from running this multicore version of the model\n",
    "# If you prefer, you can ignore this cell and use the non-multicore version of the model in the above cell. \n",
    "\n",
    "#%%time\n",
    "lda_multicore = gensim.models.ldamulticore.LdaMulticore(corpus=corpus,\n",
    "                                                        id2word=id2word,\n",
    "                                                        num_topics = 3, # change num_topics to N, where N is the number of topics in your dataset \n",
    "                                                        chunksize=100,\n",
    "                                                        passes=10,\n",
    "                                                        per_word_topics=True,\n",
    "                                                        workers=10) # change workers to be N - 1, where N is the total number of cores that your computer has \n",
    "lda_multicore.save('lda_multicore.model')\n",
    "# https://radimrehurek.com/gensim/models/ldamulticore.html"
   ]
  },
  {
   "cell_type": "code",
   "execution_count": 46,
   "metadata": {},
   "outputs": [
    {
     "name": "stderr",
     "output_type": "stream",
     "text": [
      "/Users/alexanderbarriga/opt/anaconda3/envs/py37/lib/python3.7/site-packages/ipykernel/ipkernel.py:287: DeprecationWarning: `should_run_async` will not call `transform_cell` automatically in the future. Please pass the result to `transformed_cell` argument and any exception that happen during thetransform in `preprocessing_exc_tuple` in IPython 7.17 and above.\n",
      "  and should_run_async(code)\n"
     ]
    }
   ],
   "source": [
    "# independent of which of the above 2 cells you used, it's a good idea to save the model to file\n",
    "# you'll need to change the file path if you use the single core version of the cell\n",
    "\n",
    "from gensim import models\n",
    "lda_multicore =  models.LdaModel.load('lda_multicore.model')"
   ]
  },
  {
   "cell_type": "code",
   "execution_count": 47,
   "metadata": {},
   "outputs": [
    {
     "name": "stderr",
     "output_type": "stream",
     "text": [
      "/Users/alexanderbarriga/opt/anaconda3/envs/py37/lib/python3.7/site-packages/ipykernel/ipkernel.py:287: DeprecationWarning: `should_run_async` will not call `transform_cell` automatically in the future. Please pass the result to `transformed_cell` argument and any exception that happen during thetransform in `preprocessing_exc_tuple` in IPython 7.17 and above.\n",
      "  and should_run_async(code)\n"
     ]
    }
   ],
   "source": [
    "from pprint import pprint"
   ]
  },
  {
   "cell_type": "markdown",
   "metadata": {},
   "source": [
    "### View the topics in LDA model"
   ]
  },
  {
   "cell_type": "code",
   "execution_count": 48,
   "metadata": {
    "colab": {},
    "colab_type": "code",
    "id": "JawR8yscLVNS"
   },
   "outputs": [
    {
     "name": "stdout",
     "output_type": "stream",
     "text": [
      "[(0,\n",
      "  '0.019*\" \" + 0.007*\"launch\" + 0.006*\"space\" + 0.005*\"Space\" + 0.005*\"not\" + '\n",
      "  '0.004*\"satellite\" + 0.004*\"Organization\" + 0.004*\"NASA\" + 0.003*\"Subject\" + '\n",
      "  '0.003*\"write\"'),\n",
      " (1,\n",
      "  '0.041*\" \" + 0.009*\"not\" + 0.008*\"Organization\" + 0.008*\"Subject\" + '\n",
      "  '0.006*\"write\" + 0.005*\"  \" + 0.005*\"line\" + 0.005*\"Lines\" + '\n",
      "  '0.004*\"University\" + 0.004*\"know\"'),\n",
      " (2,\n",
      "  '0.048*\" \" + 0.007*\"  \" + 0.005*\"Organization\" + 0.005*\"Subject\" + '\n",
      "  '0.004*\"write\" + 0.004*\"image\" + 0.003*\"Lines\" + 0.003*\"use\" + 0.003*\"not\" + '\n",
      "  '0.003*\"University\"')]\n"
     ]
    },
    {
     "name": "stderr",
     "output_type": "stream",
     "text": [
      "/Users/alexanderbarriga/opt/anaconda3/envs/py37/lib/python3.7/site-packages/ipykernel/ipkernel.py:287: DeprecationWarning: `should_run_async` will not call `transform_cell` automatically in the future. Please pass the result to `transformed_cell` argument and any exception that happen during thetransform in `preprocessing_exc_tuple` in IPython 7.17 and above.\n",
      "  and should_run_async(code)\n"
     ]
    }
   ],
   "source": [
    "# here we are printing out the topic indices and the 10 most occuring tokens for each topic\n",
    "# this is one way to determine what topics you should create\n",
    "# However a much better way is to use the data viz tool below\n",
    "# my advise is to avoid looking at this print out since we have a better tool for determining topics \n",
    "pprint(lda_multicore.print_topics())\n",
    "#doc_lda = lda_multicore[corpus]"
   ]
  },
  {
   "cell_type": "markdown",
   "metadata": {},
   "source": [
    "### What is topic Perplexity?\n",
    "**Perplexity** is a statistical measure of how well a probability model predicts a sample. As applied to LDA, for a given value of , you estimate the LDA model. Then given the theoretical word distributions represented by the topics, compare that to the actual topic mixtures, or distribution of words in your documents.\n",
    "\n",
    "Lower values of perplexity indicate lower misrepresentation of the words of the test documents by the trained topics.\n",
    "\n",
    "However, the statistic is somewhat meaningless on its own. The benefit of this statistic comes in comparing perplexity across different models with varying scores. The model with the lowest perplexity is generally considered the “best”.\n",
    "\n",
    "### What is topic coherence?\n",
    "Topic Coherence score measures a single topic by measuring the degree of semantic similarity between high scoring words in the topic. These measurements help distinguish between topics that are semantically interpretable topics and topics that are artifacts of statistical inference.\n",
    "\n",
    "A set of statements or facts is said to be coherent, if they support each other. Thus, a coherent fact set can be interpreted in a context that covers all or most of the facts. An example of a coherent fact set is “the game is a team sport”, “the game is played with a ball”, “the game demands great physical efforts”"
   ]
  },
  {
   "cell_type": "code",
   "execution_count": 57,
   "metadata": {
    "colab": {},
    "colab_type": "code",
    "id": "xCjhr8k4LXSy"
   },
   "outputs": [
    {
     "name": "stderr",
     "output_type": "stream",
     "text": [
      "/Users/alexanderbarriga/opt/anaconda3/envs/py37/lib/python3.7/site-packages/ipykernel/ipkernel.py:287: DeprecationWarning: `should_run_async` will not call `transform_cell` automatically in the future. Please pass the result to `transformed_cell` argument and any exception that happen during thetransform in `preprocessing_exc_tuple` in IPython 7.17 and above.\n",
      "  and should_run_async(code)\n"
     ]
    },
    {
     "name": "stdout",
     "output_type": "stream",
     "text": [
      "\n",
      "Perplexity:  -8.643316502070524\n",
      "\n",
      "Coherence Score:  0.4586268708719456\n"
     ]
    }
   ],
   "source": [
    "# admittedly, Perplexity could have been given a better explanation during lecture\n",
    "# See What is topic Perplexity? above for a revised definition \n",
    "\n",
    "\n",
    "\n",
    "# Compute Perplexity\n",
    "# you can compute perplexity easily because it's a model attribute\n",
    "print('\\nPerplexity: ', lda_multicore.log_perplexity(corpus))  # a measure of how good the model is. lower the better.\n",
    "\n",
    "# Compute Coherence Score\n",
    "# to calculate Coherence, you need to import CoherenceModel from gensim \n",
    "coherence_model_lda = CoherenceModel(model=lda_multicore, \n",
    "                                     texts=df['lemmas'], \n",
    "                                     dictionary=id2word, \n",
    "                                     coherence='c_v')\n",
    "\n",
    "coherence_lda = coherence_model_lda.get_coherence()\n",
    "print('\\nCoherence Score: ', coherence_lda)"
   ]
  },
  {
   "cell_type": "markdown",
   "metadata": {},
   "source": [
    "# Part 3: Interpret LDA results & Select the appropriate number of topics"
   ]
  },
  {
   "cell_type": "code",
   "execution_count": 56,
   "metadata": {
    "colab": {},
    "colab_type": "code",
    "id": "CYXi480VLaHK"
   },
   "outputs": [
    {
     "name": "stderr",
     "output_type": "stream",
     "text": [
      "/Users/alexanderbarriga/opt/anaconda3/envs/py37/lib/python3.7/site-packages/ipykernel/ipkernel.py:287: DeprecationWarning: `should_run_async` will not call `transform_cell` automatically in the future. Please pass the result to `transformed_cell` argument and any exception that happen during thetransform in `preprocessing_exc_tuple` in IPython 7.17 and above.\n",
      "  and should_run_async(code)\n"
     ]
    },
    {
     "data": {
      "text/html": [
       "\n",
       "<link rel=\"stylesheet\" type=\"text/css\" href=\"https://cdn.rawgit.com/bmabey/pyLDAvis/files/ldavis.v1.0.0.css\">\n",
       "\n",
       "\n",
       "<div id=\"ldavis_el230461403418767177522948925668\"></div>\n",
       "<script type=\"text/javascript\">\n",
       "\n",
       "var ldavis_el230461403418767177522948925668_data = {\"mdsDat\": {\"x\": [-0.04392317216483296, -0.05704213302375102, 0.10096530518858396], \"y\": [0.06309873941633433, -0.05785980951521443, -0.0052389299011199025], \"topics\": [1, 2, 3], \"cluster\": [1, 1, 1], \"Freq\": [45.76720799856246, 34.89804126861969, 19.334750732817835]}, \"tinfo\": {\"Term\": [\"launch\", \"space\", \"Space\", \"satellite\", \"NASA\", \" \", \"rocket\", \"project\", \"say\", \"year\", \"not\", \"market\", \"  \", \"mission\", \"image\", \"format\", \"service\", \"vehicle\", \"commercial\", \"JPEG\", \"file\", \"contract\", \"cost\", \"sky\", \"available\", \"flight\", \"shuttle\", \"datum\", \"venture\", \"payload\", \"cview\", \"OTIS\", \"Duo\", \"Linux\", \"Speedstar\", \"Zoology\", \"Level\", \"Dock\", \"timer\", \"utzoohenry\", \"xxxx\", \"mans\", \"Kipling\", \"temp\", \"68070\", \"GND\", \"sleep\", \"genetheporchraidernet\", \"tax\", \"duo\", \"Quantum\", \"envelope\", \"restore\", \"JFIF\", \"MARINER\", \"24x\", \"30fps\", \"DeskJet\", \"Carpenter\", \"Vinge\", \"Wright\", \"JPEG\", \"Gene\", \"jpeg\", \"crash\", \"henryzootorontoedu\", \"hd\", \"C650\", \"Spencer\", \"keyboard\", \"Nuntius\", \"Henry\", \"not\", \"Centris\", \"switch\", \"internal\", \"pin\", \"Apple\", \"Subject\", \"line\", \" \", \"Organization\", \"tell\", \"o\", \"write\", \"have\", \"work\", \"Lines\", \"like\", \"University\", \"problem\", \"Mac\", \"be\", \"know\", \"think\", \"try\", \"article\", \"find\", \"need\", \"  \", \"want\", \"drive\", \"way\", \"new\", \"good\", \"file\", \"use\", \"image\", \"get\", \"1\", \"program\", \"time\", \"SCSI1\", \"bezier\", \"scsi2\", \"PowerPC\", \"Fotis\", \"Listing\", \"USGS\", \"Johnston\", \"oprow\", \"nfotis\", \"wate\", \"Split\", \"Newsgroup\", \"GRASP\", \"backer\", \"category\", \"log\", \"opcol\", \"CH\", \"outline\", \"SPECint92\", \"Lindbergh\", \"OSes\", \"specfp92\", \"SPD\", \"pci\", \"Gibbons\", \"Lipman\", \"tdawsonenginumichedu\", \"1quvdoinn3e7srvr1enginumichedu\", \"Gehrels\", \"den\", \"OS\", \"Visualization\", \"Redesign\", \"PDS\", \"486\", \"cartridge\", \"visualization\", \"telnet\", \"NuBus\", \"NFF\", \"tracer\", \"volume\", \"anonymous\", \"cache\", \"IBM\", \"t\", \"int\", \"curve\", \"server\", \"ftp\", \" \", \"Telescope\", \"available\", \"32\", \"map\", \"Contact\", \"postscript\", \"datum\", \"  \", \"format\", \"image\", \"card\", \"package\", \"email\", \"list\", \"graphic\", \"system\", \"send\", \"file\", \"use\", \"mail\", \"pc\", \"include\", \"Organization\", \"write\", \"Subject\", \"information\", \"article\", \"Lines\", \"University\", \"know\", \"program\", \"1\", \"post\", \"line\", \"version\", \"thank\", \"not\", \"like\", \"Space\", \"need\", \"Mac\", \"work\", \"advertising\", \"revenue\", \"Larson\", \"Larsons\", \"een\", \"PacAstro\", \"Newkirk\", \"Iridium\", \"Arianespace\", \"secondhand\", \"en\", \"Hawking\", \"commentary\", \"Commentary\", \"NTSB\", \"Thiokol\", \"UNIFIED\", \"hideous\", \"galactic\", \"Enzo\", \"Physicist\", \"Dewey\", \"Mobile\", \"X15\", \"Liguori\", \"insult\", \"GENERAL\", \"MLV\", \"Condor\", \"kc\", \"enzoresearchcanonozau\", \"transponder\", \"Galaxy\", \"firm\", \"contract\", \"billboard\", \"LTM1\", \"venture\", \"launch\", \"growth\", \"satellite\", \"Edwards\", \"rocket\", \"Dennis\", \"Centaur\", \"pilot\", \"Proton\", \"universe\", \"vandalize\", \"space\", \"Theory\", \"night\", \"Space\", \"payload\", \"NASA\", \"market\", \"sky\", \"project\", \"pad\", \"publish\", \"shuttle\", \"service\", \"star\", \"say\", \"vehicle\", \"de\", \"mission\", \"42\", \"commercial\", \"year\", \" \", \"flight\", \"cost\", \"not\", \"time\", \"Organization\", \"Pat\", \"plan\", \"like\", \"Subject\", \"Lines\", \"write\", \"think\", \"look\", \"system\", \"know\", \"include\", \"University\", \"article\", \"people\", \"work\", \"line\", \"find\"], \"Freq\": [409.0, 572.0, 505.0, 241.0, 337.0, 9478.0, 146.0, 186.0, 288.0, 406.0, 1455.0, 104.0, 1229.0, 192.0, 696.0, 283.0, 108.0, 103.0, 137.0, 148.0, 543.0, 50.0, 251.0, 73.0, 326.0, 114.0, 79.0, 334.0, 44.0, 61.0, 43.71135388685996, 28.711979775522522, 68.69655215307637, 26.73698496368845, 19.804071896501753, 59.23763243943905, 22.65514087866694, 20.340871476639382, 25.489160967580123, 30.042946186847885, 17.75130603951214, 25.63717958795234, 24.477239730496763, 20.43381700547632, 23.400999283350263, 19.095296449120074, 18.490094642722873, 17.33092973496057, 37.04374484716531, 44.033481100611255, 22.459083449704433, 16.769888759730243, 15.277167744719398, 19.700312590486597, 16.20881549492936, 14.9809981167357, 14.366978028620462, 13.31483932417402, 15.489110027915478, 13.300792553744182, 40.82077861512312, 139.01551315233283, 31.883048088739557, 35.35694091043127, 45.99877935440825, 49.88253338200093, 35.500445448840175, 56.87309301949598, 80.32868912321587, 57.41066916380541, 33.71718610695008, 85.09671564310308, 972.7313207239881, 96.25201315114342, 51.347033312348415, 103.05412762593383, 42.87990713199021, 241.59878134463395, 843.4689885996567, 569.0167316418389, 4534.159979928812, 899.8791266723913, 165.6502370460798, 134.53025931760686, 704.2373419778698, 276.7056298442607, 378.06739649836834, 534.9966984237147, 408.6655360192194, 456.9602975773725, 323.7917281974722, 269.566793269829, 287.0346501576768, 414.465130365393, 311.68492162437474, 202.58844666084954, 411.45804140727256, 267.4320651814261, 306.2831606190711, 591.7894549916748, 243.52280061143594, 227.89712830278046, 201.94433430745738, 235.89990462692944, 245.98566823162713, 295.39940548355366, 331.75309637634393, 323.50486765267897, 224.7662282153314, 261.93263468311363, 247.7244486900804, 244.91933745368337, 19.485853571336488, 14.672396452644081, 16.283921765211332, 45.3447819666153, 14.347082927880848, 15.130808395060061, 14.971050161349822, 12.899425124328598, 12.824713378082148, 12.795905363880015, 11.530290426023262, 15.224805913303033, 15.213284431104933, 11.034854380913846, 11.901479368471312, 15.203439651412848, 13.86316220967399, 11.486204968282458, 20.057993216330193, 28.867656553829217, 10.810583725672538, 10.181324169095365, 10.964027857214376, 10.412286861651436, 11.18893250789665, 10.55745827598297, 9.533871405480621, 8.983256829002121, 9.370245799580477, 9.13308595547133, 23.24344975840394, 28.564540255854528, 58.48346712189245, 12.096745040053099, 19.475997712112427, 56.37239771997013, 28.750984157863538, 31.949812463975725, 28.77046443719923, 17.741579461903356, 71.30429773954583, 17.69362970962042, 29.097327865380286, 45.51101926441451, 55.40538109315923, 53.2507075776076, 100.00191548504826, 44.853791275947316, 22.220038313824578, 32.59323043136178, 72.42663463198019, 119.61673480860966, 4058.5881300503183, 41.36817543987792, 208.13949683194997, 91.67122031496189, 59.36922399905786, 36.82967906628567, 32.064554559259, 199.04374274394925, 578.1093756112806, 169.2644032081259, 350.982909449667, 173.67803571844334, 116.81254958308404, 175.04494466188018, 99.97519657815356, 145.5679040007834, 249.82869309347916, 160.8766361377613, 238.8399640352492, 275.7764251686215, 91.06095969360892, 74.13251323887283, 157.80767471914157, 440.45983091848717, 368.4635942478459, 402.8153827674788, 135.73982731868622, 260.3878514620912, 291.8328435173721, 261.42934716497706, 242.3867930544384, 191.2366219370193, 188.8378884910544, 138.14180091222516, 247.49383684254525, 138.77160090375105, 153.73642436812918, 270.807358485415, 183.44480565692842, 160.06428485312804, 158.62639796572134, 150.35278454438608, 156.76409114000745, 25.970676433618305, 14.845949725833542, 17.677758635610857, 18.286866422278543, 13.014148023280926, 10.188576463886761, 11.036265460398816, 9.087181791182998, 10.738238106793393, 9.06848269899005, 12.232986217186882, 14.525361510995323, 8.62692671743717, 7.989935348662976, 7.988069940975942, 8.302304174822423, 9.643865824417123, 11.224660723983728, 12.383044113064127, 13.904336940741587, 9.380993391620757, 9.612512652217763, 7.549921482934734, 7.543594101906358, 12.176014552068814, 7.136609206069264, 8.309668954421907, 6.89482167756429, 6.891329579810137, 8.30772920324753, 11.08320007267506, 12.37490725247681, 10.734814896123842, 28.390495562144473, 44.78377743363557, 32.61917767610065, 12.877038171107758, 39.0502576385677, 316.7026013183936, 14.561766630082381, 182.90321416494058, 16.819301428289705, 111.60720414105162, 28.85951702894384, 20.82947643808516, 21.9191500756512, 22.340204305955616, 30.7767769112239, 24.951979682905453, 293.74605267163525, 19.70564435526061, 29.964313086706195, 250.20526833618132, 42.88006307115971, 171.6702160575688, 65.69729338673555, 48.15815057045434, 100.0534459421553, 28.725979756465254, 38.00443983803137, 48.912951130806576, 60.20353611270545, 37.25428813281435, 115.37045237301055, 55.86702729598564, 35.63822441003148, 80.97809658540515, 39.32039868186524, 64.50724649254991, 126.7263504957176, 885.5044974923779, 56.061722658585225, 83.68094750870416, 212.23352871977596, 117.843043100645, 177.96128472570524, 50.1656429848601, 55.4677331998118, 114.24120617456639, 144.92816796847427, 120.34254480659742, 129.38705616424616, 90.13875838819871, 82.56646633607677, 88.33130861107858, 93.81222696945943, 72.90513047418408, 92.81898706573409, 89.21086436369798, 69.47786569739672, 79.147358881387, 74.49646850794673, 69.67054219098219], \"Total\": [409.0, 572.0, 505.0, 241.0, 337.0, 9478.0, 146.0, 186.0, 288.0, 406.0, 1455.0, 104.0, 1229.0, 192.0, 696.0, 283.0, 108.0, 103.0, 137.0, 148.0, 543.0, 50.0, 251.0, 73.0, 326.0, 114.0, 79.0, 334.0, 44.0, 61.0, 44.58850858137073, 29.345294676166468, 70.43573075365563, 27.512311247265583, 20.402841483034138, 61.123751226576175, 23.405304312213932, 21.036381651190275, 26.39919676032309, 31.13759113414418, 18.399423232428664, 26.58581189719282, 25.401413552761245, 21.21509387814852, 24.30049763756795, 19.835624022221804, 19.21044008948373, 18.01908994631446, 38.571591402478, 45.85341965053857, 23.391364114095673, 17.473909524386954, 15.924166598811984, 20.57188062178156, 16.931074671284915, 15.648941971530236, 15.013160629988972, 13.914060755861868, 16.193481801244527, 13.913360689552471, 42.923393552370804, 148.03213315159704, 33.69788740904126, 37.52015747670553, 49.28273051415353, 54.120236593027904, 38.35180211753625, 63.6256314612839, 92.15586358607102, 64.74637539793038, 36.6109068183072, 99.43773185146884, 1455.772207929179, 115.42329525666308, 58.17097936844999, 125.82535639026449, 47.98872127123454, 335.5813553779551, 1391.2125393356098, 891.0070369923308, 9478.25260747151, 1518.3002423165835, 223.4013799254343, 178.4496417889159, 1202.087992389962, 424.7588198838286, 613.9788465197629, 947.1720867476843, 706.3515478507143, 811.2086318080836, 538.9635816118698, 431.03265851239985, 474.2611464469468, 750.6641503892909, 526.4023216646135, 310.2239935508436, 761.0567572330617, 441.75303159723654, 524.6824481111751, 1229.6539649948193, 393.06293880069666, 361.1532176700535, 313.77022673043336, 387.9924379898475, 412.9267010422241, 543.0497568655961, 670.8714932117732, 696.596841367695, 378.53654319725666, 519.4627978305458, 504.4777952779318, 493.62876986137013, 20.31134725150975, 15.322939750584718, 17.071361426553203, 47.586173849442, 15.079110973523214, 15.912169154723086, 15.746719712076903, 13.579229015880715, 13.50139938560384, 13.496622440571947, 12.162212800185735, 16.067720689243963, 16.067685190603232, 11.660450876181352, 12.578958041311797, 16.079699091799633, 14.66893442059309, 12.17320200858661, 21.30447437499739, 30.664157964151542, 11.500825152753066, 10.833221345534383, 11.66703004884558, 11.085277847410914, 11.91899943319864, 11.257043281161751, 10.168159989379744, 9.587636081503783, 10.003934688778577, 9.752370939599196, 24.872032627386986, 30.65202413269157, 63.339589342059114, 12.924936510268727, 21.07763095330788, 63.66024975528203, 31.709302420361073, 35.40835384091986, 31.76760354521544, 19.339347398993265, 84.3372621812563, 19.296988073214305, 33.1304015992325, 54.20497343987632, 67.48068284347455, 65.32292330233889, 131.67488937549408, 54.427194222207675, 24.88036731521198, 38.26787850211614, 94.22141804109982, 167.75427153547602, 9478.25260747151, 50.50153748446056, 326.4371677405525, 127.55026644900366, 77.4762529836463, 44.68281789739681, 38.132771701918536, 334.4888646229724, 1229.6539649948193, 283.99380081210364, 696.596841367695, 304.2171742810778, 194.48468345910132, 330.35903322303, 162.3309848572593, 274.39992047719807, 564.3464027277814, 315.30311294525103, 543.0497568655961, 670.8714932117732, 148.93423890038434, 114.06179029097876, 330.81858504788914, 1518.3002423165835, 1202.087992389962, 1391.2125393356098, 272.9268155105235, 761.0567572330617, 947.1720867476843, 811.2086318080836, 750.6641503892909, 504.4777952779318, 519.4627978305458, 295.07505462283484, 891.0070369923308, 301.4652082003437, 378.67270015853484, 1455.772207929179, 706.3515478507143, 505.97857846411864, 524.6824481111751, 431.03265851239985, 613.9788465197629, 27.012151329286638, 15.511420763872763, 18.590427931586035, 19.27637894136968, 13.823084206955505, 10.829343250791727, 11.765222886676021, 9.723335479701063, 11.50554506207354, 9.72140698464079, 13.138451790422591, 15.61281408482288, 9.298207898651544, 8.617033637721212, 8.617268475751619, 8.961926919865128, 10.413139481776305, 12.121076585786845, 13.380708200212053, 15.027247763801267, 10.156202801433558, 10.413438422474018, 8.191057697655303, 8.190932995916672, 13.23492868957006, 7.767050705662868, 9.050624124660864, 7.510277735052607, 7.510412203793346, 9.054761378318751, 12.126864632397439, 13.566434968308581, 11.75500843255923, 31.763637924865893, 50.92582888132264, 36.73376335586089, 14.190103370327979, 44.81072895320285, 409.99041106411374, 16.2367220394117, 241.50995232796834, 18.965022879310375, 146.96172314121526, 34.03171862612092, 23.962532755043366, 25.392976805955904, 26.171913718402113, 38.4502094893514, 30.4804142593282, 572.7335109952706, 23.612039291309035, 39.01437676664314, 505.97857846411864, 61.051209117128664, 337.8128000287543, 104.07459029316763, 73.0901931812085, 186.97641424983647, 38.78113567904319, 56.47786929421646, 79.63542496718583, 108.2812179713075, 56.71240099364206, 288.3115709766791, 103.57633751640108, 54.07783494036245, 192.07702484714613, 63.080699098621515, 137.1573564447496, 406.0479348354859, 9478.25260747151, 114.10986843932503, 251.34599271182788, 1455.772207929179, 493.62876986137013, 1518.3002423165835, 108.78595312637276, 135.79234435806262, 706.3515478507143, 1391.2125393356098, 947.1720867476843, 1202.087992389962, 526.4023216646135, 435.36977696421377, 564.3464027277814, 750.6641503892909, 330.81858504788914, 811.2086318080836, 761.0567572330617, 301.15111151071414, 613.9788465197629, 891.0070369923308, 441.75303159723654], \"Category\": [\"Default\", \"Default\", \"Default\", \"Default\", \"Default\", \"Default\", \"Default\", \"Default\", \"Default\", \"Default\", \"Default\", \"Default\", \"Default\", \"Default\", \"Default\", \"Default\", \"Default\", \"Default\", \"Default\", \"Default\", \"Default\", \"Default\", \"Default\", \"Default\", \"Default\", \"Default\", \"Default\", \"Default\", \"Default\", \"Default\", \"Topic1\", \"Topic1\", \"Topic1\", \"Topic1\", \"Topic1\", \"Topic1\", \"Topic1\", \"Topic1\", \"Topic1\", \"Topic1\", \"Topic1\", \"Topic1\", \"Topic1\", \"Topic1\", \"Topic1\", \"Topic1\", \"Topic1\", \"Topic1\", \"Topic1\", \"Topic1\", \"Topic1\", \"Topic1\", \"Topic1\", \"Topic1\", \"Topic1\", \"Topic1\", \"Topic1\", \"Topic1\", \"Topic1\", \"Topic1\", \"Topic1\", \"Topic1\", \"Topic1\", \"Topic1\", \"Topic1\", \"Topic1\", \"Topic1\", \"Topic1\", \"Topic1\", \"Topic1\", \"Topic1\", \"Topic1\", \"Topic1\", \"Topic1\", \"Topic1\", \"Topic1\", \"Topic1\", \"Topic1\", \"Topic1\", \"Topic1\", \"Topic1\", \"Topic1\", \"Topic1\", \"Topic1\", \"Topic1\", \"Topic1\", \"Topic1\", \"Topic1\", \"Topic1\", \"Topic1\", \"Topic1\", \"Topic1\", \"Topic1\", \"Topic1\", \"Topic1\", \"Topic1\", \"Topic1\", \"Topic1\", \"Topic1\", \"Topic1\", \"Topic1\", \"Topic1\", \"Topic1\", \"Topic1\", \"Topic1\", \"Topic1\", \"Topic1\", \"Topic1\", \"Topic1\", \"Topic1\", \"Topic1\", \"Topic1\", \"Topic2\", \"Topic2\", \"Topic2\", \"Topic2\", \"Topic2\", \"Topic2\", \"Topic2\", \"Topic2\", \"Topic2\", \"Topic2\", \"Topic2\", \"Topic2\", \"Topic2\", \"Topic2\", \"Topic2\", \"Topic2\", \"Topic2\", \"Topic2\", \"Topic2\", \"Topic2\", \"Topic2\", \"Topic2\", \"Topic2\", \"Topic2\", \"Topic2\", \"Topic2\", \"Topic2\", \"Topic2\", \"Topic2\", \"Topic2\", \"Topic2\", \"Topic2\", \"Topic2\", \"Topic2\", \"Topic2\", \"Topic2\", \"Topic2\", \"Topic2\", \"Topic2\", \"Topic2\", \"Topic2\", \"Topic2\", \"Topic2\", \"Topic2\", \"Topic2\", \"Topic2\", \"Topic2\", \"Topic2\", \"Topic2\", \"Topic2\", \"Topic2\", \"Topic2\", \"Topic2\", \"Topic2\", \"Topic2\", \"Topic2\", \"Topic2\", \"Topic2\", \"Topic2\", \"Topic2\", \"Topic2\", \"Topic2\", \"Topic2\", \"Topic2\", \"Topic2\", \"Topic2\", \"Topic2\", \"Topic2\", \"Topic2\", \"Topic2\", \"Topic2\", \"Topic2\", \"Topic2\", \"Topic2\", \"Topic2\", \"Topic2\", \"Topic2\", \"Topic2\", \"Topic2\", \"Topic2\", \"Topic2\", \"Topic2\", \"Topic2\", \"Topic2\", \"Topic2\", \"Topic2\", \"Topic2\", \"Topic2\", \"Topic2\", \"Topic2\", \"Topic2\", \"Topic2\", \"Topic2\", \"Topic2\", \"Topic2\", \"Topic3\", \"Topic3\", \"Topic3\", \"Topic3\", \"Topic3\", \"Topic3\", \"Topic3\", \"Topic3\", \"Topic3\", \"Topic3\", \"Topic3\", \"Topic3\", \"Topic3\", \"Topic3\", \"Topic3\", \"Topic3\", \"Topic3\", \"Topic3\", \"Topic3\", \"Topic3\", \"Topic3\", \"Topic3\", \"Topic3\", \"Topic3\", \"Topic3\", \"Topic3\", \"Topic3\", \"Topic3\", \"Topic3\", \"Topic3\", \"Topic3\", \"Topic3\", \"Topic3\", \"Topic3\", \"Topic3\", \"Topic3\", \"Topic3\", \"Topic3\", \"Topic3\", \"Topic3\", \"Topic3\", \"Topic3\", \"Topic3\", \"Topic3\", \"Topic3\", \"Topic3\", \"Topic3\", \"Topic3\", \"Topic3\", \"Topic3\", \"Topic3\", \"Topic3\", \"Topic3\", \"Topic3\", \"Topic3\", \"Topic3\", \"Topic3\", \"Topic3\", \"Topic3\", \"Topic3\", \"Topic3\", \"Topic3\", \"Topic3\", \"Topic3\", \"Topic3\", \"Topic3\", \"Topic3\", \"Topic3\", \"Topic3\", \"Topic3\", \"Topic3\", \"Topic3\", \"Topic3\", \"Topic3\", \"Topic3\", \"Topic3\", \"Topic3\", \"Topic3\", \"Topic3\", \"Topic3\", \"Topic3\", \"Topic3\", \"Topic3\", \"Topic3\", \"Topic3\", \"Topic3\", \"Topic3\", \"Topic3\", \"Topic3\", \"Topic3\", \"Topic3\", \"Topic3\", \"Topic3\"], \"logprob\": [30.0, 29.0, 28.0, 27.0, 26.0, 25.0, 24.0, 23.0, 22.0, 21.0, 20.0, 19.0, 18.0, 17.0, 16.0, 15.0, 14.0, 13.0, 12.0, 11.0, 10.0, 9.0, 8.0, 7.0, 6.0, 5.0, 4.0, 3.0, 2.0, 1.0, -7.839200019836426, -8.259499549865723, -7.3871002197265625, -8.33080005645752, -8.630900382995605, -7.535200119018555, -8.496399879455566, -8.60420036315918, -8.378499984741211, -8.214200019836426, -8.740300178527832, -8.37279987335205, -8.419099807739258, -8.599599838256836, -8.46399974822998, -8.667400360107422, -8.699600219726562, -8.764300346374512, -8.00469970703125, -7.8317999839782715, -8.50510025024414, -8.797200202941895, -8.890399932861328, -8.636199951171875, -8.831199645996094, -8.90999984741211, -8.951899528503418, -9.027899742126465, -8.876700401306152, -9.029000282287598, -7.907599925994873, -6.682199954986572, -8.15470027923584, -8.051300048828125, -7.7881999015808105, -7.707099914550781, -8.047300338745117, -7.576000213623047, -7.2307000160217285, -7.5665998458862305, -8.098799705505371, -7.172999858856201, -4.736700057983398, -7.049799919128418, -7.678199768066406, -6.981500148773193, -7.858399868011475, -6.129499912261963, -4.879300117492676, -5.272900104522705, -3.1974000930786133, -4.814499855041504, -6.506899833679199, -6.715000152587891, -5.059700012207031, -5.993800163269043, -5.681700229644775, -5.334499835968018, -5.603899955749512, -5.492199897766113, -5.836699962615967, -6.019999980926514, -5.957200050354004, -5.589799880981445, -5.874800205230713, -6.305600166320801, -5.597099781036377, -6.027900218963623, -5.892300128936768, -5.23360013961792, -6.121600151062012, -6.187900066375732, -6.308800220489502, -6.15339994430542, -6.111499786376953, -5.928500175476074, -5.812399864196777, -5.837600231170654, -6.201700210571289, -6.048699855804443, -6.104499816894531, -6.115900039672852, -8.37600040435791, -8.659700393676758, -8.555500030517578, -7.531400203704834, -8.682100296020508, -8.628899574279785, -8.63949966430664, -8.78849983215332, -8.794300079345703, -8.796500205993652, -8.900699615478516, -8.622699737548828, -8.623499870300293, -8.944600105285645, -8.869000434875488, -8.624099731445312, -8.716400146484375, -8.904500007629395, -8.347000122070312, -7.982900142669678, -8.965100288391113, -9.025099754333496, -8.951000213623047, -9.002699851989746, -8.930700302124023, -8.988800048828125, -9.090800285339355, -9.150300025939941, -9.108099937438965, -9.13379955291748, -8.199600219726562, -7.993500232696533, -7.276899814605713, -8.852700233459473, -8.376500129699707, -7.313700199127197, -7.986999988555908, -7.881499767303467, -7.986299991607666, -8.469799995422363, -7.078700065612793, -8.47249984741211, -7.974999904632568, -7.527699947357178, -7.330999851226807, -7.370699882507324, -6.740499973297119, -7.542300224304199, -8.24470043182373, -7.861599922180176, -7.0630998611450195, -6.561399936676025, -3.037100076675415, -7.623199939727783, -6.007500171661377, -6.827499866485596, -7.261899948120117, -7.7393999099731445, -7.877900123596191, -6.05210018157959, -4.985899925231934, -6.214200019836426, -5.484899997711182, -6.188499927520752, -6.585100173950195, -6.180600166320801, -6.740699768066406, -6.364999771118164, -5.824900150299072, -6.264999866485596, -5.869900226593018, -5.726099967956543, -6.834099769592285, -7.03980016708374, -6.284299850463867, -5.257800102233887, -5.436299800872803, -5.3471999168396, -6.434899806976318, -5.7835001945495605, -5.66949987411499, -5.7795000076293945, -5.855100154876709, -6.092199802398682, -6.104800224304199, -6.417399883270264, -5.8343000411987305, -6.412799835205078, -6.310400009155273, -5.74429988861084, -6.133699893951416, -6.270100116729736, -6.279099941253662, -6.332699775695801, -6.290900230407715, -7.498199939727783, -8.05739974975586, -7.882800102233887, -7.848999977111816, -8.18910026550293, -8.433899879455566, -8.353899955749512, -8.548299789428711, -8.38129997253418, -8.550299644470215, -8.25100040435791, -8.07919979095459, -8.600199699401855, -8.677000045776367, -8.677200317382812, -8.63860034942627, -8.488800048828125, -8.336999893188477, -8.238800048828125, -8.122900009155273, -8.516500473022461, -8.49209976196289, -8.733599662780762, -8.734399795532227, -8.25570011138916, -8.789899826049805, -8.637700080871582, -8.824399948120117, -8.824899673461914, -8.637999534606934, -8.349699974060059, -8.239500045776367, -8.381600379943848, -7.40910005569458, -6.9532999992370605, -7.270199775695801, -8.199700355529785, -7.0903000831604, -4.997200012207031, -8.076700210571289, -5.546199798583984, -7.932600021362305, -6.040200233459473, -7.3927001953125, -7.718800067901611, -7.667799949645996, -7.64870023727417, -7.328400135040283, -7.5381999015808105, -5.072400093078613, -7.774199962615967, -7.355100154876709, -5.232900142669678, -6.996699810028076, -5.609600067138672, -6.570099830627441, -6.8805999755859375, -6.149400234222412, -7.397299766540527, -7.117400169372559, -6.865099906921387, -6.657400131225586, -7.137400150299072, -6.006999969482422, -6.7322001457214355, -7.181700229644775, -6.361000061035156, -7.083399772644043, -6.588399887084961, -5.913099765777588, -3.9690001010894775, -6.728700160980225, -6.328100204467773, -5.39739990234375, -5.985799789428711, -5.573599815368652, -6.839799880981445, -6.739299774169922, -6.0167999267578125, -5.778900146484375, -5.964799880981445, -5.892300128936768, -6.253799915313721, -6.3414998054504395, -6.27400016784668, -6.213799953460693, -6.466000080108643, -6.2245001792907715, -6.264100074768066, -6.514100074768066, -6.383800029754639, -6.444399833679199, -6.51140022277832], \"loglift\": [30.0, 29.0, 28.0, 27.0, 26.0, 25.0, 24.0, 23.0, 22.0, 21.0, 20.0, 19.0, 18.0, 17.0, 16.0, 15.0, 14.0, 13.0, 12.0, 11.0, 10.0, 9.0, 8.0, 7.0, 6.0, 5.0, 4.0, 3.0, 2.0, 1.0, 0.7617, 0.7598, 0.7566, 0.753, 0.7518, 0.7503, 0.749, 0.748, 0.7465, 0.7458, 0.7457, 0.7453, 0.7445, 0.7441, 0.7439, 0.7436, 0.7434, 0.7427, 0.7412, 0.7411, 0.7409, 0.7405, 0.7401, 0.7383, 0.738, 0.738, 0.7376, 0.7376, 0.7371, 0.7366, 0.7314, 0.7188, 0.7262, 0.7222, 0.7126, 0.7001, 0.7043, 0.6694, 0.6442, 0.6614, 0.6993, 0.6259, 0.3784, 0.6, 0.6568, 0.582, 0.669, 0.453, 0.2812, 0.3332, 0.0442, 0.2585, 0.4825, 0.4991, 0.2469, 0.353, 0.2967, 0.2104, 0.2344, 0.2077, 0.2721, 0.3122, 0.2794, 0.1876, 0.2575, 0.3555, 0.1666, 0.2797, 0.2433, 0.0503, 0.3028, 0.3212, 0.3409, 0.284, 0.2636, 0.1727, 0.0774, 0.0146, 0.2604, 0.0969, 0.0704, 0.0807, 1.0112, 1.0094, 1.0055, 1.0045, 1.003, 1.0024, 1.0022, 1.0014, 1.0013, 0.9994, 0.9994, 0.9989, 0.9981, 0.9976, 0.9974, 0.9967, 0.9962, 0.9946, 0.9925, 0.9924, 0.9908, 0.9907, 0.9906, 0.9901, 0.9895, 0.9886, 0.9883, 0.9876, 0.9873, 0.9871, 0.985, 0.9822, 0.973, 0.9865, 0.9737, 0.9312, 0.9548, 0.95, 0.9536, 0.9665, 0.8849, 0.966, 0.9229, 0.8779, 0.8556, 0.8484, 0.7776, 0.8593, 0.9397, 0.8922, 0.7897, 0.7145, 0.2046, 0.8532, 0.6027, 0.7224, 0.7865, 0.8595, 0.8794, 0.5337, 0.298, 0.5352, 0.3673, 0.4922, 0.543, 0.4176, 0.568, 0.4188, 0.2378, 0.3798, 0.2313, 0.1638, 0.5608, 0.6219, 0.3125, -0.1848, -0.1297, -0.1867, 0.3543, -0.0198, -0.1246, -0.0796, -0.0777, 0.0827, 0.0408, 0.2938, -0.2282, 0.2769, 0.1513, -0.6291, -0.2955, -0.0982, -0.1435, -0.0005, -0.3125, 1.6039, 1.5994, 1.5929, 1.5906, 1.583, 1.5823, 1.5793, 1.5756, 1.5742, 1.5737, 1.5719, 1.5711, 1.5683, 1.5677, 1.5674, 1.5668, 1.5665, 1.5664, 1.5658, 1.5656, 1.5639, 1.5632, 1.5618, 1.5609, 1.5599, 1.5586, 1.5579, 1.5578, 1.5572, 1.5572, 1.5533, 1.5513, 1.5525, 1.531, 1.5147, 1.5245, 1.5462, 1.5057, 1.3851, 1.5344, 1.3653, 1.5232, 1.3681, 1.4784, 1.5031, 1.4962, 1.485, 1.4207, 1.4431, 0.9756, 1.4624, 1.3793, 0.9391, 1.29, 0.9663, 1.1832, 1.2261, 1.018, 1.3431, 1.2471, 1.1558, 1.0563, 1.223, 0.7274, 1.0259, 1.2263, 0.7795, 1.1706, 0.8889, 0.4788, -0.7273, 0.9326, 0.5434, -0.2823, 0.2108, -0.5005, 0.8692, 0.7479, -0.1785, -0.6184, -0.4199, -0.5857, -0.1214, -0.0193, -0.2113, -0.4364, 0.1309, -0.5246, -0.5004, 0.1767, -0.4054, -0.8383, -0.2037]}, \"token.table\": {\"Topic\": [1, 2, 3, 1, 2, 3, 1, 2, 3, 2, 1, 1, 1, 2, 3, 1, 2, 3, 1, 2, 1, 2, 1, 2, 3, 3, 1, 2, 2, 3, 1, 1, 2, 3, 1, 2, 3, 3, 3, 1, 2, 3, 1, 2, 3, 1, 3, 1, 1, 2, 3, 2, 3, 1, 3, 2, 3, 1, 2, 2, 3, 1, 2, 1, 2, 2, 1, 3, 1, 2, 3, 1, 2, 3, 3, 1, 1, 2, 3, 2, 1, 1, 3, 3, 1, 3, 1, 1, 3, 2, 1, 2, 3, 1, 2, 2, 1, 3, 1, 2, 3, 3, 1, 2, 3, 1, 2, 3, 3, 2, 3, 1, 2, 3, 1, 2, 1, 2, 2, 1, 1, 2, 3, 1, 2, 3, 1, 2, 3, 3, 1, 2, 1, 2, 3, 1, 3, 1, 2, 3, 2, 2, 2, 1, 2, 3, 1, 1, 2, 3, 2, 1, 2, 3, 1, 2, 3, 1, 2, 3, 3, 3, 2, 1, 2, 3, 1, 1, 2, 1, 2, 3, 3, 1, 2, 3, 2, 3, 1, 2, 3, 1, 2, 3, 1, 2, 3, 2, 1, 2, 3, 2, 1, 2, 3, 1, 2, 1, 2, 3, 1, 2, 3, 1, 2, 3, 1, 2, 3, 1, 2, 3, 1, 2, 3, 1, 2, 3, 1, 2, 1, 2, 1, 2, 3, 1, 2, 3, 1, 2, 1, 2, 3, 1, 2, 3, 1, 2, 3, 3, 1, 1, 3, 1, 2, 3, 1, 2, 3, 1, 3, 1, 2, 3, 1, 2, 3, 1, 2, 3, 2, 3, 1, 1, 2, 3, 1, 2, 3, 1, 2, 3, 1, 3, 1, 2, 3, 1, 2, 3, 1, 2, 3, 1, 3, 1, 2, 3, 1, 2, 3, 1, 2, 3, 3, 1, 2, 1, 2, 3, 1, 2, 3, 3, 1, 2, 1, 2, 3, 1, 2, 3, 1, 2, 3, 1, 2, 3, 1, 2, 3, 2, 1, 2, 3, 1, 2, 3, 1, 1, 2, 3, 1, 2, 3, 1, 2, 3, 1, 2, 3, 1, 2, 3, 2, 1, 2, 3, 1, 2, 3, 1, 2, 3, 2, 2, 1, 2, 3, 1, 2, 3, 1, 2, 3, 1, 2, 3, 1, 2, 3, 2, 1, 2, 3, 1, 2, 3, 1, 2, 3, 1, 2, 3, 1, 2, 3, 1, 2, 1, 2, 3, 1, 2, 3, 1, 2, 3, 1, 2, 3, 1, 3, 1, 2, 3, 1, 2, 3, 1, 2, 3, 2, 3, 1, 2, 3, 1, 2, 3, 1, 2, 3, 1, 2, 3, 1, 2, 3, 1, 1, 2, 3, 2, 1, 2, 3, 1, 2, 3, 1, 2, 3, 1, 2, 3, 1, 2, 2, 1, 2, 3, 1, 2, 3, 1, 1, 2, 3, 1, 2, 3, 1, 2, 3, 1, 2, 1, 2, 1, 2, 3, 1, 2, 3, 1, 2, 3, 1, 2, 3, 1, 2, 1, 2, 3, 1, 2, 3, 1, 2, 3, 1, 2, 3, 1, 2, 3, 1, 2, 3, 1, 2, 3, 2, 1, 2, 3, 1, 2, 3, 1, 2, 3, 1, 1, 2, 3], \"Freq\": [0.4783582151446293, 0.42824349256110505, 0.09347714570316311, 0.48143625511954025, 0.47005093827549704, 0.04879421504589935, 0.5043672060717371, 0.36383741201358133, 0.13282953137003764, 0.9228525099938296, 0.9585312558056103, 0.9325151675280706, 0.2508814829704338, 0.7212842635399971, 0.03136018537130422, 0.2536433525409303, 0.12682167627046514, 0.6182556718185176, 0.09460946066330522, 0.9145581197452838, 0.9464826746775171, 0.04115142063815292, 0.7211366070306342, 0.2681913001353598, 0.011919613339349325, 0.9560607464186985, 0.8958653720346086, 0.09430161810890617, 0.9387699338628931, 0.046938496693144656, 0.9262986295416219, 0.0417318156733466, 0.0834636313466932, 0.8763681291402786, 0.8317211858015999, 0.14728395998569999, 0.025991287056299998, 0.9283937299466795, 0.9320393887920628, 0.08951986889423635, 0.8280587872716862, 0.08951986889423635, 0.11753740808522714, 0.029384352021306785, 0.8521462086178967, 0.934306686459107, 0.9602976072166763, 0.9507338444236851, 0.9796164427018297, 0.01419733974930188, 0.01419733974930188, 0.10545729434272773, 0.8963870019131858, 0.06654578507774878, 0.9316409910884829, 0.9284366979314642, 0.8839169420594812, 0.9578725619478542, 0.9433597479896385, 0.0850701218750454, 0.9357713406254994, 0.040205801229887594, 0.9247334282874147, 0.9496144257225541, 0.029675450803829814, 0.9834621023316529, 0.06404995246642269, 0.9607492869963402, 0.8548063035766481, 0.060339268487763394, 0.0905089027316451, 0.2126449479684246, 0.7594462427443734, 0.022783387282331206, 0.9256082975629982, 0.9722008584292459, 0.9389853205563998, 0.054042320607562574, 0.006755290075945322, 0.9573444843441911, 0.9448293084221329, 0.07047165012842939, 0.9161314516695821, 0.9682402183662018, 0.05187696314964356, 0.9337853366935841, 0.9826832282628162, 0.07555764171121387, 0.9066917005345666, 0.9230864653312147, 0.5648392805124101, 0.3082861119806051, 0.12669292273175553, 0.9813788364539348, 0.93870897095923, 0.9426747449795471, 0.945007940171452, 0.9320560766120546, 0.626402651093392, 0.34800147282966226, 0.025520108007508563, 0.9766748441156758, 0.1568916275389467, 0.3345047907905845, 0.5091577346546949, 0.051821558691227905, 0.9327880564421023, 0.9283684293359817, 0.9349589128870115, 0.9335507773560537, 0.06223671849040358, 0.14228586142872163, 0.8418580134532696, 0.011857155119060136, 0.9286850000393428, 0.054628529414078995, 0.06315165667397053, 0.9156990217725727, 0.9428277765589897, 0.9882333886922284, 0.5927681330188047, 0.28979775392030455, 0.11723636408594137, 0.10995872662939395, 0.8796698130351516, 0.9234170317086317, 0.4044639839565203, 0.12869308580434735, 0.4596181635869549, 0.886157964345655, 0.04202901469506257, 0.9456528306389078, 0.07641779739605939, 0.07641779739605939, 0.8405957713566533, 0.940518043013266, 0.042750820136966634, 0.04744366206122714, 0.9014295791633157, 0.04744366206122714, 0.9354377021242508, 0.9228962600133278, 0.9564531113114803, 0.18973135244461306, 0.31621892074102176, 0.4940920636578465, 0.9802556186416918, 0.8680945182102516, 0.08680945182102517, 0.04340472591051259, 0.9335487148492246, 0.6059462347878094, 0.2896753649104237, 0.10422562757322938, 0.059404132021190575, 0.8118564709562712, 0.11880826404238115, 0.08470255259723149, 0.08470255259723149, 0.8470255259723148, 0.8926651680529878, 0.9603251754670792, 0.9525793482242395, 0.5633569245699513, 0.3217421385399503, 0.11464375051423517, 0.9343536971453408, 0.0773698191248762, 0.9284378294985144, 0.9551900864962116, 0.02329731918283443, 0.02329731918283443, 0.9766897133682018, 0.9652548938185459, 0.016360252437602474, 0.016360252437602474, 0.037020376045198505, 0.9625297771751611, 0.07409527866808634, 0.8150480653489497, 0.10373339013532087, 0.5400385662355242, 0.3416302365480201, 0.11694265789528381, 0.2420067559916708, 0.6371823448894623, 0.11947168966677418, 0.9539740859767253, 0.6051518285867115, 0.2614593266367673, 0.1328382062751318, 0.9789244260017146, 0.08166873540664188, 0.02722291180221396, 0.8983560894730607, 0.18370274006966156, 0.8113537686410053, 0.3977421731233474, 0.571959819202169, 0.03287125397713615, 0.05648384584568541, 0.9037415335309665, 0.05648384584568541, 0.06219021850414991, 0.9328532775622487, 0.9679284543965949, 0.1968541877728321, 0.32809031295472013, 0.47390822982348463, 0.07854560422220294, 0.03927280211110147, 0.8836380474997831, 0.4495794772011992, 0.218821869434212, 0.3342006733177056, 0.9333898410273603, 0.04058216700118958, 0.02029108350059479, 0.13065788320937388, 0.8623420291818676, 0.9868013396255058, 0.02242730317330695, 0.2421605277990381, 0.5949375929877603, 0.1614403518660254, 0.18491864570813707, 0.16642678113732337, 0.6657071245492935, 0.06524854578418926, 0.9461039138707443, 0.6313110027675258, 0.3378067646387638, 0.030457986975626246, 0.9595794672531736, 0.021808624255753944, 0.9404558205222142, 0.40864631029737764, 0.5297266985336376, 0.06054019411813002, 0.913349623792624, 0.9728790215077194, 0.08246154552830227, 0.907077000811325, 0.5432283069284423, 0.44010700120643287, 0.016573066991037222, 0.6044101135754838, 0.2376893705072127, 0.1584595803381418, 0.0944476198569017, 0.8815111186644159, 0.3242489059539473, 0.18403316283872684, 0.49075510090327157, 0.3978960092680446, 0.5950834120911463, 0.007042407243682205, 0.24440510292061016, 0.7153320085481273, 0.04172770049864076, 0.07473445986843598, 0.8968135184212318, 0.9434438726178345, 0.5943943961118484, 0.29059281587690367, 0.11623712635076147, 0.5957473793268823, 0.29060847772043036, 0.11382165377383523, 0.4555394906187197, 0.5320701250426646, 0.014577263699799031, 0.06158878605993755, 0.9238317908990632, 0.6521347810405901, 0.27074187660529914, 0.07769114719978149, 0.9386781849173941, 0.05214878805096634, 0.02607439402548317, 0.9238688362726283, 0.055432130176357695, 0.018477376725452566, 0.08250092249830336, 0.907510147481337, 0.4651183880820647, 0.50387825375557, 0.03158211277100439, 0.3022804779408752, 0.4776031551465828, 0.2206647488968389, 0.373726560393869, 0.4983020805251586, 0.12823950601750406, 0.9012429898129003, 0.08038466533318381, 0.8842313186650219, 0.8185949394852613, 0.12716037894916682, 0.05563266579026048, 0.9328319056691013, 0.05330468032394865, 0.026652340161974326, 0.8835130674073495, 0.8803581613592845, 0.10811416016692968, 0.5515116177924596, 0.3223811872120175, 0.12522244461954396, 0.16585753755437527, 0.06097703586557914, 0.7731888147755436, 0.5790317884125897, 0.2590777928594228, 0.16139272342062402, 0.6386032616764817, 0.27721442114954475, 0.08305209378569357, 0.2895319093968905, 0.6160253391423202, 0.09240380087134803, 0.9543978859395539, 0.46856720607128466, 0.34223781227755595, 0.19064253972508152, 0.3290042663243741, 0.6110079231738376, 0.06042935503917074, 0.9779652432862254, 0.18070053030255762, 0.7615236634179214, 0.06453590367948486, 0.23060383838547352, 0.13451890572485956, 0.6341605555600522, 0.4060870896041418, 0.17180607637098305, 0.4217058238196857, 0.5832099036313896, 0.30304044012219267, 0.11435488306497836, 0.608259277481525, 0.21907643468614246, 0.172683777929077, 0.9632039465608032, 0.10252630777431657, 0.12815788471789571, 0.7689473083073742, 0.6683737982497154, 0.186155497765337, 0.14562717906365846, 0.7565159484023425, 0.20734140808064203, 0.039226752880121465, 0.903624206042168, 0.9628631543083995, 0.03261136344161373, 0.9457295398067981, 0.03261136344161373, 0.3547837226704291, 0.6015897906150754, 0.04627613773962119, 0.23207159466615312, 0.02578573274068368, 0.7477862494798267, 0.19655630369216148, 0.11465784382042754, 0.704326754896912, 0.2893168686535161, 0.6487711600109148, 0.06137024486589735, 0.9771660040081837, 0.5744624322724611, 0.19591493354956765, 0.22912085449017233, 0.078761935447084, 0.039380967723542, 0.866381289917924, 0.8960438799142396, 0.020838229765447434, 0.08335291906178974, 0.33875252848353055, 0.25038230366173997, 0.40503019709987353, 0.4100651617421957, 0.4676776224828348, 0.12200285803900038, 0.15734497473463563, 0.8391731985847233, 0.601153790449103, 0.27831194002273285, 0.12060184067651758, 0.49159745447937786, 0.37860932986113377, 0.13082835482112476, 0.33159262492410446, 0.1337067035984292, 0.5348268143937168, 0.23017865515212074, 0.10623630237790188, 0.6728299150600453, 0.9419645233502562, 0.967029405516231, 0.19733029376726857, 0.040826957331159014, 0.7621032035149683, 0.09523417059337666, 0.14492156394644273, 0.7577327486342578, 0.42662179524507954, 0.17342349400206486, 0.39887403620474915, 0.9372421800591263, 0.9257919161515851, 0.45353183691792603, 0.5106197604460566, 0.03805861568542036, 0.20165266448985208, 0.764157465435229, 0.021226596262089694, 0.21240987523888558, 0.2308802991727017, 0.5541127180144841, 0.20091561018972248, 0.18835838455286483, 0.615304056206025, 0.23258934283909788, 0.1094538083948696, 0.6567228503692176, 0.9369905070448462, 0.261901909213129, 0.22523564192329096, 0.5133277420577329, 0.9020973707335272, 0.21159393342111016, 0.1410626222807401, 0.652414628048423, 0.8767258270996329, 0.08595351246074832, 0.017190702492149663, 0.40046325963561347, 0.4429903314553246, 0.15593259667227427, 0.12861217815898035, 0.8267925738791595, 0.0551195049252773, 0.9592552097195286, 0.02592581647890618, 0.8996460172911074, 0.7430571827954088, 0.17457367547602978, 0.08057246560432144, 0.05170805298487251, 0.930744953727705, 0.05170805298487251, 0.9427250293999376, 0.5598502345462038, 0.40668366094394043, 0.034330438910852114, 0.5927025530840733, 0.23746095876765755, 0.17097189031271345, 0.49632439387356897, 0.26538161468341853, 0.23904603460033116, 0.9469985101052004, 0.037879940404208015, 0.12073502906444286, 0.8753289607172108, 0.07371133258929238, 0.07371133258929238, 0.8845359910715085, 0.6543658911628629, 0.23209036533855235, 0.11604518266927617, 0.1300383032083278, 0.05201532128333112, 0.8062374798916323, 0.4948786814752881, 0.4114051689372877, 0.09390770160525044, 0.9634656666521404, 0.03211552222173801, 0.1312318122046469, 0.03280795305116173, 0.8201988262790432, 0.37653387767089597, 0.07723771849659405, 0.5406640294761583, 0.0669482525743553, 0.0669482525743553, 0.8703272834666189, 0.47103279628086153, 0.46108139917633634, 0.06965977973167671, 0.03147860991707104, 0.9128796875950602, 0.06295721983414208, 0.07379396660781995, 0.8486306159899294, 0.07379396660781995, 0.6207657245541551, 0.28239752223570175, 0.09667662923384383, 0.9866625586272214, 0.643783197994571, 0.24858955170087393, 0.10835954817730402, 0.6156563896991406, 0.2557091354041404, 0.12866892800590504, 0.5856476434810104, 0.3061339954559827, 0.10731327558103741, 0.978291535153956, 0.5147175544303121, 0.17239343928287965, 0.3127709541275102], \"Term\": [\" \", \" \", \" \", \"  \", \"  \", \"  \", \"1\", \"1\", \"1\", \"1quvdoinn3e7srvr1enginumichedu\", \"24x\", \"30fps\", \"32\", \"32\", \"32\", \"42\", \"42\", \"42\", \"486\", \"486\", \"68070\", \"68070\", \"Apple\", \"Apple\", \"Apple\", \"Arianespace\", \"C650\", \"C650\", \"CH\", \"CH\", \"Carpenter\", \"Centaur\", \"Centaur\", \"Centaur\", \"Centris\", \"Centris\", \"Centris\", \"Commentary\", \"Condor\", \"Contact\", \"Contact\", \"Contact\", \"Dennis\", \"Dennis\", \"Dennis\", \"DeskJet\", \"Dewey\", \"Dock\", \"Duo\", \"Duo\", \"Duo\", \"Edwards\", \"Edwards\", \"Enzo\", \"Enzo\", \"Fotis\", \"GENERAL\", \"GND\", \"GRASP\", \"Galaxy\", \"Galaxy\", \"Gehrels\", \"Gehrels\", \"Gene\", \"Gene\", \"Gibbons\", \"Hawking\", \"Hawking\", \"Henry\", \"Henry\", \"Henry\", \"IBM\", \"IBM\", \"IBM\", \"Iridium\", \"JFIF\", \"JPEG\", \"JPEG\", \"JPEG\", \"Johnston\", \"Kipling\", \"LTM1\", \"LTM1\", \"Larson\", \"Larsons\", \"Larsons\", \"Level\", \"Liguori\", \"Liguori\", \"Lindbergh\", \"Lines\", \"Lines\", \"Lines\", \"Linux\", \"Lipman\", \"Listing\", \"MARINER\", \"MLV\", \"Mac\", \"Mac\", \"Mac\", \"Mobile\", \"NASA\", \"NASA\", \"NASA\", \"NFF\", \"NFF\", \"NTSB\", \"Newkirk\", \"Newsgroup\", \"Newsgroup\", \"NuBus\", \"NuBus\", \"NuBus\", \"Nuntius\", \"Nuntius\", \"OS\", \"OS\", \"OSes\", \"OTIS\", \"Organization\", \"Organization\", \"Organization\", \"PDS\", \"PDS\", \"PacAstro\", \"Pat\", \"Pat\", \"Pat\", \"Physicist\", \"PowerPC\", \"PowerPC\", \"Proton\", \"Proton\", \"Proton\", \"Quantum\", \"Quantum\", \"Redesign\", \"Redesign\", \"Redesign\", \"SCSI1\", \"SPD\", \"SPECint92\", \"Space\", \"Space\", \"Space\", \"Speedstar\", \"Spencer\", \"Spencer\", \"Spencer\", \"Split\", \"Subject\", \"Subject\", \"Subject\", \"Telescope\", \"Telescope\", \"Telescope\", \"Theory\", \"Theory\", \"Theory\", \"Thiokol\", \"UNIFIED\", \"USGS\", \"University\", \"University\", \"University\", \"Vinge\", \"Visualization\", \"Visualization\", \"Wright\", \"Wright\", \"Wright\", \"X15\", \"Zoology\", \"Zoology\", \"Zoology\", \"advertising\", \"advertising\", \"anonymous\", \"anonymous\", \"anonymous\", \"article\", \"article\", \"article\", \"available\", \"available\", \"available\", \"backer\", \"be\", \"be\", \"be\", \"bezier\", \"billboard\", \"billboard\", \"billboard\", \"cache\", \"cache\", \"card\", \"card\", \"card\", \"cartridge\", \"cartridge\", \"cartridge\", \"category\", \"category\", \"commentary\", \"commercial\", \"commercial\", \"commercial\", \"contract\", \"contract\", \"contract\", \"cost\", \"cost\", \"cost\", \"crash\", \"crash\", \"crash\", \"curve\", \"curve\", \"cview\", \"cview\", \"datum\", \"datum\", \"datum\", \"de\", \"de\", \"de\", \"den\", \"den\", \"drive\", \"drive\", \"drive\", \"duo\", \"duo\", \"een\", \"email\", \"email\", \"email\", \"en\", \"envelope\", \"enzoresearchcanonozau\", \"enzoresearchcanonozau\", \"file\", \"file\", \"file\", \"find\", \"find\", \"find\", \"firm\", \"firm\", \"flight\", \"flight\", \"flight\", \"format\", \"format\", \"format\", \"ftp\", \"ftp\", \"ftp\", \"galactic\", \"galactic\", \"genetheporchraidernet\", \"get\", \"get\", \"get\", \"good\", \"good\", \"good\", \"graphic\", \"graphic\", \"graphic\", \"growth\", \"growth\", \"have\", \"have\", \"have\", \"hd\", \"hd\", \"hd\", \"henryzootorontoedu\", \"henryzootorontoedu\", \"henryzootorontoedu\", \"hideous\", \"hideous\", \"image\", \"image\", \"image\", \"include\", \"include\", \"include\", \"information\", \"information\", \"information\", \"insult\", \"int\", \"int\", \"internal\", \"internal\", \"internal\", \"jpeg\", \"jpeg\", \"jpeg\", \"kc\", \"keyboard\", \"keyboard\", \"know\", \"know\", \"know\", \"launch\", \"launch\", \"launch\", \"like\", \"like\", \"like\", \"line\", \"line\", \"line\", \"list\", \"list\", \"list\", \"log\", \"look\", \"look\", \"look\", \"mail\", \"mail\", \"mail\", \"mans\", \"map\", \"map\", \"map\", \"market\", \"market\", \"market\", \"mission\", \"mission\", \"mission\", \"need\", \"need\", \"need\", \"new\", \"new\", \"new\", \"nfotis\", \"night\", \"night\", \"night\", \"not\", \"not\", \"not\", \"o\", \"o\", \"o\", \"opcol\", \"oprow\", \"outline\", \"outline\", \"outline\", \"package\", \"package\", \"package\", \"pad\", \"pad\", \"pad\", \"payload\", \"payload\", \"payload\", \"pc\", \"pc\", \"pc\", \"pci\", \"people\", \"people\", \"people\", \"pilot\", \"pilot\", \"pilot\", \"pin\", \"pin\", \"pin\", \"plan\", \"plan\", \"plan\", \"post\", \"post\", \"post\", \"postscript\", \"postscript\", \"problem\", \"problem\", \"problem\", \"program\", \"program\", \"program\", \"project\", \"project\", \"project\", \"publish\", \"publish\", \"publish\", \"restore\", \"revenue\", \"rocket\", \"rocket\", \"rocket\", \"satellite\", \"satellite\", \"satellite\", \"say\", \"say\", \"say\", \"scsi2\", \"secondhand\", \"send\", \"send\", \"send\", \"server\", \"server\", \"server\", \"service\", \"service\", \"service\", \"shuttle\", \"shuttle\", \"shuttle\", \"sky\", \"sky\", \"sky\", \"sleep\", \"space\", \"space\", \"space\", \"specfp92\", \"star\", \"star\", \"star\", \"switch\", \"switch\", \"switch\", \"system\", \"system\", \"system\", \"t\", \"t\", \"t\", \"tax\", \"tax\", \"tdawsonenginumichedu\", \"tell\", \"tell\", \"tell\", \"telnet\", \"telnet\", \"telnet\", \"temp\", \"thank\", \"thank\", \"thank\", \"think\", \"think\", \"think\", \"time\", \"time\", \"time\", \"timer\", \"timer\", \"tracer\", \"tracer\", \"transponder\", \"transponder\", \"transponder\", \"try\", \"try\", \"try\", \"universe\", \"universe\", \"universe\", \"use\", \"use\", \"use\", \"utzoohenry\", \"utzoohenry\", \"vandalize\", \"vandalize\", \"vandalize\", \"vehicle\", \"vehicle\", \"vehicle\", \"venture\", \"venture\", \"venture\", \"version\", \"version\", \"version\", \"visualization\", \"visualization\", \"visualization\", \"volume\", \"volume\", \"volume\", \"want\", \"want\", \"want\", \"wate\", \"way\", \"way\", \"way\", \"work\", \"work\", \"work\", \"write\", \"write\", \"write\", \"xxxx\", \"year\", \"year\", \"year\"]}, \"R\": 30, \"lambda.step\": 0.01, \"plot.opts\": {\"xlab\": \"PC1\", \"ylab\": \"PC2\"}, \"topic.order\": [2, 3, 1]};\n",
       "\n",
       "function LDAvis_load_lib(url, callback){\n",
       "  var s = document.createElement('script');\n",
       "  s.src = url;\n",
       "  s.async = true;\n",
       "  s.onreadystatechange = s.onload = callback;\n",
       "  s.onerror = function(){console.warn(\"failed to load library \" + url);};\n",
       "  document.getElementsByTagName(\"head\")[0].appendChild(s);\n",
       "}\n",
       "\n",
       "if(typeof(LDAvis) !== \"undefined\"){\n",
       "   // already loaded: just create the visualization\n",
       "   !function(LDAvis){\n",
       "       new LDAvis(\"#\" + \"ldavis_el230461403418767177522948925668\", ldavis_el230461403418767177522948925668_data);\n",
       "   }(LDAvis);\n",
       "}else if(typeof define === \"function\" && define.amd){\n",
       "   // require.js is available: use it to load d3/LDAvis\n",
       "   require.config({paths: {d3: \"https://cdnjs.cloudflare.com/ajax/libs/d3/3.5.5/d3.min\"}});\n",
       "   require([\"d3\"], function(d3){\n",
       "      window.d3 = d3;\n",
       "      LDAvis_load_lib(\"https://cdn.rawgit.com/bmabey/pyLDAvis/files/ldavis.v1.0.0.js\", function(){\n",
       "        new LDAvis(\"#\" + \"ldavis_el230461403418767177522948925668\", ldavis_el230461403418767177522948925668_data);\n",
       "      });\n",
       "    });\n",
       "}else{\n",
       "    // require.js not available: dynamically load d3 & LDAvis\n",
       "    LDAvis_load_lib(\"https://cdnjs.cloudflare.com/ajax/libs/d3/3.5.5/d3.min.js\", function(){\n",
       "         LDAvis_load_lib(\"https://cdn.rawgit.com/bmabey/pyLDAvis/files/ldavis.v1.0.0.js\", function(){\n",
       "                 new LDAvis(\"#\" + \"ldavis_el230461403418767177522948925668\", ldavis_el230461403418767177522948925668_data);\n",
       "            })\n",
       "         });\n",
       "}\n",
       "</script>"
      ],
      "text/plain": [
       "PreparedData(topic_coordinates=              x         y  topics  cluster       Freq\n",
       "topic                                                \n",
       "1     -0.043923  0.063099       1        1  45.767208\n",
       "2     -0.057042 -0.057860       2        1  34.898041\n",
       "0      0.100965 -0.005239       3        1  19.334751, topic_info=           Term        Freq       Total Category  logprob  loglift\n",
       "1049     launch  409.000000  409.000000  Default  30.0000  30.0000\n",
       "455       space  572.000000  572.000000  Default  29.0000  29.0000\n",
       "443       Space  505.000000  505.000000  Default  28.0000  28.0000\n",
       "2920  satellite  241.000000  241.000000  Default  27.0000  27.0000\n",
       "436        NASA  337.000000  337.000000  Default  26.0000  26.0000\n",
       "...         ...         ...         ...      ...      ...      ...\n",
       "84      article   89.210864  761.056757   Topic3  -6.2641  -0.5004\n",
       "281      people   69.477866  301.151112   Topic3  -6.5141   0.1767\n",
       "157        work   79.147359  613.978847   Topic3  -6.3838  -0.4054\n",
       "99         line   74.496469  891.007037   Topic3  -6.4444  -0.8383\n",
       "581        find   69.670542  441.753032   Topic3  -6.5114  -0.2037\n",
       "\n",
       "[300 rows x 6 columns], token_table=       Topic      Freq   Term\n",
       "term                         \n",
       "0          1  0.478358       \n",
       "0          2  0.428243       \n",
       "0          3  0.093477       \n",
       "365        1  0.481436       \n",
       "365        2  0.470051       \n",
       "...      ...       ...    ...\n",
       "124        3  0.107313  write\n",
       "11777      1  0.978292   xxxx\n",
       "255        1  0.514718   year\n",
       "255        2  0.172393   year\n",
       "255        3  0.312771   year\n",
       "\n",
       "[518 rows x 3 columns], R=30, lambda_step=0.01, plot_opts={'xlab': 'PC1', 'ylab': 'PC2'}, topic_order=[2, 3, 1])"
      ]
     },
     "execution_count": 56,
     "metadata": {},
     "output_type": "execute_result"
    }
   ],
   "source": [
    "#### SPRINT CHALLENGE ####\n",
    "# this is a super useful tool for helping you determine names of topics \n",
    "# recall that you can click on 2.relevance in the bottom right-hand corner to view the white paper to help you understand why lambda = 0.60 is optimial \n",
    "# this tool is taking a high dim dataset and projecting it into 2 dim in order to visualize it\n",
    "# each blue circle is a potential topic with corresponding words and their frequencies\n",
    "# ideally, there would be little overlap between topics (i.e. we want topics to be distinct)\n",
    "# to help this, we should clean the data well, train the model well, however sometimes a document is meaningfully related to multiple topics so this is one reason why human eyes need to be involved in this process (i.e. human judgement)\n",
    "\n",
    "\n",
    "# the 3 topics that I'm workign with here don't overlap at all \n",
    "\n",
    "pyLDAvis.enable_notebook()\n",
    "vis = pyLDAvis.gensim.prepare(lda_multicore,\n",
    "                              corpus, \n",
    "                              id2word)\n",
    "vis"
   ]
  },
  {
   "cell_type": "code",
   "execution_count": 58,
   "metadata": {
    "colab": {},
    "colab_type": "code",
    "id": "rjtXk8J3LaXC"
   },
   "outputs": [
    {
     "name": "stderr",
     "output_type": "stream",
     "text": [
      "/Users/alexanderbarriga/opt/anaconda3/envs/py37/lib/python3.7/site-packages/ipykernel/ipkernel.py:287: DeprecationWarning: `should_run_async` will not call `transform_cell` automatically in the future. Please pass the result to `transformed_cell` argument and any exception that happen during thetransform in `preprocessing_exc_tuple` in IPython 7.17 and above.\n",
      "  and should_run_async(code)\n"
     ]
    }
   ],
   "source": [
    "### SPRINT CHALLENGE ####\n",
    "# this function is a nice-to-have \n",
    "# after training an LDA model, and if you have time, you can use this function to try to find the ideal number of topics for your dataset\n",
    "\n",
    "def compute_coherence_values(dictionary, corpus, texts, limit, start=2, step=3):\n",
    "    \"\"\"\n",
    "    Compute c_v coherence for various number of topics\n",
    "\n",
    "    Parameters:\n",
    "    ----------\n",
    "    dictionary : Gensim dictionary\n",
    "    corpus : Gensim corpus\n",
    "    texts : List of input texts\n",
    "    limit : Max num of topics\n",
    "\n",
    "    Returns:\n",
    "    -------\n",
    "    model_list : List of LDA topic models\n",
    "    coherence_values : Coherence values corresponding to the LDA model with respective number of topics\n",
    "    \"\"\"\n",
    "    coherence_values = []\n",
    "    model_list = []\n",
    "    \n",
    "    for num_topics in range(start, limit, step):\n",
    "        model = gensim.models.ldamulticore.LdaMulticore(corpus=corpus,\n",
    "                                                        id2word=id2word,\n",
    "                                                        num_topics=num_topics, \n",
    "                                                        chunksize=100,\n",
    "                                                        passes=10,\n",
    "                                                        per_word_topics=True,\n",
    "                                                        workers=12)\n",
    "        model_list.append(model)\n",
    "        coherencemodel = CoherenceModel(model=model, texts=texts, dictionary=dictionary, coherence='c_v')\n",
    "        coherence_values.append(coherencemodel.get_coherence())\n",
    "\n",
    "    return model_list, coherence_values"
   ]
  },
  {
   "cell_type": "code",
   "execution_count": 64,
   "metadata": {},
   "outputs": [
    {
     "name": "stderr",
     "output_type": "stream",
     "text": [
      "/Users/alexanderbarriga/opt/anaconda3/envs/py37/lib/python3.7/site-packages/ipykernel/ipkernel.py:287: DeprecationWarning: `should_run_async` will not call `transform_cell` automatically in the future. Please pass the result to `transformed_cell` argument and any exception that happen during thetransform in `preprocessing_exc_tuple` in IPython 7.17 and above.\n",
      "  and should_run_async(code)\n"
     ]
    },
    {
     "name": "stdout",
     "output_type": "stream",
     "text": [
      "CPU times: user 47.5 s, sys: 13.3 s, total: 1min\n",
      "Wall time: 34.3 s\n"
     ]
    }
   ],
   "source": [
    "%%time\n",
    "model_list, coherence_values = compute_coherence_values(dictionary=id2word, corpus=corpus, texts=df['lemmas'], start=2, limit=7, step=1)"
   ]
  },
  {
   "cell_type": "code",
   "execution_count": 65,
   "metadata": {},
   "outputs": [
    {
     "name": "stderr",
     "output_type": "stream",
     "text": [
      "/Users/alexanderbarriga/opt/anaconda3/envs/py37/lib/python3.7/site-packages/ipykernel/ipkernel.py:287: DeprecationWarning: `should_run_async` will not call `transform_cell` automatically in the future. Please pass the result to `transformed_cell` argument and any exception that happen during thetransform in `preprocessing_exc_tuple` in IPython 7.17 and above.\n",
      "  and should_run_async(code)\n"
     ]
    },
    {
     "data": {
      "text/plain": [
       "[0.47340486471125964,\n",
       " 0.4778574610353723,\n",
       " 0.47103382326535137,\n",
       " 0.4796273445666944,\n",
       " 0.4915360545907123]"
      ]
     },
     "execution_count": 65,
     "metadata": {},
     "output_type": "execute_result"
    }
   ],
   "source": [
    "coherence_values"
   ]
  },
  {
   "cell_type": "code",
   "execution_count": 67,
   "metadata": {},
   "outputs": [
    {
     "name": "stderr",
     "output_type": "stream",
     "text": [
      "/Users/alexanderbarriga/opt/anaconda3/envs/py37/lib/python3.7/site-packages/ipykernel/ipkernel.py:287: DeprecationWarning: `should_run_async` will not call `transform_cell` automatically in the future. Please pass the result to `transformed_cell` argument and any exception that happen during thetransform in `preprocessing_exc_tuple` in IPython 7.17 and above.\n",
      "  and should_run_async(code)\n"
     ]
    },
    {
     "data": {
      "image/png": "[encoded data removed]",
      "text/plain": [
       "<Figure size 432x288 with 1 Axes>"
      ]
     },
     "metadata": {
      "needs_background": "light"
     },
     "output_type": "display_data"
    }
   ],
   "source": [
    "# recall that the higher the coherence score the better (meaning that the terms in the topic are related)\n",
    "# the plot below shows that the highest scores correspond to a number of topics between 20 and 25\n",
    "# again, this a human-in-the-loop process, you can't rely on a measurement alone to determine the ideal number of topics\n",
    "# because of the 3 topics that I'm working with here don't really don't overlap, there is a clear winning for the ideal number of topics \n",
    "\n",
    "limit=7; start=2; step=1;\n",
    "x = range(start, limit, step)\n",
    "plt.plot(x, coherence_values, \"o-\")\n",
    "plt.xlabel(\"Num Topics\")\n",
    "plt.ylabel(\"Coherence score\")\n",
    "plt.legend((\"coherence_values\"), loc='best')\n",
    "plt.show()"
   ]
  },
  {
   "cell_type": "code",
   "execution_count": 62,
   "metadata": {},
   "outputs": [
    {
     "name": "stdout",
     "output_type": "stream",
     "text": [
      "Num Topics = 2  has Coherence Value of 0.463\n",
      "Num Topics = 3  has Coherence Value of 0.4733\n",
      "Num Topics = 4  has Coherence Value of 0.5109\n"
     ]
    },
    {
     "name": "stderr",
     "output_type": "stream",
     "text": [
      "/Users/alexanderbarriga/opt/anaconda3/envs/py37/lib/python3.7/site-packages/ipykernel/ipkernel.py:287: DeprecationWarning: `should_run_async` will not call `transform_cell` automatically in the future. Please pass the result to `transformed_cell` argument and any exception that happen during thetransform in `preprocessing_exc_tuple` in IPython 7.17 and above.\n",
      "  and should_run_async(code)\n"
     ]
    }
   ],
   "source": [
    "# Print the coherence scores\n",
    "for m, cv in zip(x, coherence_values):\n",
    "    print(\"Num Topics =\", m, \" has Coherence Value of\", round(cv, 4))"
   ]
  },
  {
   "cell_type": "code",
   "execution_count": null,
   "metadata": {},
   "outputs": [],
   "source": []
  }
 ],
 "metadata": {
  "colab": {
   "collapsed_sections": [],
   "name": "REFERENCE_LS_DS_414_Topic_Modeling.ipynb",
   "provenance": []
  },
  "kernelspec": {
   "display_name": "py37  (Python3)",
   "language": "python",
   "name": "py37"
  },
  "language_info": {
   "codemirror_mode": {
    "name": "ipython",
    "version": 3
   },
   "file_extension": ".py",
   "mimetype": "text/x-python",
   "name": "python",
   "nbconvert_exporter": "python",
   "pygments_lexer": "ipython3",
   "version": "3.7.0"
  }
 },
 "nbformat": 4,
 "nbformat_minor": 4
}
